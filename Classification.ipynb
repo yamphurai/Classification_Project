{
 "cells": [
  {
   "cell_type": "code",
   "execution_count": 1,
   "id": "4fd07b1e-c5af-4228-99f3-32df1d4c6af3",
   "metadata": {},
   "outputs": [
    {
     "name": "stdout",
     "output_type": "stream",
     "text": [
      "package 'maps' successfully unpacked and MD5 sums checked\n",
      "\n",
      "The downloaded binary packages are in\n",
      "\tC:\\Users\\yamph\\AppData\\Local\\Temp\\Rtmpo3USm3\\downloaded_packages\n"
     ]
    }
   ],
   "source": [
    "install.packages(\"maps\")"
   ]
  },
  {
   "cell_type": "code",
   "execution_count": 2,
   "id": "4b650d00-1dbb-4359-9c16-5bedaeefcd27",
   "metadata": {},
   "outputs": [
    {
     "name": "stderr",
     "output_type": "stream",
     "text": [
      "also installing the dependencies 'listenv', 'parallelly', 'future', 'globals', 'shape', 'future.apply', 'progressr', 'SQUAREM', 'diagram', 'lava', 'prodlim', 'proxy', 'clock', 'gower', 'hardhat', 'ipred', 'timeDate', 'e1071', 'ModelMetrics', 'pROC', 'recipes'\n",
      "\n",
      "\n"
     ]
    },
    {
     "name": "stdout",
     "output_type": "stream",
     "text": [
      "package 'listenv' successfully unpacked and MD5 sums checked\n",
      "package 'parallelly' successfully unpacked and MD5 sums checked\n",
      "package 'future' successfully unpacked and MD5 sums checked\n",
      "package 'globals' successfully unpacked and MD5 sums checked\n",
      "package 'shape' successfully unpacked and MD5 sums checked\n",
      "package 'future.apply' successfully unpacked and MD5 sums checked\n",
      "package 'progressr' successfully unpacked and MD5 sums checked\n",
      "package 'SQUAREM' successfully unpacked and MD5 sums checked\n",
      "package 'diagram' successfully unpacked and MD5 sums checked\n",
      "package 'lava' successfully unpacked and MD5 sums checked\n",
      "package 'prodlim' successfully unpacked and MD5 sums checked\n",
      "package 'proxy' successfully unpacked and MD5 sums checked\n",
      "package 'clock' successfully unpacked and MD5 sums checked\n",
      "package 'gower' successfully unpacked and MD5 sums checked\n",
      "package 'hardhat' successfully unpacked and MD5 sums checked\n",
      "package 'ipred' successfully unpacked and MD5 sums checked\n",
      "package 'timeDate' successfully unpacked and MD5 sums checked\n",
      "package 'e1071' successfully unpacked and MD5 sums checked\n",
      "package 'ModelMetrics' successfully unpacked and MD5 sums checked\n",
      "package 'pROC' successfully unpacked and MD5 sums checked\n",
      "package 'recipes' successfully unpacked and MD5 sums checked\n",
      "package 'caret' successfully unpacked and MD5 sums checked\n",
      "\n",
      "The downloaded binary packages are in\n",
      "\tC:\\Users\\yamph\\AppData\\Local\\Temp\\Rtmpo3USm3\\downloaded_packages\n"
     ]
    }
   ],
   "source": [
    "install.packages(\"caret\")"
   ]
  },
  {
   "cell_type": "code",
   "execution_count": 3,
   "id": "d09d4345-53e3-43cb-95e3-8f4954069c12",
   "metadata": {},
   "outputs": [
    {
     "name": "stderr",
     "output_type": "stream",
     "text": [
      "Warning message:\n",
      "\"package 'tidyverse' was built under R version 4.4.2\"\n",
      "── \u001b[1mAttaching core tidyverse packages\u001b[22m ──────────────────────────────────────────────────────────────── tidyverse 2.0.0 ──\n",
      "\u001b[32m✔\u001b[39m \u001b[34mdplyr    \u001b[39m 1.1.4     \u001b[32m✔\u001b[39m \u001b[34mreadr    \u001b[39m 2.1.5\n",
      "\u001b[32m✔\u001b[39m \u001b[34mforcats  \u001b[39m 1.0.0     \u001b[32m✔\u001b[39m \u001b[34mstringr  \u001b[39m 1.5.1\n",
      "\u001b[32m✔\u001b[39m \u001b[34mggplot2  \u001b[39m 3.5.1     \u001b[32m✔\u001b[39m \u001b[34mtibble   \u001b[39m 3.2.1\n",
      "\u001b[32m✔\u001b[39m \u001b[34mlubridate\u001b[39m 1.9.3     \u001b[32m✔\u001b[39m \u001b[34mtidyr    \u001b[39m 1.3.1\n",
      "\u001b[32m✔\u001b[39m \u001b[34mpurrr    \u001b[39m 1.0.2     \n",
      "── \u001b[1mConflicts\u001b[22m ────────────────────────────────────────────────────────────────────────────────── tidyverse_conflicts() ──\n",
      "\u001b[31m✖\u001b[39m \u001b[34mdplyr\u001b[39m::\u001b[32mfilter()\u001b[39m masks \u001b[34mstats\u001b[39m::filter()\n",
      "\u001b[31m✖\u001b[39m \u001b[34mdplyr\u001b[39m::\u001b[32mlag()\u001b[39m    masks \u001b[34mstats\u001b[39m::lag()\n",
      "\u001b[36mℹ\u001b[39m Use the conflicted package (\u001b[3m\u001b[34m<http://conflicted.r-lib.org/>\u001b[39m\u001b[23m) to force all conflicts to become errors\n",
      "Warning message:\n",
      "\"package 'ggcorrplot' was built under R version 4.4.2\"\n",
      "Warning message:\n",
      "\"package 'maps' was built under R version 4.4.2\"\n",
      "\n",
      "Attaching package: 'maps'\n",
      "\n",
      "\n",
      "The following object is masked from 'package:purrr':\n",
      "\n",
      "    map\n",
      "\n",
      "\n",
      "Warning message:\n",
      "\"package 'caret' was built under R version 4.4.2\"\n",
      "Loading required package: lattice\n",
      "\n",
      "\n",
      "Attaching package: 'caret'\n",
      "\n",
      "\n",
      "The following object is masked from 'package:purrr':\n",
      "\n",
      "    lift\n",
      "\n",
      "\n"
     ]
    }
   ],
   "source": [
    "# Importing necessary libraries\n",
    "library(\"tidyverse\")\n",
    "library(\"ggplot2\")\n",
    "library(\"ggrepel\")\n",
    "library(\"ggcorrplot\")\n",
    "library(\"DT\")\n",
    "library(dplyr)\n",
    "library(tidyr)\n",
    "library(stringr)\n",
    "library(maps)\n",
    "library(caret)\n",
    "library(rpart)"
   ]
  },
  {
   "cell_type": "markdown",
   "id": "516db875-24d2-44c8-9a2a-95a3d55079ff",
   "metadata": {},
   "source": [
    "# Data Preparation"
   ]
  },
  {
   "cell_type": "markdown",
   "id": "5db159c9-406b-4bb9-a81f-23624d7e333c",
   "metadata": {},
   "source": [
    "## Global Mobility Dataset"
   ]
  },
  {
   "cell_type": "code",
   "execution_count": 4,
   "id": "053c31bd-dafd-4cb1-affb-285f47349634",
   "metadata": {},
   "outputs": [],
   "source": [
    "# Retrieve \"COVID-19_global_mobility.csv\" file\n",
    "dataset_global_mobility <- read.csv(\"https://www.dropbox.com/scl/fi/x4i3ah1gmt4kryrrq0c8m/Global_Mobility_Report.csv?rlkey=tt4i5q1zss7e8ly2zmn8xvhc2&st=xnxrxz2d&dl=1\")"
   ]
  },
  {
   "cell_type": "code",
   "execution_count": 5,
   "id": "33552e32-6244-4ec4-9969-e3f93243e4ae",
   "metadata": {},
   "outputs": [],
   "source": [
    "# Convert the date column from character to Date format\n",
    "dataset_global_mobility <- dataset_global_mobility %>%\n",
    "  mutate(date = as.Date(date, format = \"%Y-%m-%d\"))\n",
    "\n",
    "# Filter the dataset to include only rows with the date \"2021-01-19\"\n",
    "dataset_global_mobility_updated <- dataset_global_mobility %>%\n",
    "  filter(date == as.Date(\"2021-01-19\"))"
   ]
  },
  {
   "cell_type": "code",
   "execution_count": 6,
   "id": "1ad8860b-afed-4e99-b515-a6cbc2637648",
   "metadata": {},
   "outputs": [
    {
     "data": {
      "text/html": [
       "<style>\n",
       ".dl-inline {width: auto; margin:0; padding: 0}\n",
       ".dl-inline>dt, .dl-inline>dd {float: none; width: auto; display: inline-block}\n",
       ".dl-inline>dt::after {content: \":\\0020\"; padding-right: .5ex}\n",
       ".dl-inline>dt:not(:first-of-type) {padding-left: .5ex}\n",
       "</style><dl class=dl-inline><dt>Min.</dt><dd><time datetime=\"2021-01-19\">2021-01-19</time></dd><dt>1st Qu.</dt><dd><time datetime=\"2021-01-19\">2021-01-19</time></dd><dt>Median</dt><dd><time datetime=\"2021-01-19\">2021-01-19</time></dd><dt>Mean</dt><dd><time datetime=\"2021-01-19\">2021-01-19</time></dd><dt>3rd Qu.</dt><dd><time datetime=\"2021-01-19\">2021-01-19</time></dd><dt>Max.</dt><dd><time datetime=\"2021-01-19\">2021-01-19</time></dd></dl>\n"
      ],
      "text/latex": [
       "\\begin{description*}\n",
       "\\item[Min.] 2021-01-19\n",
       "\\item[1st Qu.] 2021-01-19\n",
       "\\item[Median] 2021-01-19\n",
       "\\item[Mean] 2021-01-19\n",
       "\\item[3rd Qu.] 2021-01-19\n",
       "\\item[Max.] 2021-01-19\n",
       "\\end{description*}\n"
      ],
      "text/markdown": [
       "Min.\n",
       ":   2021-01-191st Qu.\n",
       ":   2021-01-19Median\n",
       ":   2021-01-19Mean\n",
       ":   2021-01-193rd Qu.\n",
       ":   2021-01-19Max.\n",
       ":   2021-01-19\n",
       "\n"
      ],
      "text/plain": [
       "        Min.      1st Qu.       Median         Mean      3rd Qu.         Max. \n",
       "\"2021-01-19\" \"2021-01-19\" \"2021-01-19\" \"2021-01-19\" \"2021-01-19\" \"2021-01-19\" "
      ]
     },
     "metadata": {},
     "output_type": "display_data"
    }
   ],
   "source": [
    "summary(dataset_global_mobility_updated$date)"
   ]
  },
  {
   "cell_type": "markdown",
   "id": "0957e85d-0a87-4c3b-b0ce-18d8905e957d",
   "metadata": {},
   "source": [
    "Only the observations from 1/19/2021 are in the global datset now."
   ]
  },
  {
   "cell_type": "code",
   "execution_count": 7,
   "id": "2b4d8bdc-f29f-4ee4-8d6a-505c6bcd23d2",
   "metadata": {},
   "outputs": [
    {
     "data": {
      "text/html": [
       "13122"
      ],
      "text/latex": [
       "13122"
      ],
      "text/markdown": [
       "13122"
      ],
      "text/plain": [
       "[1] 13122"
      ]
     },
     "metadata": {},
     "output_type": "display_data"
    }
   ],
   "source": [
    "# count of observations in the updated global mobility dataset\n",
    "nrow(dataset_global_mobility_updated)"
   ]
  },
  {
   "cell_type": "code",
   "execution_count": 8,
   "id": "5b688fea-590c-4d7f-98ba-6dad450c19db",
   "metadata": {},
   "outputs": [],
   "source": [
    "# Filter the dataset to include only rows where sub_region_2 is \"Texas\"\n",
    "dataset_global_mobility_updated <- dataset_global_mobility_updated %>%\n",
    "  filter(sub_region_1 == \"Texas\")"
   ]
  },
  {
   "cell_type": "code",
   "execution_count": 9,
   "id": "bccbfb60-4b49-493a-855f-fe651d2b0d87",
   "metadata": {},
   "outputs": [
    {
     "data": {
      "text/html": [
       "205"
      ],
      "text/latex": [
       "205"
      ],
      "text/markdown": [
       "205"
      ],
      "text/plain": [
       "[1] 205"
      ]
     },
     "metadata": {},
     "output_type": "display_data"
    }
   ],
   "source": [
    "length(unique(dataset_global_mobility_updated$sub_region_2))"
   ]
  },
  {
   "cell_type": "code",
   "execution_count": 10,
   "id": "49900de8-ce72-4b56-87d1-727166ae890b",
   "metadata": {},
   "outputs": [],
   "source": [
    "# remove the rows with missing value in the county_name column\n",
    "dataset_global_mobility_updated <- dataset_global_mobility_updated %>%\n",
    "  filter(!is.na(sub_region_2))"
   ]
  },
  {
   "cell_type": "code",
   "execution_count": 11,
   "id": "e0e915c1-93d8-45f8-a693-cfd2d75f34fe",
   "metadata": {},
   "outputs": [],
   "source": [
    "# Remove the first row using slice\n",
    "dataset_global_mobility_updated <- dataset_global_mobility_updated %>%\n",
    "  slice(-1)"
   ]
  },
  {
   "cell_type": "code",
   "execution_count": 12,
   "id": "f7a68211-a99a-437d-b3ab-9fd220eecc23",
   "metadata": {},
   "outputs": [
    {
     "data": {
      "text/html": [
       "204"
      ],
      "text/latex": [
       "204"
      ],
      "text/markdown": [
       "204"
      ],
      "text/plain": [
       "[1] 204"
      ]
     },
     "metadata": {},
     "output_type": "display_data"
    }
   ],
   "source": [
    "length(unique(dataset_global_mobility_updated$sub_region_2))"
   ]
  },
  {
   "cell_type": "code",
   "execution_count": 13,
   "id": "9d17af1c-103d-482e-8079-7cec4c08bfcf",
   "metadata": {},
   "outputs": [],
   "source": [
    "write.csv(dataset_global_mobility_updated, \"dataset_global_mobility_updated.csv\", row.names = FALSE )"
   ]
  },
  {
   "cell_type": "markdown",
   "id": "51c64e57-106b-40e2-9dbf-75c819c42509",
   "metadata": {},
   "source": [
    "## COVID-19 Plus Census Dataset"
   ]
  },
  {
   "cell_type": "code",
   "execution_count": 14,
   "id": "d4eb2c79-e8f7-4cc1-9d75-adf346ccc193",
   "metadata": {},
   "outputs": [],
   "source": [
    "# Retrieve \"COVID-19_cases_plus_census.csv\" file\n",
    "dataset_plus_census <- read.csv(\"https://raw.githubusercontent.com/yamphurai/Project2_ClusterAnalysis/refs/heads/main/updated_COVID-19_cases_plus_census.csv\")"
   ]
  },
  {
   "cell_type": "code",
   "execution_count": 15,
   "id": "cee666f0-7d80-49ef-9f14-3a39dbb317dc",
   "metadata": {},
   "outputs": [],
   "source": [
    "#filter the dataset by Texas\n",
    "dataset_plus_census <- dataset_plus_census %>% filter(state == \"TX\")"
   ]
  },
  {
   "cell_type": "code",
   "execution_count": 16,
   "id": "039ddd09-65b5-4457-8e9a-21924eb3c8cd",
   "metadata": {},
   "outputs": [
    {
     "data": {
      "text/html": [
       "254"
      ],
      "text/latex": [
       "254"
      ],
      "text/markdown": [
       "254"
      ],
      "text/plain": [
       "[1] 254"
      ]
     },
     "metadata": {},
     "output_type": "display_data"
    }
   ],
   "source": [
    "length(unique(dataset_plus_census$county_name))"
   ]
  },
  {
   "cell_type": "code",
   "execution_count": 18,
   "id": "3a62363a-ba5b-4925-803a-359b8c159a60",
   "metadata": {},
   "outputs": [
    {
     "name": "stdout",
     "output_type": "stream",
     "text": [
      " [1] \"Hansford County\"      \"Stonewall County\"     \"Cochran County\"      \n",
      " [4] \"Crockett County\"      \"King County\"          \"Briscoe County\"      \n",
      " [7] \"Cottle County\"        \"Sutton County\"        \"Menard County\"       \n",
      "[10] \"Jim Hogg County\"      \"Loving County\"        \"Edwards County\"      \n",
      "[13] \"Kinney County\"        \"Armstrong County\"     \"Foard County\"        \n",
      "[16] \"Irion County\"         \"Glasscock County\"     \"Baylor County\"       \n",
      "[19] \"Sterling County\"      \"Dickens County\"       \"Mills County\"        \n",
      "[22] \"Collingsworth County\" \"Schleicher County\"    \"Throckmorton County\" \n",
      "[25] \"Shackelford County\"   \"Knox County\"          \"Wheeler County\"      \n",
      "[28] \"Upton County\"         \"Hemphill County\"      \"Floyd County\"        \n",
      "[31] \"Donley County\"        \"Fisher County\"        \"Lipscomb County\"     \n",
      "[34] \"Delta County\"         \"Concho County\"        \"Garza County\"        \n",
      "[37] \"Hudspeth County\"      \"Real County\"          \"San Saba County\"     \n",
      "[40] \"Kenedy County\"        \"Hartley County\"       \"Jeff Davis County\"   \n",
      "[43] \"Haskell County\"       \"Mason County\"         \"Motley County\"       \n",
      "[46] \"Borden County\"        \"Kent County\"          \"Roberts County\"      \n",
      "[49] \"Terrell County\"       \"Coke County\"         \n"
     ]
    },
    {
     "data": {
      "text/html": [
       "50"
      ],
      "text/latex": [
       "50"
      ],
      "text/markdown": [
       "50"
      ],
      "text/plain": [
       "[1] 50"
      ]
     },
     "metadata": {},
     "output_type": "display_data"
    }
   ],
   "source": [
    "# Extract unique names from both columns\n",
    "sub_region_2_names <- unique(dataset_global_mobility_updated$sub_region_2)\n",
    "county_names <- unique(dataset_plus_census$county_name)\n",
    "\n",
    "# Find names that are in county_names but not in sub_region_2_names\n",
    "missing_in_sub_region_2 <- setdiff(county_names, sub_region_2_names)\n",
    "\n",
    "# Display the missing names\n",
    "print(missing_in_sub_region_2)\n",
    "length(unique(missing_in_sub_region_2))"
   ]
  },
  {
   "cell_type": "code",
   "execution_count": 19,
   "id": "fa02e096-2a9f-4993-a719-0e82ea837c5e",
   "metadata": {},
   "outputs": [],
   "source": [
    "# Remove the rows from dataset_plus_census where county_name is in names_to_remove\n",
    "dataset_plus_census <- dataset_plus_census %>%\n",
    "  filter(!county_name %in% missing_in_sub_region_2)"
   ]
  },
  {
   "cell_type": "code",
   "execution_count": 20,
   "id": "fde936f5-ba41-41aa-b5af-9f5bb8feb84d",
   "metadata": {},
   "outputs": [],
   "source": [
    "# remove the rows with missing value in the county_name column\n",
    "dataset_plus_census <- dataset_plus_census %>%\n",
    "  filter(!is.na(county_name))"
   ]
  },
  {
   "cell_type": "code",
   "execution_count": 21,
   "id": "d2dff509-7531-49de-8f04-9eb1cd5f8d25",
   "metadata": {},
   "outputs": [
    {
     "data": {
      "text/html": [
       "204"
      ],
      "text/latex": [
       "204"
      ],
      "text/markdown": [
       "204"
      ],
      "text/plain": [
       "[1] 204"
      ]
     },
     "metadata": {},
     "output_type": "display_data"
    }
   ],
   "source": [
    "length(unique(dataset_plus_census$county_name))"
   ]
  },
  {
   "cell_type": "code",
   "execution_count": 22,
   "id": "c2e2188f-944e-4261-bd1c-423f7540aa38",
   "metadata": {},
   "outputs": [],
   "source": [
    "write.csv(dataset_plus_census, \"dataset_plus_census.csv\", row.names = FALSE )"
   ]
  },
  {
   "cell_type": "markdown",
   "id": "087ccf09-eb90-4a93-8da6-2be2a40e0128",
   "metadata": {},
   "source": [
    "Finally the two datasets are ready to be merged."
   ]
  },
  {
   "cell_type": "markdown",
   "id": "57cd4082-7a61-4c70-a409-5d6ea1bf94a3",
   "metadata": {},
   "source": [
    "## Final Dataset"
   ]
  },
  {
   "cell_type": "code",
   "execution_count": 23,
   "id": "60347f07-7953-42b3-b37e-51a6d0ab3cab",
   "metadata": {},
   "outputs": [],
   "source": [
    "# Sort dataset_plus_census by county_name in ascending order\n",
    "dataset_plus_census_sorted <- dataset_plus_census %>%\n",
    "  arrange(county_name)\n",
    "\n",
    "# Sort dataset_global_mobility_updated by sub_region_2 in ascending order\n",
    "dataset_global_mobility_updated_sorted <- dataset_global_mobility_updated %>%\n",
    "  arrange(sub_region_2)\n",
    "\n",
    "# Merge the datasets column-wise\n",
    "dataset <- cbind(dataset_plus_census_sorted, dataset_global_mobility_updated_sorted)\n"
   ]
  },
  {
   "cell_type": "code",
   "execution_count": 24,
   "id": "189d3707-c583-40be-a5a6-4000ca620e23",
   "metadata": {},
   "outputs": [
    {
     "data": {
      "text/html": [
       "<table class=\"dataframe\">\n",
       "<caption>A data.frame: 10 × 47</caption>\n",
       "<thead>\n",
       "\t<tr><th></th><th scope=col>state</th><th scope=col>state_fips_code</th><th scope=col>county_name</th><th scope=col>confirmed_cases</th><th scope=col>deaths</th><th scope=col>total_pop</th><th scope=col>male_pop</th><th scope=col>female_pop</th><th scope=col>white_pop</th><th scope=col>black_pop</th><th scope=col>⋯</th><th scope=col>metro_area</th><th scope=col>iso_3166_2_code</th><th scope=col>census_fips_code</th><th scope=col>date</th><th scope=col>retail_and_recreation_percent_change_from_baseline</th><th scope=col>grocery_and_pharmacy_percent_change_from_baseline</th><th scope=col>parks_percent_change_from_baseline</th><th scope=col>transit_stations_percent_change_from_baseline</th><th scope=col>workplaces_percent_change_from_baseline</th><th scope=col>residential_percent_change_from_baseline</th></tr>\n",
       "\t<tr><th></th><th scope=col>&lt;chr&gt;</th><th scope=col>&lt;int&gt;</th><th scope=col>&lt;chr&gt;</th><th scope=col>&lt;int&gt;</th><th scope=col>&lt;int&gt;</th><th scope=col>&lt;int&gt;</th><th scope=col>&lt;int&gt;</th><th scope=col>&lt;int&gt;</th><th scope=col>&lt;int&gt;</th><th scope=col>&lt;int&gt;</th><th scope=col>⋯</th><th scope=col>&lt;chr&gt;</th><th scope=col>&lt;chr&gt;</th><th scope=col>&lt;int&gt;</th><th scope=col>&lt;date&gt;</th><th scope=col>&lt;int&gt;</th><th scope=col>&lt;int&gt;</th><th scope=col>&lt;int&gt;</th><th scope=col>&lt;int&gt;</th><th scope=col>&lt;int&gt;</th><th scope=col>&lt;int&gt;</th></tr>\n",
       "</thead>\n",
       "<tbody>\n",
       "\t<tr><th scope=row>1</th><td>TX</td><td>48</td><td>Anderson County</td><td>5575</td><td> 75</td><td>57747</td><td>35292</td><td>22455</td><td>34468</td><td>12075</td><td>⋯</td><td></td><td></td><td>48001</td><td>2021-01-19</td><td>-15</td><td>-17</td><td> NA</td><td>NA</td><td>-18</td><td> 6</td></tr>\n",
       "\t<tr><th scope=row>2</th><td>TX</td><td>48</td><td>Andrews County </td><td>1606</td><td> 37</td><td>17577</td><td> 8980</td><td> 8597</td><td> 7229</td><td>  265</td><td>⋯</td><td></td><td></td><td>48003</td><td>2021-01-19</td><td>-28</td><td> NA</td><td> NA</td><td>14</td><td>-25</td><td>NA</td></tr>\n",
       "\t<tr><th scope=row>3</th><td>TX</td><td>48</td><td>Angelina County</td><td>6765</td><td>193</td><td>87700</td><td>42707</td><td>44993</td><td>53704</td><td>12878</td><td>⋯</td><td></td><td></td><td>48005</td><td>2021-01-19</td><td>-13</td><td> -9</td><td> NA</td><td>-6</td><td>-20</td><td> 8</td></tr>\n",
       "\t<tr><th scope=row>4</th><td>TX</td><td>48</td><td>Aransas County </td><td> 895</td><td> 26</td><td>24832</td><td>12448</td><td>12384</td><td>16803</td><td>  390</td><td>⋯</td><td></td><td></td><td>48007</td><td>2021-01-19</td><td>-16</td><td>  1</td><td>-23</td><td>NA</td><td>-21</td><td> 6</td></tr>\n",
       "\t<tr><th scope=row>5</th><td>TX</td><td>48</td><td>Archer County  </td><td> 694</td><td> 10</td><td> 8793</td><td> 4335</td><td> 4458</td><td> 7787</td><td>   74</td><td>⋯</td><td></td><td></td><td>48009</td><td>2021-01-19</td><td> NA</td><td> NA</td><td> NA</td><td>NA</td><td>-17</td><td>NA</td></tr>\n",
       "\t<tr><th scope=row>6</th><td>TX</td><td>48</td><td>Atascosa County</td><td>3781</td><td> 90</td><td>48139</td><td>24051</td><td>24088</td><td>16480</td><td>  353</td><td>⋯</td><td></td><td></td><td>48013</td><td>2021-01-19</td><td>-13</td><td>-13</td><td> NA</td><td>NA</td><td>-26</td><td>11</td></tr>\n",
       "\t<tr><th scope=row>7</th><td>TX</td><td>48</td><td>Austin County  </td><td>1404</td><td> 18</td><td>29292</td><td>14474</td><td>14818</td><td>18533</td><td> 2601</td><td>⋯</td><td></td><td></td><td>48015</td><td>2021-01-19</td><td>-10</td><td> -1</td><td> NA</td><td>NA</td><td>-18</td><td> 7</td></tr>\n",
       "\t<tr><th scope=row>8</th><td>TX</td><td>48</td><td>Bailey County  </td><td> 742</td><td> 15</td><td> 7098</td><td> 3678</td><td> 3420</td><td> 2459</td><td>  108</td><td>⋯</td><td></td><td></td><td>48017</td><td>2021-01-19</td><td> NA</td><td> NA</td><td> NA</td><td>NA</td><td>-22</td><td>NA</td></tr>\n",
       "\t<tr><th scope=row>9</th><td>TX</td><td>48</td><td>Bandera County </td><td> 820</td><td> 20</td><td>21316</td><td>10570</td><td>10746</td><td>16788</td><td>  213</td><td>⋯</td><td></td><td></td><td>48019</td><td>2021-01-19</td><td> NA</td><td> NA</td><td> NA</td><td>NA</td><td>-24</td><td>11</td></tr>\n",
       "\t<tr><th scope=row>10</th><td>TX</td><td>48</td><td>Bastrop County </td><td>4373</td><td> 57</td><td>80306</td><td>40845</td><td>39461</td><td>43147</td><td> 6219</td><td>⋯</td><td></td><td></td><td>48021</td><td>2021-01-19</td><td>-15</td><td> -9</td><td> NA</td><td>NA</td><td>-30</td><td>12</td></tr>\n",
       "</tbody>\n",
       "</table>\n"
      ],
      "text/latex": [
       "A data.frame: 10 × 47\n",
       "\\begin{tabular}{r|lllllllllllllllllllll}\n",
       "  & state & state\\_fips\\_code & county\\_name & confirmed\\_cases & deaths & total\\_pop & male\\_pop & female\\_pop & white\\_pop & black\\_pop & ⋯ & metro\\_area & iso\\_3166\\_2\\_code & census\\_fips\\_code & date & retail\\_and\\_recreation\\_percent\\_change\\_from\\_baseline & grocery\\_and\\_pharmacy\\_percent\\_change\\_from\\_baseline & parks\\_percent\\_change\\_from\\_baseline & transit\\_stations\\_percent\\_change\\_from\\_baseline & workplaces\\_percent\\_change\\_from\\_baseline & residential\\_percent\\_change\\_from\\_baseline\\\\\n",
       "  & <chr> & <int> & <chr> & <int> & <int> & <int> & <int> & <int> & <int> & <int> & ⋯ & <chr> & <chr> & <int> & <date> & <int> & <int> & <int> & <int> & <int> & <int>\\\\\n",
       "\\hline\n",
       "\t1 & TX & 48 & Anderson County & 5575 &  75 & 57747 & 35292 & 22455 & 34468 & 12075 & ⋯ &  &  & 48001 & 2021-01-19 & -15 & -17 &  NA & NA & -18 &  6\\\\\n",
       "\t2 & TX & 48 & Andrews County  & 1606 &  37 & 17577 &  8980 &  8597 &  7229 &   265 & ⋯ &  &  & 48003 & 2021-01-19 & -28 &  NA &  NA & 14 & -25 & NA\\\\\n",
       "\t3 & TX & 48 & Angelina County & 6765 & 193 & 87700 & 42707 & 44993 & 53704 & 12878 & ⋯ &  &  & 48005 & 2021-01-19 & -13 &  -9 &  NA & -6 & -20 &  8\\\\\n",
       "\t4 & TX & 48 & Aransas County  &  895 &  26 & 24832 & 12448 & 12384 & 16803 &   390 & ⋯ &  &  & 48007 & 2021-01-19 & -16 &   1 & -23 & NA & -21 &  6\\\\\n",
       "\t5 & TX & 48 & Archer County   &  694 &  10 &  8793 &  4335 &  4458 &  7787 &    74 & ⋯ &  &  & 48009 & 2021-01-19 &  NA &  NA &  NA & NA & -17 & NA\\\\\n",
       "\t6 & TX & 48 & Atascosa County & 3781 &  90 & 48139 & 24051 & 24088 & 16480 &   353 & ⋯ &  &  & 48013 & 2021-01-19 & -13 & -13 &  NA & NA & -26 & 11\\\\\n",
       "\t7 & TX & 48 & Austin County   & 1404 &  18 & 29292 & 14474 & 14818 & 18533 &  2601 & ⋯ &  &  & 48015 & 2021-01-19 & -10 &  -1 &  NA & NA & -18 &  7\\\\\n",
       "\t8 & TX & 48 & Bailey County   &  742 &  15 &  7098 &  3678 &  3420 &  2459 &   108 & ⋯ &  &  & 48017 & 2021-01-19 &  NA &  NA &  NA & NA & -22 & NA\\\\\n",
       "\t9 & TX & 48 & Bandera County  &  820 &  20 & 21316 & 10570 & 10746 & 16788 &   213 & ⋯ &  &  & 48019 & 2021-01-19 &  NA &  NA &  NA & NA & -24 & 11\\\\\n",
       "\t10 & TX & 48 & Bastrop County  & 4373 &  57 & 80306 & 40845 & 39461 & 43147 &  6219 & ⋯ &  &  & 48021 & 2021-01-19 & -15 &  -9 &  NA & NA & -30 & 12\\\\\n",
       "\\end{tabular}\n"
      ],
      "text/markdown": [
       "\n",
       "A data.frame: 10 × 47\n",
       "\n",
       "| <!--/--> | state &lt;chr&gt; | state_fips_code &lt;int&gt; | county_name &lt;chr&gt; | confirmed_cases &lt;int&gt; | deaths &lt;int&gt; | total_pop &lt;int&gt; | male_pop &lt;int&gt; | female_pop &lt;int&gt; | white_pop &lt;int&gt; | black_pop &lt;int&gt; | ⋯ ⋯ | metro_area &lt;chr&gt; | iso_3166_2_code &lt;chr&gt; | census_fips_code &lt;int&gt; | date &lt;date&gt; | retail_and_recreation_percent_change_from_baseline &lt;int&gt; | grocery_and_pharmacy_percent_change_from_baseline &lt;int&gt; | parks_percent_change_from_baseline &lt;int&gt; | transit_stations_percent_change_from_baseline &lt;int&gt; | workplaces_percent_change_from_baseline &lt;int&gt; | residential_percent_change_from_baseline &lt;int&gt; |\n",
       "|---|---|---|---|---|---|---|---|---|---|---|---|---|---|---|---|---|---|---|---|---|---|\n",
       "| 1 | TX | 48 | Anderson County | 5575 |  75 | 57747 | 35292 | 22455 | 34468 | 12075 | ⋯ | <!----> | <!----> | 48001 | 2021-01-19 | -15 | -17 |  NA | NA | -18 |  6 |\n",
       "| 2 | TX | 48 | Andrews County  | 1606 |  37 | 17577 |  8980 |  8597 |  7229 |   265 | ⋯ | <!----> | <!----> | 48003 | 2021-01-19 | -28 |  NA |  NA | 14 | -25 | NA |\n",
       "| 3 | TX | 48 | Angelina County | 6765 | 193 | 87700 | 42707 | 44993 | 53704 | 12878 | ⋯ | <!----> | <!----> | 48005 | 2021-01-19 | -13 |  -9 |  NA | -6 | -20 |  8 |\n",
       "| 4 | TX | 48 | Aransas County  |  895 |  26 | 24832 | 12448 | 12384 | 16803 |   390 | ⋯ | <!----> | <!----> | 48007 | 2021-01-19 | -16 |   1 | -23 | NA | -21 |  6 |\n",
       "| 5 | TX | 48 | Archer County   |  694 |  10 |  8793 |  4335 |  4458 |  7787 |    74 | ⋯ | <!----> | <!----> | 48009 | 2021-01-19 |  NA |  NA |  NA | NA | -17 | NA |\n",
       "| 6 | TX | 48 | Atascosa County | 3781 |  90 | 48139 | 24051 | 24088 | 16480 |   353 | ⋯ | <!----> | <!----> | 48013 | 2021-01-19 | -13 | -13 |  NA | NA | -26 | 11 |\n",
       "| 7 | TX | 48 | Austin County   | 1404 |  18 | 29292 | 14474 | 14818 | 18533 |  2601 | ⋯ | <!----> | <!----> | 48015 | 2021-01-19 | -10 |  -1 |  NA | NA | -18 |  7 |\n",
       "| 8 | TX | 48 | Bailey County   |  742 |  15 |  7098 |  3678 |  3420 |  2459 |   108 | ⋯ | <!----> | <!----> | 48017 | 2021-01-19 |  NA |  NA |  NA | NA | -22 | NA |\n",
       "| 9 | TX | 48 | Bandera County  |  820 |  20 | 21316 | 10570 | 10746 | 16788 |   213 | ⋯ | <!----> | <!----> | 48019 | 2021-01-19 |  NA |  NA |  NA | NA | -24 | 11 |\n",
       "| 10 | TX | 48 | Bastrop County  | 4373 |  57 | 80306 | 40845 | 39461 | 43147 |  6219 | ⋯ | <!----> | <!----> | 48021 | 2021-01-19 | -15 |  -9 |  NA | NA | -30 | 12 |\n",
       "\n"
      ],
      "text/plain": [
       "   state state_fips_code county_name     confirmed_cases deaths total_pop\n",
       "1  TX    48              Anderson County 5575             75    57747    \n",
       "2  TX    48              Andrews County  1606             37    17577    \n",
       "3  TX    48              Angelina County 6765            193    87700    \n",
       "4  TX    48              Aransas County   895             26    24832    \n",
       "5  TX    48              Archer County    694             10     8793    \n",
       "6  TX    48              Atascosa County 3781             90    48139    \n",
       "7  TX    48              Austin County   1404             18    29292    \n",
       "8  TX    48              Bailey County    742             15     7098    \n",
       "9  TX    48              Bandera County   820             20    21316    \n",
       "10 TX    48              Bastrop County  4373             57    80306    \n",
       "   male_pop female_pop white_pop black_pop ⋯ metro_area iso_3166_2_code\n",
       "1  35292    22455      34468     12075     ⋯                           \n",
       "2   8980     8597       7229       265     ⋯                           \n",
       "3  42707    44993      53704     12878     ⋯                           \n",
       "4  12448    12384      16803       390     ⋯                           \n",
       "5   4335     4458       7787        74     ⋯                           \n",
       "6  24051    24088      16480       353     ⋯                           \n",
       "7  14474    14818      18533      2601     ⋯                           \n",
       "8   3678     3420       2459       108     ⋯                           \n",
       "9  10570    10746      16788       213     ⋯                           \n",
       "10 40845    39461      43147      6219     ⋯                           \n",
       "   census_fips_code date      \n",
       "1  48001            2021-01-19\n",
       "2  48003            2021-01-19\n",
       "3  48005            2021-01-19\n",
       "4  48007            2021-01-19\n",
       "5  48009            2021-01-19\n",
       "6  48013            2021-01-19\n",
       "7  48015            2021-01-19\n",
       "8  48017            2021-01-19\n",
       "9  48019            2021-01-19\n",
       "10 48021            2021-01-19\n",
       "   retail_and_recreation_percent_change_from_baseline\n",
       "1  -15                                               \n",
       "2  -28                                               \n",
       "3  -13                                               \n",
       "4  -16                                               \n",
       "5   NA                                               \n",
       "6  -13                                               \n",
       "7  -10                                               \n",
       "8   NA                                               \n",
       "9   NA                                               \n",
       "10 -15                                               \n",
       "   grocery_and_pharmacy_percent_change_from_baseline\n",
       "1  -17                                              \n",
       "2   NA                                              \n",
       "3   -9                                              \n",
       "4    1                                              \n",
       "5   NA                                              \n",
       "6  -13                                              \n",
       "7   -1                                              \n",
       "8   NA                                              \n",
       "9   NA                                              \n",
       "10  -9                                              \n",
       "   parks_percent_change_from_baseline\n",
       "1   NA                               \n",
       "2   NA                               \n",
       "3   NA                               \n",
       "4  -23                               \n",
       "5   NA                               \n",
       "6   NA                               \n",
       "7   NA                               \n",
       "8   NA                               \n",
       "9   NA                               \n",
       "10  NA                               \n",
       "   transit_stations_percent_change_from_baseline\n",
       "1  NA                                           \n",
       "2  14                                           \n",
       "3  -6                                           \n",
       "4  NA                                           \n",
       "5  NA                                           \n",
       "6  NA                                           \n",
       "7  NA                                           \n",
       "8  NA                                           \n",
       "9  NA                                           \n",
       "10 NA                                           \n",
       "   workplaces_percent_change_from_baseline\n",
       "1  -18                                    \n",
       "2  -25                                    \n",
       "3  -20                                    \n",
       "4  -21                                    \n",
       "5  -17                                    \n",
       "6  -26                                    \n",
       "7  -18                                    \n",
       "8  -22                                    \n",
       "9  -24                                    \n",
       "10 -30                                    \n",
       "   residential_percent_change_from_baseline\n",
       "1   6                                      \n",
       "2  NA                                      \n",
       "3   8                                      \n",
       "4   6                                      \n",
       "5  NA                                      \n",
       "6  11                                      \n",
       "7   7                                      \n",
       "8  NA                                      \n",
       "9  11                                      \n",
       "10 12                                      "
      ]
     },
     "metadata": {},
     "output_type": "display_data"
    }
   ],
   "source": [
    "head(dataset, 10)"
   ]
  },
  {
   "cell_type": "code",
   "execution_count": 26,
   "id": "017c1b16-da3f-48a4-8f6b-ac4a293253c3",
   "metadata": {},
   "outputs": [
    {
     "name": "stdout",
     "output_type": "stream",
     "text": [
      "[1] \"Columns with missing values:\"\n",
      "[1] \"retail_and_recreation_percent_change_from_baseline\"\n",
      "[2] \"grocery_and_pharmacy_percent_change_from_baseline\" \n",
      "[3] \"parks_percent_change_from_baseline\"                \n",
      "[4] \"transit_stations_percent_change_from_baseline\"     \n",
      "[5] \"workplaces_percent_change_from_baseline\"           \n",
      "[6] \"residential_percent_change_from_baseline\"          \n"
     ]
    }
   ],
   "source": [
    "# Check for missing values in each column\n",
    "missing_values <- colSums(is.na(dataset))\n",
    "\n",
    "# Print the names of columns that have missing values\n",
    "columns_with_missing_values <- names(missing_values[missing_values > 0])\n",
    "\n",
    "# Print the names of columns with missing values\n",
    "print(\"Columns with missing values:\")\n",
    "print(columns_with_missing_values)"
   ]
  },
  {
   "cell_type": "code",
   "execution_count": 27,
   "id": "2d19425c-6b7b-4087-ad1a-50ea44eeca86",
   "metadata": {},
   "outputs": [
    {
     "name": "stdout",
     "output_type": "stream",
     "text": [
      "[1] \"Total number of observations: \"\n",
      "[1] 204\n"
     ]
    },
    {
     "data": {
      "text/html": [
       "91"
      ],
      "text/latex": [
       "91"
      ],
      "text/markdown": [
       "91"
      ],
      "text/plain": [
       "[1] 91"
      ]
     },
     "metadata": {},
     "output_type": "display_data"
    },
    {
     "data": {
      "text/html": [
       "104"
      ],
      "text/latex": [
       "104"
      ],
      "text/markdown": [
       "104"
      ],
      "text/plain": [
       "[1] 104"
      ]
     },
     "metadata": {},
     "output_type": "display_data"
    },
    {
     "data": {
      "text/html": [
       "155"
      ],
      "text/latex": [
       "155"
      ],
      "text/markdown": [
       "155"
      ],
      "text/plain": [
       "[1] 155"
      ]
     },
     "metadata": {},
     "output_type": "display_data"
    },
    {
     "data": {
      "text/html": [
       "114"
      ],
      "text/latex": [
       "114"
      ],
      "text/markdown": [
       "114"
      ],
      "text/plain": [
       "[1] 114"
      ]
     },
     "metadata": {},
     "output_type": "display_data"
    },
    {
     "data": {
      "text/html": [
       "9"
      ],
      "text/latex": [
       "9"
      ],
      "text/markdown": [
       "9"
      ],
      "text/plain": [
       "[1] 9"
      ]
     },
     "metadata": {},
     "output_type": "display_data"
    },
    {
     "data": {
      "text/html": [
       "93"
      ],
      "text/latex": [
       "93"
      ],
      "text/markdown": [
       "93"
      ],
      "text/plain": [
       "[1] 93"
      ]
     },
     "metadata": {},
     "output_type": "display_data"
    }
   ],
   "source": [
    "print(\"Total number of observations: \")\n",
    "print(nrow(dataset))\n",
    "\n",
    "#Count of missing values in these columns\n",
    "sum(is.na(dataset[\"retail_and_recreation_percent_change_from_baseline\"]))\n",
    "sum(is.na(dataset[\"grocery_and_pharmacy_percent_change_from_baseline\"]))\n",
    "sum(is.na(dataset[\"parks_percent_change_from_baseline\"]))\n",
    "sum(is.na(dataset[\"transit_stations_percent_change_from_baseline\"]))\n",
    "sum(is.na(dataset[\"workplaces_percent_change_from_baseline\"]))\n",
    "sum(is.na(dataset[\"residential_percent_change_from_baseline\"]))"
   ]
  },
  {
   "cell_type": "markdown",
   "id": "6841d090-c004-44ba-a141-f7f16d080d65",
   "metadata": {},
   "source": [
    "Since most of these feature columns have too many missing values, we will be replacing them with the average value from their corresponding column."
   ]
  },
  {
   "cell_type": "code",
   "execution_count": 28,
   "id": "f2d96d55-96df-4619-90c1-b1149f648b51",
   "metadata": {},
   "outputs": [],
   "source": [
    "# Replace the missing values with mean values\n",
    "mean_value_retail <- mean(dataset$retail_and_recreation_percent_change_from_baseline, na.rm = TRUE)\n",
    "dataset$retail_and_recreation_percent_change_from_baseline[is.na(dataset$retail_and_recreation_percent_change_from_baseline)] <- mean_value_retail\n",
    "\n",
    "mean_value_grocery_pharmacy <- mean(dataset$grocery_and_pharmacy_percent_change_from_baseline, na.rm = TRUE)\n",
    "dataset$grocery_and_pharmacy_percent_change_from_baseline[is.na(dataset$grocery_and_pharmacy_percent_change_from_baseline)] <- mean_value_grocery_pharmacy\n",
    "\n",
    "mean_value_parks <- mean(dataset$parks_percent_change_from_baseline, na.rm = TRUE)\n",
    "dataset$parks_percent_change_from_baseline[is.na(dataset$parks_percent_change_from_baseline)] <- mean_value_parks\n",
    "\n",
    "mean_value_transit_stations <- mean(dataset$transit_stations_percent_change_from_baseline, na.rm = TRUE)\n",
    "dataset$transit_stations_percent_change_from_baseline[is.na(dataset$transit_stations_percent_change_from_baseline)] <- mean_value_transit_stations\n",
    "\n",
    "mean_value_workplaces <- mean(dataset$workplaces_percent_change_from_baseline, na.rm = TRUE)\n",
    "dataset$workplaces_percent_change_from_baseline[is.na(dataset$workplaces_percent_change_from_baseline)] <- mean_value_workplaces\n",
    "\n",
    "mean_value_residential <- mean(dataset$residential_percent_change_from_baseline, na.rm = TRUE)\n",
    "dataset$residential_percent_change_from_baseline[is.na(dataset$residential_percent_change_from_baseline)] <- mean_value_residential"
   ]
  },
  {
   "cell_type": "code",
   "execution_count": 29,
   "id": "fc44f081-0a0b-48b3-b693-280e209686d5",
   "metadata": {},
   "outputs": [
    {
     "data": {
      "text/html": [
       "0"
      ],
      "text/latex": [
       "0"
      ],
      "text/markdown": [
       "0"
      ],
      "text/plain": [
       "[1] 0"
      ]
     },
     "metadata": {},
     "output_type": "display_data"
    },
    {
     "data": {
      "text/html": [
       "0"
      ],
      "text/latex": [
       "0"
      ],
      "text/markdown": [
       "0"
      ],
      "text/plain": [
       "[1] 0"
      ]
     },
     "metadata": {},
     "output_type": "display_data"
    },
    {
     "data": {
      "text/html": [
       "0"
      ],
      "text/latex": [
       "0"
      ],
      "text/markdown": [
       "0"
      ],
      "text/plain": [
       "[1] 0"
      ]
     },
     "metadata": {},
     "output_type": "display_data"
    },
    {
     "data": {
      "text/html": [
       "0"
      ],
      "text/latex": [
       "0"
      ],
      "text/markdown": [
       "0"
      ],
      "text/plain": [
       "[1] 0"
      ]
     },
     "metadata": {},
     "output_type": "display_data"
    },
    {
     "data": {
      "text/html": [
       "0"
      ],
      "text/latex": [
       "0"
      ],
      "text/markdown": [
       "0"
      ],
      "text/plain": [
       "[1] 0"
      ]
     },
     "metadata": {},
     "output_type": "display_data"
    },
    {
     "data": {
      "text/html": [
       "0"
      ],
      "text/latex": [
       "0"
      ],
      "text/markdown": [
       "0"
      ],
      "text/plain": [
       "[1] 0"
      ]
     },
     "metadata": {},
     "output_type": "display_data"
    }
   ],
   "source": [
    "#Check for the missing values in the updated coloumns\n",
    "sum(is.na(dataset[\"retail_and_recreation_percent_change_from_baseline\"]))\n",
    "sum(is.na(dataset[\"grocery_and_pharmacy_percent_change_from_baseline\"]))\n",
    "sum(is.na(dataset[\"parks_percent_change_from_baseline\"]))\n",
    "sum(is.na(dataset[\"transit_stations_percent_change_from_baseline\"]))\n",
    "sum(is.na(dataset[\"workplaces_percent_change_from_baseline\"]))\n",
    "sum(is.na(dataset[\"residential_percent_change_from_baseline\"]))"
   ]
  },
  {
   "cell_type": "code",
   "execution_count": 30,
   "id": "cb3736a9-9dd0-45f6-a9df-c149a6d8a5e3",
   "metadata": {},
   "outputs": [],
   "source": [
    "# Drop the specified columns\n",
    "dataset <- dataset %>% select(-state, -state_fips_code, -country_region_code, -country_region, -sub_region_1, -sub_region_2, -metro_area, \n",
    "                              -iso_3166_2_code, -census_fips_code, -date)"
   ]
  },
  {
   "cell_type": "code",
   "execution_count": 31,
   "id": "c16fd482-87d0-44bc-b755-3857ce944faf",
   "metadata": {},
   "outputs": [
    {
     "data": {
      "text/plain": [
       " county_name        confirmed_cases        deaths         total_pop      \n",
       " Length:204         Min.   :    70.0   Min.   :   2.0   Min.   :    600  \n",
       " Class :character   1st Qu.:   941.5   1st Qu.:  21.0   1st Qu.:  12635  \n",
       " Mode  :character   Median :  1889.5   Median :  45.5   Median :  24898  \n",
       "                    Mean   : 10424.4   Mean   : 157.0   Mean   : 133668  \n",
       "                    3rd Qu.:  5066.5   3rd Qu.: 103.8   3rd Qu.:  66671  \n",
       "                    Max.   :286356.0   Max.   :3825.0   Max.   :4525519  \n",
       "    male_pop         female_pop        white_pop         black_pop       \n",
       " Min.   :    321   Min.   :    279   Min.   :    292   Min.   :     0.0  \n",
       " 1st Qu.:   6365   1st Qu.:   5955   1st Qu.:   6792   1st Qu.:   269.5  \n",
       " Median :  12552   Median :  12336   Median :  14862   Median :  1375.5  \n",
       " Mean   :  66364   Mean   :  67304   Mean   :  57194   Mean   : 15664.0  \n",
       " 3rd Qu.:  34017   3rd Qu.:  33479   3rd Qu.:  41819   3rd Qu.:  5501.2  \n",
       " Max.   :2251060   Max.   :2274459   Max.   :1386576   Max.   :838285.0  \n",
       "   asian_pop          hispanic_pop     amerindian_pop   other_race_pop   \n",
       " Min.   :     0.00   Min.   :    303   Min.   :   0.0   Min.   :   0.00  \n",
       " 1st Qu.:    33.75   1st Qu.:   3279   1st Qu.:  23.0   1st Qu.:   0.00  \n",
       " Median :   134.00   Median :   6912   Median :  66.5   Median :  11.50  \n",
       " Mean   :  5992.21   Mean   :  52044   Mean   : 321.0   Mean   : 191.36  \n",
       " 3rd Qu.:   673.25   3rd Qu.:  19083   3rd Qu.: 250.0   3rd Qu.:  58.25  \n",
       " Max.   :307109.00   Max.   :1910535   Max.   :8078.0   Max.   :9681.00  \n",
       " median_income   income_less_50K  income_50K_100K  income_100K_150K  \n",
       " Min.   :24794   Min.   :    78   Min.   :    61   Min.   :    14.0  \n",
       " 1st Qu.:42436   1st Qu.:  2434   1st Qu.:  1212   1st Qu.:   450.2  \n",
       " Median :48661   Median :  4721   Median :  2625   Median :  1049.5  \n",
       " Mean   :50249   Mean   : 20232   Mean   : 13735   Mean   :  6450.1  \n",
       " 3rd Qu.:55754   3rd Qu.: 10978   3rd Qu.:  7135   3rd Qu.:  3050.8  \n",
       " Max.   :93645   Max.   :680347   Max.   :452938   Max.   :214604.0  \n",
       " income_150K_more   rent_under_50_percent rent_over_50_percent   median_age   \n",
       " Min.   :     7.0   Min.   :    44        Min.   :     0.0     Min.   :25.80  \n",
       " 1st Qu.:   240.8   1st Qu.:   761        1st Qu.:   156.8     1st Qu.:34.00  \n",
       " Median :   597.5   Median :  1498        Median :   364.0     Median :37.50  \n",
       " Mean   :  5541.5   Mean   : 12502        Mean   :  3696.2     Mean   :38.17  \n",
       " 3rd Qu.:  1924.0   3rd Qu.:  4419        3rd Qu.:  1234.8     3rd Qu.:42.00  \n",
       " Max.   :214924.0   Max.   :510028        Max.   :158668.0     Max.   :57.10  \n",
       "   male_0_20        male_21_49     male_50_above     female_0_20    \n",
       " Min.   :    91   Min.   :   108   Min.   :   144   Min.   :    79  \n",
       " 1st Qu.:  1834   1st Qu.:  2273   1st Qu.:  2464   1st Qu.:  1756  \n",
       " Median :  3811   Median :  4714   Median :  5149   Median :  3434  \n",
       " Mean   : 20948   Mean   : 27123   Mean   : 19738   Mean   : 20009  \n",
       " 3rd Qu.: 10722   3rd Qu.: 12290   3rd Qu.: 12226   3rd Qu.: 10102  \n",
       " Max.   :716309   Max.   :972577   Max.   :604775   Max.   :685520  \n",
       "  female_21_49    female_50_above  unemployed_pop      employed_pop    \n",
       " Min.   :    77   Min.   :   151   Min.   :    24.0   Min.   :    202  \n",
       " 1st Qu.:  1979   1st Qu.:  2559   1st Qu.:   326.8   1st Qu.:   4915  \n",
       " Median :  4004   Median :  5311   Median :   698.5   Median :  10279  \n",
       " Mean   : 26685   Mean   : 22106   Mean   :  3830.1   Mean   :  61896  \n",
       " 3rd Qu.: 11970   3rd Qu.: 12754   3rd Qu.:  2119.0   3rd Qu.:  27636  \n",
       " Max.   :958079   Max.   :670145   Max.   :149192.0   Max.   :2180392  \n",
       "    commute        worked_at_home    walked_to_work    \n",
       " Min.   :    288   Min.   :    0.0   Min.   :    0.00  \n",
       " 1st Qu.:   8685   1st Qu.:  158.5   1st Qu.:   86.75  \n",
       " Median :  18611   Median :  327.5   Median :  182.50  \n",
       " Mean   : 112951   Mean   : 2742.7   Mean   :  947.80  \n",
       " 3rd Qu.:  50831   3rd Qu.: 1091.5   3rd Qu.:  496.25  \n",
       " Max.   :3975632   Max.   :79181.0   Max.   :32750.00  \n",
       " retail_and_recreation_percent_change_from_baseline\n",
       " Min.   :-49.00                                    \n",
       " 1st Qu.:-17.25                                    \n",
       " Median :-17.25                                    \n",
       " Mean   :-17.25                                    \n",
       " 3rd Qu.:-15.00                                    \n",
       " Max.   :  3.00                                    \n",
       " grocery_and_pharmacy_percent_change_from_baseline\n",
       " Min.   :-50.00                                   \n",
       " 1st Qu.:-10.86                                   \n",
       " Median :-10.86                                   \n",
       " Mean   :-10.86                                   \n",
       " 3rd Qu.:-10.00                                   \n",
       " Max.   : 13.00                                   \n",
       " parks_percent_change_from_baseline\n",
       " Min.   :-61.00                    \n",
       " 1st Qu.:-23.06                    \n",
       " Median :-23.06                    \n",
       " Mean   :-23.06                    \n",
       " 3rd Qu.:-23.06                    \n",
       " Max.   : 18.00                    \n",
       " transit_stations_percent_change_from_baseline\n",
       " Min.   :-61.00                               \n",
       " 1st Qu.:-11.06                               \n",
       " Median :-11.06                               \n",
       " Mean   :-11.06                               \n",
       " 3rd Qu.:-11.06                               \n",
       " Max.   : 76.00                               \n",
       " workplaces_percent_change_from_baseline\n",
       " Min.   :-49.00                         \n",
       " 1st Qu.:-27.00                         \n",
       " Median :-21.00                         \n",
       " Mean   :-22.69                         \n",
       " 3rd Qu.:-17.00                         \n",
       " Max.   : -8.00                         \n",
       " residential_percent_change_from_baseline\n",
       " Min.   : 2.000                          \n",
       " 1st Qu.: 8.000                          \n",
       " Median : 8.937                          \n",
       " Mean   : 8.937                          \n",
       " 3rd Qu.: 9.000                          \n",
       " Max.   :20.000                          "
      ]
     },
     "metadata": {},
     "output_type": "display_data"
    }
   ],
   "source": [
    "summary(dataset)"
   ]
  },
  {
   "cell_type": "code",
   "execution_count": 32,
   "id": "51727ce0-6bfc-4010-9f68-f15db8a004ae",
   "metadata": {},
   "outputs": [],
   "source": [
    "write.csv(dataset, \"datset_summary.csv\", row.names = FALSE)"
   ]
  },
  {
   "cell_type": "code",
   "execution_count": 33,
   "id": "85eeeb72-2e82-4847-9801-755ce9a92a78",
   "metadata": {},
   "outputs": [],
   "source": [
    "# Save the dataset\n",
    "write.csv(dataset, \"dataset.csv\", row.names = FALSE )"
   ]
  },
  {
   "cell_type": "markdown",
   "id": "5f03d749-cc76-48e4-ba74-1a2536384589",
   "metadata": {},
   "source": [
    "## Pick features & evaluate correlations"
   ]
  },
  {
   "cell_type": "code",
   "execution_count": 34,
   "id": "506c851c-f23b-4e36-9ae8-5dfa045b74a8",
   "metadata": {},
   "outputs": [],
   "source": [
    "dataset <- read.csv(\"dataset.csv\")"
   ]
  },
  {
   "cell_type": "code",
   "execution_count": 35,
   "id": "45c29173-23eb-4c1e-92f4-fded77a11bfc",
   "metadata": {},
   "outputs": [],
   "source": [
    "# Make character factors for analysis\n",
    "dataset <- dataset %>% mutate_if(is.character, factor)\n",
    "\n",
    "# Calculate rates (per 10,000 people)\n",
    "dataset <- dataset %>% filter(confirmed_cases > 0) \n",
    "dataset <- dataset %>% mutate(\n",
    "  cases_per_10000 = confirmed_cases/total_pop*10000, \n",
    "  deaths_per_10000 = deaths/total_pop*10000, \n",
    "  death_per_case = deaths/confirmed_cases)"
   ]
  },
  {
   "cell_type": "code",
   "execution_count": 36,
   "id": "e946fdf8-8dc3-4dc2-a161-c31ef8fa520e",
   "metadata": {},
   "outputs": [
    {
     "data": {
      "text/html": [
       "<style>\n",
       ".list-inline {list-style: none; margin:0; padding: 0}\n",
       ".list-inline>li {display: inline-block}\n",
       ".list-inline>li:not(:last-child)::after {content: \"\\00b7\"; padding: 0 .5ex}\n",
       "</style>\n",
       "<ol class=list-inline><li>'county_name'</li><li>'confirmed_cases'</li><li>'deaths'</li><li>'total_pop'</li><li>'male_pop'</li><li>'female_pop'</li><li>'white_pop'</li><li>'black_pop'</li><li>'asian_pop'</li><li>'hispanic_pop'</li><li>'amerindian_pop'</li><li>'other_race_pop'</li><li>'median_income'</li><li>'income_less_50K'</li><li>'income_50K_100K'</li><li>'income_100K_150K'</li><li>'income_150K_more'</li><li>'rent_under_50_percent'</li><li>'rent_over_50_percent'</li><li>'median_age'</li><li>'male_0_20'</li><li>'male_21_49'</li><li>'male_50_above'</li><li>'female_0_20'</li><li>'female_21_49'</li><li>'female_50_above'</li><li>'unemployed_pop'</li><li>'employed_pop'</li><li>'commute'</li><li>'worked_at_home'</li><li>'walked_to_work'</li><li>'retail_and_recreation_percent_change_from_baseline'</li><li>'grocery_and_pharmacy_percent_change_from_baseline'</li><li>'parks_percent_change_from_baseline'</li><li>'transit_stations_percent_change_from_baseline'</li><li>'workplaces_percent_change_from_baseline'</li><li>'residential_percent_change_from_baseline'</li><li>'cases_per_10000'</li><li>'deaths_per_10000'</li><li>'death_per_case'</li></ol>\n"
      ],
      "text/latex": [
       "\\begin{enumerate*}\n",
       "\\item 'county\\_name'\n",
       "\\item 'confirmed\\_cases'\n",
       "\\item 'deaths'\n",
       "\\item 'total\\_pop'\n",
       "\\item 'male\\_pop'\n",
       "\\item 'female\\_pop'\n",
       "\\item 'white\\_pop'\n",
       "\\item 'black\\_pop'\n",
       "\\item 'asian\\_pop'\n",
       "\\item 'hispanic\\_pop'\n",
       "\\item 'amerindian\\_pop'\n",
       "\\item 'other\\_race\\_pop'\n",
       "\\item 'median\\_income'\n",
       "\\item 'income\\_less\\_50K'\n",
       "\\item 'income\\_50K\\_100K'\n",
       "\\item 'income\\_100K\\_150K'\n",
       "\\item 'income\\_150K\\_more'\n",
       "\\item 'rent\\_under\\_50\\_percent'\n",
       "\\item 'rent\\_over\\_50\\_percent'\n",
       "\\item 'median\\_age'\n",
       "\\item 'male\\_0\\_20'\n",
       "\\item 'male\\_21\\_49'\n",
       "\\item 'male\\_50\\_above'\n",
       "\\item 'female\\_0\\_20'\n",
       "\\item 'female\\_21\\_49'\n",
       "\\item 'female\\_50\\_above'\n",
       "\\item 'unemployed\\_pop'\n",
       "\\item 'employed\\_pop'\n",
       "\\item 'commute'\n",
       "\\item 'worked\\_at\\_home'\n",
       "\\item 'walked\\_to\\_work'\n",
       "\\item 'retail\\_and\\_recreation\\_percent\\_change\\_from\\_baseline'\n",
       "\\item 'grocery\\_and\\_pharmacy\\_percent\\_change\\_from\\_baseline'\n",
       "\\item 'parks\\_percent\\_change\\_from\\_baseline'\n",
       "\\item 'transit\\_stations\\_percent\\_change\\_from\\_baseline'\n",
       "\\item 'workplaces\\_percent\\_change\\_from\\_baseline'\n",
       "\\item 'residential\\_percent\\_change\\_from\\_baseline'\n",
       "\\item 'cases\\_per\\_10000'\n",
       "\\item 'deaths\\_per\\_10000'\n",
       "\\item 'death\\_per\\_case'\n",
       "\\end{enumerate*}\n"
      ],
      "text/markdown": [
       "1. 'county_name'\n",
       "2. 'confirmed_cases'\n",
       "3. 'deaths'\n",
       "4. 'total_pop'\n",
       "5. 'male_pop'\n",
       "6. 'female_pop'\n",
       "7. 'white_pop'\n",
       "8. 'black_pop'\n",
       "9. 'asian_pop'\n",
       "10. 'hispanic_pop'\n",
       "11. 'amerindian_pop'\n",
       "12. 'other_race_pop'\n",
       "13. 'median_income'\n",
       "14. 'income_less_50K'\n",
       "15. 'income_50K_100K'\n",
       "16. 'income_100K_150K'\n",
       "17. 'income_150K_more'\n",
       "18. 'rent_under_50_percent'\n",
       "19. 'rent_over_50_percent'\n",
       "20. 'median_age'\n",
       "21. 'male_0_20'\n",
       "22. 'male_21_49'\n",
       "23. 'male_50_above'\n",
       "24. 'female_0_20'\n",
       "25. 'female_21_49'\n",
       "26. 'female_50_above'\n",
       "27. 'unemployed_pop'\n",
       "28. 'employed_pop'\n",
       "29. 'commute'\n",
       "30. 'worked_at_home'\n",
       "31. 'walked_to_work'\n",
       "32. 'retail_and_recreation_percent_change_from_baseline'\n",
       "33. 'grocery_and_pharmacy_percent_change_from_baseline'\n",
       "34. 'parks_percent_change_from_baseline'\n",
       "35. 'transit_stations_percent_change_from_baseline'\n",
       "36. 'workplaces_percent_change_from_baseline'\n",
       "37. 'residential_percent_change_from_baseline'\n",
       "38. 'cases_per_10000'\n",
       "39. 'deaths_per_10000'\n",
       "40. 'death_per_case'\n",
       "\n",
       "\n"
      ],
      "text/plain": [
       " [1] \"county_name\"                                       \n",
       " [2] \"confirmed_cases\"                                   \n",
       " [3] \"deaths\"                                            \n",
       " [4] \"total_pop\"                                         \n",
       " [5] \"male_pop\"                                          \n",
       " [6] \"female_pop\"                                        \n",
       " [7] \"white_pop\"                                         \n",
       " [8] \"black_pop\"                                         \n",
       " [9] \"asian_pop\"                                         \n",
       "[10] \"hispanic_pop\"                                      \n",
       "[11] \"amerindian_pop\"                                    \n",
       "[12] \"other_race_pop\"                                    \n",
       "[13] \"median_income\"                                     \n",
       "[14] \"income_less_50K\"                                   \n",
       "[15] \"income_50K_100K\"                                   \n",
       "[16] \"income_100K_150K\"                                  \n",
       "[17] \"income_150K_more\"                                  \n",
       "[18] \"rent_under_50_percent\"                             \n",
       "[19] \"rent_over_50_percent\"                              \n",
       "[20] \"median_age\"                                        \n",
       "[21] \"male_0_20\"                                         \n",
       "[22] \"male_21_49\"                                        \n",
       "[23] \"male_50_above\"                                     \n",
       "[24] \"female_0_20\"                                       \n",
       "[25] \"female_21_49\"                                      \n",
       "[26] \"female_50_above\"                                   \n",
       "[27] \"unemployed_pop\"                                    \n",
       "[28] \"employed_pop\"                                      \n",
       "[29] \"commute\"                                           \n",
       "[30] \"worked_at_home\"                                    \n",
       "[31] \"walked_to_work\"                                    \n",
       "[32] \"retail_and_recreation_percent_change_from_baseline\"\n",
       "[33] \"grocery_and_pharmacy_percent_change_from_baseline\" \n",
       "[34] \"parks_percent_change_from_baseline\"                \n",
       "[35] \"transit_stations_percent_change_from_baseline\"     \n",
       "[36] \"workplaces_percent_change_from_baseline\"           \n",
       "[37] \"residential_percent_change_from_baseline\"          \n",
       "[38] \"cases_per_10000\"                                   \n",
       "[39] \"deaths_per_10000\"                                  \n",
       "[40] \"death_per_case\"                                    "
      ]
     },
     "metadata": {},
     "output_type": "display_data"
    }
   ],
   "source": [
    "# Check for the added columns\n",
    "names(dataset)"
   ]
  },
  {
   "cell_type": "code",
   "execution_count": 37,
   "id": "27e58c6f-0dfd-49da-a299-6a33914bb4c3",
   "metadata": {},
   "outputs": [],
   "source": [
    "# Select the features for the dataset\n",
    "dataset_select <-  dataset %>% select(county_name, total_pop, hispanic_pop, black_pop, male_50_above, female_50_above,\n",
    "                                      income_50K_100K, rent_over_50_percent, commute, worked_at_home, transit_stations_percent_change_from_baseline, \n",
    "                                      workplaces_percent_change_from_baseline, \n",
    "                                      cases_per_10000, deaths_per_10000, death_per_case)"
   ]
  },
  {
   "cell_type": "code",
   "execution_count": 38,
   "id": "d618410f-a98e-4a81-9b8e-4d27ce0bd7a2",
   "metadata": {},
   "outputs": [],
   "source": [
    "# Normalize by population\n",
    "dataset_select <- dataset_select %>% mutate(\n",
    "  hispanic_pop = hispanic_pop / total_pop, \n",
    "  black_pop = black_pop / total_pop,\n",
    "  male_50_above = male_50_above / total_pop, \n",
    "  female_50_above = female_50_above / total_pop, \n",
    "  income_50K_100K = income_50K_100K / total_pop, \n",
    "  rent_over_50_percent = rent_over_50_percent / total_pop, \n",
    "  commute = commute / total_pop,\n",
    "  worked_at_home = worked_at_home/ total_pop, \n",
    "  )"
   ]
  },
  {
   "cell_type": "code",
   "execution_count": 39,
   "id": "7d3c7f02-c7a8-4538-b2a4-fa77a23cbe16",
   "metadata": {},
   "outputs": [
    {
     "data": {
      "text/plain": [
       "          county_name    total_pop        hispanic_pop       black_pop      \n",
       " Anderson County:  1   Min.   :    600   Min.   :0.03454   Min.   :0.00000  \n",
       " Andrews County :  1   1st Qu.:  12635   1st Qu.:0.17705   1st Qu.:0.01504  \n",
       " Angelina County:  1   Median :  24898   Median :0.25266   Median :0.05254  \n",
       " Aransas County :  1   Mean   : 133668   Mean   :0.34352   Mean   :0.07161  \n",
       " Archer County  :  1   3rd Qu.:  66671   3rd Qu.:0.48529   3rd Qu.:0.10209  \n",
       " Atascosa County:  1   Max.   :4525519   Max.   :0.99185   Max.   :0.33743  \n",
       " (Other)        :198                                                        \n",
       " male_50_above    female_50_above  income_50K_100K   rent_over_50_percent\n",
       " Min.   :0.1067   Min.   :0.1192   Min.   :0.04964   Min.   :0.00000     \n",
       " 1st Qu.:0.1564   1st Qu.:0.1698   1st Qu.:0.09331   1st Qu.:0.01207     \n",
       " Median :0.1857   Median :0.1949   Median :0.10466   Median :0.01587     \n",
       " Mean   :0.1854   Mean   :0.2004   Mean   :0.10275   Mean   :0.01745     \n",
       " 3rd Qu.:0.2116   3rd Qu.:0.2305   3rd Qu.:0.11199   3rd Qu.:0.02180     \n",
       " Max.   :0.3057   Max.   :0.3554   Max.   :0.14785   Max.   :0.06957     \n",
       "                                                                         \n",
       "    commute       worked_at_home    \n",
       " Min.   :0.4660   Min.   :0.000000  \n",
       " 1st Qu.:0.7021   1st Qu.:0.009951  \n",
       " Median :0.7697   Median :0.014673  \n",
       " Mean   :0.7608   Mean   :0.015404  \n",
       " 3rd Qu.:0.8285   3rd Qu.:0.018924  \n",
       " Max.   :0.9794   Max.   :0.045182  \n",
       "                                    \n",
       " transit_stations_percent_change_from_baseline\n",
       " Min.   :-61.00                               \n",
       " 1st Qu.:-11.06                               \n",
       " Median :-11.06                               \n",
       " Mean   :-11.06                               \n",
       " 3rd Qu.:-11.06                               \n",
       " Max.   : 76.00                               \n",
       "                                              \n",
       " workplaces_percent_change_from_baseline cases_per_10000  deaths_per_10000\n",
       " Min.   :-49.00                          Min.   : 231.1   Min.   : 3.309  \n",
       " 1st Qu.:-27.00                          1st Qu.: 590.0   1st Qu.:12.016  \n",
       " Median :-21.00                          Median : 754.7   Median :16.478  \n",
       " Mean   :-22.69                          Mean   : 785.7   Mean   :17.705  \n",
       " 3rd Qu.:-17.00                          3rd Qu.: 942.4   3rd Qu.:22.083  \n",
       " Max.   : -8.00                          Max.   :1829.0   Max.   :54.608  \n",
       "                                                                          \n",
       " death_per_case    \n",
       " Min.   :0.003789  \n",
       " 1st Qu.:0.015099  \n",
       " Median :0.022190  \n",
       " Mean   :0.023541  \n",
       " 3rd Qu.:0.029217  \n",
       " Max.   :0.093220  \n",
       "                   "
      ]
     },
     "metadata": {},
     "output_type": "display_data"
    }
   ],
   "source": [
    "summary(dataset_select)"
   ]
  },
  {
   "cell_type": "code",
   "execution_count": 40,
   "id": "f86ae02c-d819-48d9-95af-d97ebe1c47f4",
   "metadata": {},
   "outputs": [
    {
     "name": "stderr",
     "output_type": "stream",
     "text": [
      "\n",
      "Attaching package: 'seriation'\n",
      "\n",
      "\n",
      "The following object is masked from 'package:lattice':\n",
      "\n",
      "    panel.lines\n",
      "\n",
      "\n"
     ]
    }
   ],
   "source": [
    "# Check for correlation\n",
    "library(seriation)\n",
    "\n",
    "cm <- cor(dataset_select %>% select_if(is.numeric) %>% na.omit)"
   ]
  },
  {
   "cell_type": "code",
   "execution_count": 41,
   "id": "42e63ff5-4fab-4f09-8fd8-bd49654cdd56",
   "metadata": {},
   "outputs": [
    {
     "data": {
      "image/png": "[encoded data removed]",
      "text/plain": [
       "plot without title"
      ]
     },
     "metadata": {
      "image/png": {
       "height": 420,
       "width": 420
      }
     },
     "output_type": "display_data"
    }
   ],
   "source": [
    "hmap(cm, margins = c(5,5))"
   ]
  },
  {
   "cell_type": "markdown",
   "id": "cff27bef-c796-48c3-9db6-930151986ac8",
   "metadata": {},
   "source": [
    "## Create Class Variable"
   ]
  },
  {
   "cell_type": "code",
   "execution_count": 42,
   "id": "5c4eb3c4-19a3-4f01-9e7f-54cf4cd70c28",
   "metadata": {},
   "outputs": [
    {
     "data": {
      "text/plain": [
       ".\n",
       "FALSE  TRUE \n",
       "  100   104 "
      ]
     },
     "metadata": {},
     "output_type": "display_data"
    }
   ],
   "source": [
    "# Label \"high\" for the counties with deaths per 10000 that is greater than 16\n",
    "dataset_select <- dataset_select %>% mutate(high = as.factor(deaths_per_10000 > 16))\n",
    "\n",
    "# Check for class imbalance\n",
    "dataset_select %>% pull(high) %>% table()"
   ]
  },
  {
   "cell_type": "markdown",
   "id": "0f95ad7e-027a-491e-8625-2d5ca8eb558d",
   "metadata": {},
   "source": [
    "With threshold of 16, the dataset is close to perfectly balanced."
   ]
  },
  {
   "cell_type": "code",
   "execution_count": 43,
   "id": "0133193e-9ef3-4450-a74a-b226773d098b",
   "metadata": {},
   "outputs": [
    {
     "data": {
      "text/html": [
       "<table class=\"dataframe\">\n",
       "<caption>A tibble: 204 × 2</caption>\n",
       "<thead>\n",
       "\t<tr><th scope=col>county_name</th><th scope=col>high_pct</th></tr>\n",
       "\t<tr><th scope=col>&lt;fct&gt;</th><th scope=col>&lt;dbl&gt;</th></tr>\n",
       "</thead>\n",
       "<tbody>\n",
       "\t<tr><td>Andrews County   </td><td>1</td></tr>\n",
       "\t<tr><td>Angelina County  </td><td>1</td></tr>\n",
       "\t<tr><td>Atascosa County  </td><td>1</td></tr>\n",
       "\t<tr><td>Bailey County    </td><td>1</td></tr>\n",
       "\t<tr><td>Bee County       </td><td>1</td></tr>\n",
       "\t<tr><td>Brooks County    </td><td>1</td></tr>\n",
       "\t<tr><td>Brown County     </td><td>1</td></tr>\n",
       "\t<tr><td>Callahan County  </td><td>1</td></tr>\n",
       "\t<tr><td>Cameron County   </td><td>1</td></tr>\n",
       "\t<tr><td>Camp County      </td><td>1</td></tr>\n",
       "\t<tr><td>Carson County    </td><td>1</td></tr>\n",
       "\t<tr><td>Cass County      </td><td>1</td></tr>\n",
       "\t<tr><td>Castro County    </td><td>1</td></tr>\n",
       "\t<tr><td>Cherokee County  </td><td>1</td></tr>\n",
       "\t<tr><td>Childress County </td><td>1</td></tr>\n",
       "\t<tr><td>Coleman County   </td><td>1</td></tr>\n",
       "\t<tr><td>Comanche County  </td><td>1</td></tr>\n",
       "\t<tr><td>Crane County     </td><td>1</td></tr>\n",
       "\t<tr><td>Crosby County    </td><td>1</td></tr>\n",
       "\t<tr><td>Culberson County </td><td>1</td></tr>\n",
       "\t<tr><td>Dallam County    </td><td>1</td></tr>\n",
       "\t<tr><td>Dawson County    </td><td>1</td></tr>\n",
       "\t<tr><td>Deaf Smith County</td><td>1</td></tr>\n",
       "\t<tr><td>DeWitt County    </td><td>1</td></tr>\n",
       "\t<tr><td>Duval County     </td><td>1</td></tr>\n",
       "\t<tr><td>Ector County     </td><td>1</td></tr>\n",
       "\t<tr><td>El Paso County   </td><td>1</td></tr>\n",
       "\t<tr><td>Fannin County    </td><td>1</td></tr>\n",
       "\t<tr><td>Fayette County   </td><td>1</td></tr>\n",
       "\t<tr><td>Gaines County    </td><td>1</td></tr>\n",
       "\t<tr><td>⋮</td><td>⋮</td></tr>\n",
       "\t<tr><td>Montgomery County </td><td>0</td></tr>\n",
       "\t<tr><td>Morris County     </td><td>0</td></tr>\n",
       "\t<tr><td>Navarro County    </td><td>0</td></tr>\n",
       "\t<tr><td>Newton County     </td><td>0</td></tr>\n",
       "\t<tr><td>Nueces County     </td><td>0</td></tr>\n",
       "\t<tr><td>Oldham County     </td><td>0</td></tr>\n",
       "\t<tr><td>Orange County     </td><td>0</td></tr>\n",
       "\t<tr><td>Parker County     </td><td>0</td></tr>\n",
       "\t<tr><td>Polk County       </td><td>0</td></tr>\n",
       "\t<tr><td>Randall County    </td><td>0</td></tr>\n",
       "\t<tr><td>Robertson County  </td><td>0</td></tr>\n",
       "\t<tr><td>Rockwall County   </td><td>0</td></tr>\n",
       "\t<tr><td>Rusk County       </td><td>0</td></tr>\n",
       "\t<tr><td>San Jacinto County</td><td>0</td></tr>\n",
       "\t<tr><td>Smith County      </td><td>0</td></tr>\n",
       "\t<tr><td>Somervell County  </td><td>0</td></tr>\n",
       "\t<tr><td>Tarrant County    </td><td>0</td></tr>\n",
       "\t<tr><td>Travis County     </td><td>0</td></tr>\n",
       "\t<tr><td>Trinity County    </td><td>0</td></tr>\n",
       "\t<tr><td>Tyler County      </td><td>0</td></tr>\n",
       "\t<tr><td>Upshur County     </td><td>0</td></tr>\n",
       "\t<tr><td>Van Zandt County  </td><td>0</td></tr>\n",
       "\t<tr><td>Victoria County   </td><td>0</td></tr>\n",
       "\t<tr><td>Walker County     </td><td>0</td></tr>\n",
       "\t<tr><td>Waller County     </td><td>0</td></tr>\n",
       "\t<tr><td>Ward County       </td><td>0</td></tr>\n",
       "\t<tr><td>Williamson County </td><td>0</td></tr>\n",
       "\t<tr><td>Wilson County     </td><td>0</td></tr>\n",
       "\t<tr><td>Wise County       </td><td>0</td></tr>\n",
       "\t<tr><td>Zapata County     </td><td>0</td></tr>\n",
       "</tbody>\n",
       "</table>\n"
      ],
      "text/latex": [
       "A tibble: 204 × 2\n",
       "\\begin{tabular}{ll}\n",
       " county\\_name & high\\_pct\\\\\n",
       " <fct> & <dbl>\\\\\n",
       "\\hline\n",
       "\t Andrews County    & 1\\\\\n",
       "\t Angelina County   & 1\\\\\n",
       "\t Atascosa County   & 1\\\\\n",
       "\t Bailey County     & 1\\\\\n",
       "\t Bee County        & 1\\\\\n",
       "\t Brooks County     & 1\\\\\n",
       "\t Brown County      & 1\\\\\n",
       "\t Callahan County   & 1\\\\\n",
       "\t Cameron County    & 1\\\\\n",
       "\t Camp County       & 1\\\\\n",
       "\t Carson County     & 1\\\\\n",
       "\t Cass County       & 1\\\\\n",
       "\t Castro County     & 1\\\\\n",
       "\t Cherokee County   & 1\\\\\n",
       "\t Childress County  & 1\\\\\n",
       "\t Coleman County    & 1\\\\\n",
       "\t Comanche County   & 1\\\\\n",
       "\t Crane County      & 1\\\\\n",
       "\t Crosby County     & 1\\\\\n",
       "\t Culberson County  & 1\\\\\n",
       "\t Dallam County     & 1\\\\\n",
       "\t Dawson County     & 1\\\\\n",
       "\t Deaf Smith County & 1\\\\\n",
       "\t DeWitt County     & 1\\\\\n",
       "\t Duval County      & 1\\\\\n",
       "\t Ector County      & 1\\\\\n",
       "\t El Paso County    & 1\\\\\n",
       "\t Fannin County     & 1\\\\\n",
       "\t Fayette County    & 1\\\\\n",
       "\t Gaines County     & 1\\\\\n",
       "\t ⋮ & ⋮\\\\\n",
       "\t Montgomery County  & 0\\\\\n",
       "\t Morris County      & 0\\\\\n",
       "\t Navarro County     & 0\\\\\n",
       "\t Newton County      & 0\\\\\n",
       "\t Nueces County      & 0\\\\\n",
       "\t Oldham County      & 0\\\\\n",
       "\t Orange County      & 0\\\\\n",
       "\t Parker County      & 0\\\\\n",
       "\t Polk County        & 0\\\\\n",
       "\t Randall County     & 0\\\\\n",
       "\t Robertson County   & 0\\\\\n",
       "\t Rockwall County    & 0\\\\\n",
       "\t Rusk County        & 0\\\\\n",
       "\t San Jacinto County & 0\\\\\n",
       "\t Smith County       & 0\\\\\n",
       "\t Somervell County   & 0\\\\\n",
       "\t Tarrant County     & 0\\\\\n",
       "\t Travis County      & 0\\\\\n",
       "\t Trinity County     & 0\\\\\n",
       "\t Tyler County       & 0\\\\\n",
       "\t Upshur County      & 0\\\\\n",
       "\t Van Zandt County   & 0\\\\\n",
       "\t Victoria County    & 0\\\\\n",
       "\t Walker County      & 0\\\\\n",
       "\t Waller County      & 0\\\\\n",
       "\t Ward County        & 0\\\\\n",
       "\t Williamson County  & 0\\\\\n",
       "\t Wilson County      & 0\\\\\n",
       "\t Wise County        & 0\\\\\n",
       "\t Zapata County      & 0\\\\\n",
       "\\end{tabular}\n"
      ],
      "text/markdown": [
       "\n",
       "A tibble: 204 × 2\n",
       "\n",
       "| county_name &lt;fct&gt; | high_pct &lt;dbl&gt; |\n",
       "|---|---|\n",
       "| Andrews County    | 1 |\n",
       "| Angelina County   | 1 |\n",
       "| Atascosa County   | 1 |\n",
       "| Bailey County     | 1 |\n",
       "| Bee County        | 1 |\n",
       "| Brooks County     | 1 |\n",
       "| Brown County      | 1 |\n",
       "| Callahan County   | 1 |\n",
       "| Cameron County    | 1 |\n",
       "| Camp County       | 1 |\n",
       "| Carson County     | 1 |\n",
       "| Cass County       | 1 |\n",
       "| Castro County     | 1 |\n",
       "| Cherokee County   | 1 |\n",
       "| Childress County  | 1 |\n",
       "| Coleman County    | 1 |\n",
       "| Comanche County   | 1 |\n",
       "| Crane County      | 1 |\n",
       "| Crosby County     | 1 |\n",
       "| Culberson County  | 1 |\n",
       "| Dallam County     | 1 |\n",
       "| Dawson County     | 1 |\n",
       "| Deaf Smith County | 1 |\n",
       "| DeWitt County     | 1 |\n",
       "| Duval County      | 1 |\n",
       "| Ector County      | 1 |\n",
       "| El Paso County    | 1 |\n",
       "| Fannin County     | 1 |\n",
       "| Fayette County    | 1 |\n",
       "| Gaines County     | 1 |\n",
       "| ⋮ | ⋮ |\n",
       "| Montgomery County  | 0 |\n",
       "| Morris County      | 0 |\n",
       "| Navarro County     | 0 |\n",
       "| Newton County      | 0 |\n",
       "| Nueces County      | 0 |\n",
       "| Oldham County      | 0 |\n",
       "| Orange County      | 0 |\n",
       "| Parker County      | 0 |\n",
       "| Polk County        | 0 |\n",
       "| Randall County     | 0 |\n",
       "| Robertson County   | 0 |\n",
       "| Rockwall County    | 0 |\n",
       "| Rusk County        | 0 |\n",
       "| San Jacinto County | 0 |\n",
       "| Smith County       | 0 |\n",
       "| Somervell County   | 0 |\n",
       "| Tarrant County     | 0 |\n",
       "| Travis County      | 0 |\n",
       "| Trinity County     | 0 |\n",
       "| Tyler County       | 0 |\n",
       "| Upshur County      | 0 |\n",
       "| Van Zandt County   | 0 |\n",
       "| Victoria County    | 0 |\n",
       "| Walker County      | 0 |\n",
       "| Waller County      | 0 |\n",
       "| Ward County        | 0 |\n",
       "| Williamson County  | 0 |\n",
       "| Wilson County      | 0 |\n",
       "| Wise County        | 0 |\n",
       "| Zapata County      | 0 |\n",
       "\n"
      ],
      "text/plain": [
       "    county_name        high_pct\n",
       "1   Andrews County     1       \n",
       "2   Angelina County    1       \n",
       "3   Atascosa County    1       \n",
       "4   Bailey County      1       \n",
       "5   Bee County         1       \n",
       "6   Brooks County      1       \n",
       "7   Brown County       1       \n",
       "8   Callahan County    1       \n",
       "9   Cameron County     1       \n",
       "10  Camp County        1       \n",
       "11  Carson County      1       \n",
       "12  Cass County        1       \n",
       "13  Castro County      1       \n",
       "14  Cherokee County    1       \n",
       "15  Childress County   1       \n",
       "16  Coleman County     1       \n",
       "17  Comanche County    1       \n",
       "18  Crane County       1       \n",
       "19  Crosby County      1       \n",
       "20  Culberson County   1       \n",
       "21  Dallam County      1       \n",
       "22  Dawson County      1       \n",
       "23  Deaf Smith County  1       \n",
       "24  DeWitt County      1       \n",
       "25  Duval County       1       \n",
       "26  Ector County       1       \n",
       "27  El Paso County     1       \n",
       "28  Fannin County      1       \n",
       "29  Fayette County     1       \n",
       "30  Gaines County      1       \n",
       "⋮   ⋮                  ⋮       \n",
       "175 Montgomery County  0       \n",
       "176 Morris County      0       \n",
       "177 Navarro County     0       \n",
       "178 Newton County      0       \n",
       "179 Nueces County      0       \n",
       "180 Oldham County      0       \n",
       "181 Orange County      0       \n",
       "182 Parker County      0       \n",
       "183 Polk County        0       \n",
       "184 Randall County     0       \n",
       "185 Robertson County   0       \n",
       "186 Rockwall County    0       \n",
       "187 Rusk County        0       \n",
       "188 San Jacinto County 0       \n",
       "189 Smith County       0       \n",
       "190 Somervell County   0       \n",
       "191 Tarrant County     0       \n",
       "192 Travis County      0       \n",
       "193 Trinity County     0       \n",
       "194 Tyler County       0       \n",
       "195 Upshur County      0       \n",
       "196 Van Zandt County   0       \n",
       "197 Victoria County    0       \n",
       "198 Walker County      0       \n",
       "199 Waller County      0       \n",
       "200 Ward County        0       \n",
       "201 Williamson County  0       \n",
       "202 Wilson County      0       \n",
       "203 Wise County        0       \n",
       "204 Zapata County      0       "
      ]
     },
     "metadata": {},
     "output_type": "display_data"
    }
   ],
   "source": [
    "# Group the counties by category in descending order\n",
    "dataset_select %>% group_by(county_name) %>% \n",
    "  summarize(high_pct = sum(high == TRUE)/n()) %>%\n",
    "  arrange(desc(high_pct))"
   ]
  },
  {
   "cell_type": "markdown",
   "id": "7733bf6e-ca84-4463-9bdd-c28781898a9f",
   "metadata": {},
   "source": [
    "# Test & Train split"
   ]
  },
  {
   "cell_type": "code",
   "execution_count": 44,
   "id": "b1835121-392c-4ddd-abaf-fef05e21009e",
   "metadata": {},
   "outputs": [],
   "source": [
    "# Convert the 'county_names' column to lower case and remove \"county\"\n",
    "dataset_select <- dataset_select %>%\n",
    "  mutate(county_name = str_replace_all(tolower(county_name), \" county\", \"\"))"
   ]
  },
  {
   "cell_type": "code",
   "execution_count": 45,
   "id": "c51585fd-d55f-4cbc-b312-b86b81294306",
   "metadata": {},
   "outputs": [],
   "source": [
    "# Pick the DFW + rural (from project 2) + random counties to train\n",
    "dataset_train <- dataset_select %>% filter(county_name %in% c(\"collin\", \"dallas\", \"denton\", \"ellis\", \"johnson\", \"kaufman\", \"parker\", \"rockwall\", \"tarrant\", \"wise\",\n",
    "                                                             \"bell\", \"cameron\", \"el paso\", \"hidalgo\", \"nueces\", \"terry\", \"martin\", \"lubbock\", \"wichita\", \"cherokee\",\n",
    "                                                             \"hale\", \"maverick\", \"parmer\"))"
   ]
  },
  {
   "cell_type": "code",
   "execution_count": 46,
   "id": "897eb313-4b13-487c-b4d3-964c870f5d88",
   "metadata": {},
   "outputs": [
    {
     "data": {
      "text/plain": [
       ".\n",
       "FALSE  TRUE \n",
       "   12    11 "
      ]
     },
     "metadata": {},
     "output_type": "display_data"
    }
   ],
   "source": [
    "dataset_train %>% pull(high) %>% table()"
   ]
  },
  {
   "cell_type": "markdown",
   "id": "d01cca8d-0535-4f26-ae3e-18ab367bf49d",
   "metadata": {},
   "source": [
    "Trainig dataset is balanced."
   ]
  },
  {
   "cell_type": "code",
   "execution_count": 47,
   "id": "d7a2cf3a-9dac-48a1-a3b9-b6aa07b34918",
   "metadata": {},
   "outputs": [
    {
     "data": {
      "text/plain": [
       ".\n",
       "FALSE  TRUE \n",
       "   88    93 "
      ]
     },
     "metadata": {},
     "output_type": "display_data"
    }
   ],
   "source": [
    "# Testing dataset (remaining counties)\n",
    "dataset_test <-  dataset_select %>% filter(!(county_name %in% c(\"collin\", \"dallas\", \"denton\", \"ellis\", \"johnson\", \"kaufman\", \"parker\", \"rockwall\", \"tarrant\", \"wise\",\n",
    "                                                             \"bell\", \"cameron\", \"el paso\", \"hidalgo\", \"nueces\", \"terry\", \"martin\", \"lubbock\", \"wichita\", \"cherokee\",\n",
    "                                                             \"hale\", \"maverick\", \"parmer\")))\n",
    "dataset_test %>% pull(high) %>% table()"
   ]
  },
  {
   "cell_type": "markdown",
   "id": "02c5d2e1-8145-4bf3-922e-166e6021d47d",
   "metadata": {},
   "source": [
    "Balanced testing dataset"
   ]
  },
  {
   "cell_type": "markdown",
   "id": "2d446bef-3704-4e02-90aa-c104b7261dbe",
   "metadata": {},
   "source": [
    "# Visualization of counties with high deaths per 10000"
   ]
  },
  {
   "cell_type": "code",
   "execution_count": 97,
   "id": "fd9bd3b6-564b-4d8f-a6f1-6606d37f76a2",
   "metadata": {},
   "outputs": [
    {
     "name": "stderr",
     "output_type": "stream",
     "text": [
      "\u001b[1m\u001b[22mJoining with `by = join_by(county)`\n"
     ]
    },
    {
     "data": {
      "text/html": [
       "<style>\n",
       ".list-inline {list-style: none; margin:0; padding: 0}\n",
       ".list-inline>li {display: inline-block}\n",
       ".list-inline>li:not(:last-child)::after {content: \"\\00b7\"; padding: 0 .5ex}\n",
       "</style>\n",
       "<ol class=list-inline><li>'county'</li><li>'long'</li><li>'lat'</li><li>'group'</li><li>'county_name'</li><li>'total_pop'</li><li>'hispanic_pop'</li><li>'black_pop'</li><li>'male_50_above'</li><li>'female_50_above'</li><li>'income_50K_100K'</li><li>'rent_over_50_percent'</li><li>'commute'</li><li>'worked_at_home'</li><li>'transit_stations_percent_change_from_baseline'</li><li>'workplaces_percent_change_from_baseline'</li><li>'cases_per_10000'</li><li>'deaths_per_10000'</li><li>'death_per_case'</li><li>'high'</li></ol>\n"
      ],
      "text/latex": [
       "\\begin{enumerate*}\n",
       "\\item 'county'\n",
       "\\item 'long'\n",
       "\\item 'lat'\n",
       "\\item 'group'\n",
       "\\item 'county\\_name'\n",
       "\\item 'total\\_pop'\n",
       "\\item 'hispanic\\_pop'\n",
       "\\item 'black\\_pop'\n",
       "\\item 'male\\_50\\_above'\n",
       "\\item 'female\\_50\\_above'\n",
       "\\item 'income\\_50K\\_100K'\n",
       "\\item 'rent\\_over\\_50\\_percent'\n",
       "\\item 'commute'\n",
       "\\item 'worked\\_at\\_home'\n",
       "\\item 'transit\\_stations\\_percent\\_change\\_from\\_baseline'\n",
       "\\item 'workplaces\\_percent\\_change\\_from\\_baseline'\n",
       "\\item 'cases\\_per\\_10000'\n",
       "\\item 'deaths\\_per\\_10000'\n",
       "\\item 'death\\_per\\_case'\n",
       "\\item 'high'\n",
       "\\end{enumerate*}\n"
      ],
      "text/markdown": [
       "1. 'county'\n",
       "2. 'long'\n",
       "3. 'lat'\n",
       "4. 'group'\n",
       "5. 'county_name'\n",
       "6. 'total_pop'\n",
       "7. 'hispanic_pop'\n",
       "8. 'black_pop'\n",
       "9. 'male_50_above'\n",
       "10. 'female_50_above'\n",
       "11. 'income_50K_100K'\n",
       "12. 'rent_over_50_percent'\n",
       "13. 'commute'\n",
       "14. 'worked_at_home'\n",
       "15. 'transit_stations_percent_change_from_baseline'\n",
       "16. 'workplaces_percent_change_from_baseline'\n",
       "17. 'cases_per_10000'\n",
       "18. 'deaths_per_10000'\n",
       "19. 'death_per_case'\n",
       "20. 'high'\n",
       "\n",
       "\n"
      ],
      "text/plain": [
       " [1] \"county\"                                       \n",
       " [2] \"long\"                                         \n",
       " [3] \"lat\"                                          \n",
       " [4] \"group\"                                        \n",
       " [5] \"county_name\"                                  \n",
       " [6] \"total_pop\"                                    \n",
       " [7] \"hispanic_pop\"                                 \n",
       " [8] \"black_pop\"                                    \n",
       " [9] \"male_50_above\"                                \n",
       "[10] \"female_50_above\"                              \n",
       "[11] \"income_50K_100K\"                              \n",
       "[12] \"rent_over_50_percent\"                         \n",
       "[13] \"commute\"                                      \n",
       "[14] \"worked_at_home\"                               \n",
       "[15] \"transit_stations_percent_change_from_baseline\"\n",
       "[16] \"workplaces_percent_change_from_baseline\"      \n",
       "[17] \"cases_per_10000\"                              \n",
       "[18] \"deaths_per_10000\"                             \n",
       "[19] \"death_per_case\"                               \n",
       "[20] \"high\"                                         "
      ]
     },
     "metadata": {},
     "output_type": "display_data"
    }
   ],
   "source": [
    "# Load county map data and convert to tibble\n",
    "counties <- as_tibble(map_data(\"county\"))\n",
    "\n",
    "# Filter for Texas counties\n",
    "texas_counties <- counties %>% filter(region == \"texas\")\n",
    "\n",
    "# Rename the columns and select only the relevant columns\n",
    "texas_counties <- texas_counties %>%\n",
    "  rename(county = subregion) %>%\n",
    "  select(county, long, lat, group)\n",
    "\n",
    "# Add variables to the map data\n",
    "texas_counties_all <- texas_counties %>% left_join(dataset_select %>% \n",
    "    mutate(county = county_name %>% str_to_lower() %>% \n",
    "        str_replace('\\\\s+county\\\\s*$', '')))\n",
    "\n",
    "#checking the merged dataset\n",
    "names(texas_counties_all)"
   ]
  },
  {
   "cell_type": "code",
   "execution_count": 98,
   "id": "c16c46d7-3c08-4e8e-9323-09db930e0a8d",
   "metadata": {},
   "outputs": [
    {
     "name": "stdout",
     "output_type": "stream",
     "text": [
      "  [1] \"andrews\"       \"angelina\"      \"atascosa\"      \"bailey\"       \n",
      "  [5] \"bee\"           \"brooks\"        \"brown\"         \"callahan\"     \n",
      "  [9] \"cameron\"       \"camp\"          \"carson\"        \"cass\"         \n",
      " [13] \"castro\"        \"cherokee\"      \"childress\"     \"coleman\"      \n",
      " [17] \"comanche\"      \"crane\"         \"crosby\"        \"culberson\"    \n",
      " [21] \"dallam\"        \"dawson\"        \"dewitt\"        \"deaf smith\"   \n",
      " [25] \"duval\"         \"ector\"         \"el paso\"       \"fannin\"       \n",
      " [29] \"fayette\"       \"gaines\"        \"gray\"          \"grayson\"      \n",
      " [33] \"gregg\"         \"grimes\"        \"hale\"          \"hall\"         \n",
      " [37] \"hamilton\"      \"hardeman\"      \"hidalgo\"       \"hockley\"      \n",
      " [41] \"hopkins\"       \"howard\"        \"hutchinson\"    \"jim wells\"    \n",
      " [45] \"jones\"         \"karnes\"        \"kleberg\"       \"la salle\"     \n",
      " [49] \"lamar\"         \"lamb\"          \"lavaca\"        \"lee\"          \n",
      " [53] \"leon\"          \"lubbock\"       \"lynn\"          \"marion\"       \n",
      " [57] \"martin\"        \"matagorda\"     \"maverick\"      \"mcmullen\"     \n",
      " [61] \"mitchell\"      \"montague\"      \"moore\"         \"nacogdoches\"  \n",
      " [65] \"nolan\"         \"ochiltree\"     \"palo pinto\"    \"panola\"       \n",
      " [69] \"parmer\"        \"pecos\"         \"potter\"        \"presidio\"     \n",
      " [73] \"rains\"         \"reagan\"        \"red river\"     \"reeves\"       \n",
      " [77] \"refugio\"       \"runnels\"       \"sabine\"        \"san augustine\"\n",
      " [81] \"san patricio\"  \"scurry\"        \"shelby\"        \"sherman\"      \n",
      " [85] \"starr\"         \"stephens\"      \"swisher\"       \"taylor\"       \n",
      " [89] \"terry\"         \"titus\"         \"tom green\"     \"uvalde\"       \n",
      " [93] \"val verde\"     \"washington\"    \"webb\"          \"wharton\"      \n",
      " [97] \"wichita\"       \"wilbarger\"     \"willacy\"       \"winkler\"      \n",
      "[101] \"wood\"          \"yoakum\"        \"young\"         \"zavala\"       \n",
      "[1] 104\n"
     ]
    },
    {
     "data": {
      "image/png": "[encoded data removed]",
      "text/plain": [
       "plot without title"
      ]
     },
     "metadata": {
      "image/png": {
       "height": 420,
       "width": 420
      }
     },
     "output_type": "display_data"
    }
   ],
   "source": [
    "ggplot(texas_counties_all, aes(long, lat)) + \n",
    "  geom_polygon(aes(group = group, fill = high), color = \"black\", linewidth = 0.1) + \n",
    "    coord_quickmap() + scale_fill_manual(values = c('TRUE' = 'red', 'FALSE' = 'grey')) +\n",
    "    ggtitle(\"Texas Counties with High Death Rates\") + theme_minimal()\n",
    "\n",
    "# Filter the dataset for counties with high deaths_per_10000\n",
    "high_counties <- dataset_select %>% filter(high == TRUE)\n",
    "\n",
    "# Check: # Print the county names and count\n",
    "print(high_counties$county_name)\n",
    "print(length(unique(high_counties$county_name)))"
   ]
  },
  {
   "cell_type": "markdown",
   "id": "2474f140-2672-416b-a214-18e2cbc065d5",
   "metadata": {},
   "source": [
    "Overview of the 104 counties with high deaths per 10,000 > 16."
   ]
  },
  {
   "cell_type": "markdown",
   "id": "4b4b7dfc-774b-4cf8-8b22-b8ea7d70fe7d",
   "metadata": {},
   "source": [
    "# Random Forest Classifier"
   ]
  },
  {
   "cell_type": "code",
   "execution_count": 99,
   "id": "00b37505-8e15-4058-80a5-fdfb0b1eb8fc",
   "metadata": {},
   "outputs": [
    {
     "data": {
      "text/html": [
       "<style>\n",
       ".list-inline {list-style: none; margin:0; padding: 0}\n",
       ".list-inline>li {display: inline-block}\n",
       ".list-inline>li:not(:last-child)::after {content: \"\\00b7\"; padding: 0 .5ex}\n",
       "</style>\n",
       "<ol class=list-inline><li>'total_pop'</li><li>'hispanic_pop'</li><li>'black_pop'</li><li>'male_50_above'</li><li>'female_50_above'</li><li>'income_50K_100K'</li><li>'rent_over_50_percent'</li><li>'commute'</li><li>'worked_at_home'</li><li>'transit_stations_percent_change_from_baseline'</li><li>'workplaces_percent_change_from_baseline'</li><li>'cases_per_10000'</li><li>'deaths_per_10000'</li><li>'death_per_case'</li><li>'high'</li></ol>\n"
      ],
      "text/latex": [
       "\\begin{enumerate*}\n",
       "\\item 'total\\_pop'\n",
       "\\item 'hispanic\\_pop'\n",
       "\\item 'black\\_pop'\n",
       "\\item 'male\\_50\\_above'\n",
       "\\item 'female\\_50\\_above'\n",
       "\\item 'income\\_50K\\_100K'\n",
       "\\item 'rent\\_over\\_50\\_percent'\n",
       "\\item 'commute'\n",
       "\\item 'worked\\_at\\_home'\n",
       "\\item 'transit\\_stations\\_percent\\_change\\_from\\_baseline'\n",
       "\\item 'workplaces\\_percent\\_change\\_from\\_baseline'\n",
       "\\item 'cases\\_per\\_10000'\n",
       "\\item 'deaths\\_per\\_10000'\n",
       "\\item 'death\\_per\\_case'\n",
       "\\item 'high'\n",
       "\\end{enumerate*}\n"
      ],
      "text/markdown": [
       "1. 'total_pop'\n",
       "2. 'hispanic_pop'\n",
       "3. 'black_pop'\n",
       "4. 'male_50_above'\n",
       "5. 'female_50_above'\n",
       "6. 'income_50K_100K'\n",
       "7. 'rent_over_50_percent'\n",
       "8. 'commute'\n",
       "9. 'worked_at_home'\n",
       "10. 'transit_stations_percent_change_from_baseline'\n",
       "11. 'workplaces_percent_change_from_baseline'\n",
       "12. 'cases_per_10000'\n",
       "13. 'deaths_per_10000'\n",
       "14. 'death_per_case'\n",
       "15. 'high'\n",
       "\n",
       "\n"
      ],
      "text/plain": [
       " [1] \"total_pop\"                                    \n",
       " [2] \"hispanic_pop\"                                 \n",
       " [3] \"black_pop\"                                    \n",
       " [4] \"male_50_above\"                                \n",
       " [5] \"female_50_above\"                              \n",
       " [6] \"income_50K_100K\"                              \n",
       " [7] \"rent_over_50_percent\"                         \n",
       " [8] \"commute\"                                      \n",
       " [9] \"worked_at_home\"                               \n",
       "[10] \"transit_stations_percent_change_from_baseline\"\n",
       "[11] \"workplaces_percent_change_from_baseline\"      \n",
       "[12] \"cases_per_10000\"                              \n",
       "[13] \"deaths_per_10000\"                             \n",
       "[14] \"death_per_case\"                               \n",
       "[15] \"high\"                                         "
      ]
     },
     "metadata": {},
     "output_type": "display_data"
    }
   ],
   "source": [
    "names(dataset_train_for_model)"
   ]
  },
  {
   "cell_type": "code",
   "execution_count": 100,
   "id": "27399c90-f64f-489c-b5b1-c3fd9f0d2163",
   "metadata": {},
   "outputs": [],
   "source": [
    "# Remove irrelevant columns for both training and testing datasets\n",
    "dataset_train_for_model <- dataset_train %>% select(-county_name, -cases_per_10000, -deaths_per_10000, -death_per_case)\n",
    "dataset_test_for_model <- dataset_test %>% select(-county_name)"
   ]
  },
  {
   "cell_type": "code",
   "execution_count": 101,
   "id": "0f79ea85-4705-4362-932d-5db82437ed15",
   "metadata": {},
   "outputs": [
    {
     "data": {
      "text/html": [
       "0"
      ],
      "text/latex": [
       "0"
      ],
      "text/markdown": [
       "0"
      ],
      "text/plain": [
       "[1] 0"
      ]
     },
     "metadata": {},
     "output_type": "display_data"
    },
    {
     "data": {
      "text/html": [
       "0"
      ],
      "text/latex": [
       "0"
      ],
      "text/markdown": [
       "0"
      ],
      "text/plain": [
       "[1] 0"
      ]
     },
     "metadata": {},
     "output_type": "display_data"
    }
   ],
   "source": [
    "# Check for null values in train and test datasets\n",
    "sum(is.na(dataset_train_for_model))\n",
    "sum(is.na(dataset_test_for_model))"
   ]
  },
  {
   "cell_type": "code",
   "execution_count": 102,
   "id": "8d6f7740-d759-490e-ba5c-8fa9d7d7b7a1",
   "metadata": {},
   "outputs": [
    {
     "data": {
      "text/html": [
       "<style>\n",
       ".list-inline {list-style: none; margin:0; padding: 0}\n",
       ".list-inline>li {display: inline-block}\n",
       ".list-inline>li:not(:last-child)::after {content: \"\\00b7\"; padding: 0 .5ex}\n",
       "</style>\n",
       "<ol class=list-inline><li>'total_pop'</li><li>'hispanic_pop'</li><li>'black_pop'</li><li>'male_50_above'</li><li>'female_50_above'</li><li>'income_50K_100K'</li><li>'rent_over_50_percent'</li><li>'commute'</li><li>'worked_at_home'</li><li>'transit_stations_percent_change_from_baseline'</li><li>'workplaces_percent_change_from_baseline'</li><li>'high'</li></ol>\n"
      ],
      "text/latex": [
       "\\begin{enumerate*}\n",
       "\\item 'total\\_pop'\n",
       "\\item 'hispanic\\_pop'\n",
       "\\item 'black\\_pop'\n",
       "\\item 'male\\_50\\_above'\n",
       "\\item 'female\\_50\\_above'\n",
       "\\item 'income\\_50K\\_100K'\n",
       "\\item 'rent\\_over\\_50\\_percent'\n",
       "\\item 'commute'\n",
       "\\item 'worked\\_at\\_home'\n",
       "\\item 'transit\\_stations\\_percent\\_change\\_from\\_baseline'\n",
       "\\item 'workplaces\\_percent\\_change\\_from\\_baseline'\n",
       "\\item 'high'\n",
       "\\end{enumerate*}\n"
      ],
      "text/markdown": [
       "1. 'total_pop'\n",
       "2. 'hispanic_pop'\n",
       "3. 'black_pop'\n",
       "4. 'male_50_above'\n",
       "5. 'female_50_above'\n",
       "6. 'income_50K_100K'\n",
       "7. 'rent_over_50_percent'\n",
       "8. 'commute'\n",
       "9. 'worked_at_home'\n",
       "10. 'transit_stations_percent_change_from_baseline'\n",
       "11. 'workplaces_percent_change_from_baseline'\n",
       "12. 'high'\n",
       "\n",
       "\n"
      ],
      "text/plain": [
       " [1] \"total_pop\"                                    \n",
       " [2] \"hispanic_pop\"                                 \n",
       " [3] \"black_pop\"                                    \n",
       " [4] \"male_50_above\"                                \n",
       " [5] \"female_50_above\"                              \n",
       " [6] \"income_50K_100K\"                              \n",
       " [7] \"rent_over_50_percent\"                         \n",
       " [8] \"commute\"                                      \n",
       " [9] \"worked_at_home\"                               \n",
       "[10] \"transit_stations_percent_change_from_baseline\"\n",
       "[11] \"workplaces_percent_change_from_baseline\"      \n",
       "[12] \"high\"                                         "
      ]
     },
     "metadata": {},
     "output_type": "display_data"
    }
   ],
   "source": [
    "# ensure to not have \"county_name\" column in training set before building the model\n",
    "names(dataset_train_for_model)"
   ]
  },
  {
   "cell_type": "code",
   "execution_count": 60,
   "id": "d857dd97-4e9f-43f5-ade2-aa5f41b331ae",
   "metadata": {},
   "outputs": [
    {
     "name": "stdout",
     "output_type": "stream",
     "text": [
      "package 'randomForest' successfully unpacked and MD5 sums checked\n",
      "\n",
      "The downloaded binary packages are in\n",
      "\tC:\\Users\\yamph\\AppData\\Local\\Temp\\Rtmpo3USm3\\downloaded_packages\n"
     ]
    }
   ],
   "source": [
    "install.packages(\"randomForest\")"
   ]
  },
  {
   "cell_type": "code",
   "execution_count": 103,
   "id": "7c0569c0-2bcb-4a14-9f60-1b55c55a5153",
   "metadata": {},
   "outputs": [
    {
     "data": {
      "text/plain": [
       "Random Forest \n",
       "\n",
       "23 samples\n",
       "11 predictors\n",
       " 2 classes: 'FALSE', 'TRUE' \n",
       "\n",
       "No pre-processing\n",
       "Resampling: Cross-Validated (10 fold) \n",
       "Summary of sample sizes: 21, 21, 21, 21, 21, 20, ... \n",
       "Resampling results across tuning parameters:\n",
       "\n",
       "  mtry  Accuracy   Kappa\n",
       "   2    0.8500000  0.70 \n",
       "   6    0.7500000  0.50 \n",
       "  11    0.6666667  0.34 \n",
       "\n",
       "Accuracy was used to select the optimal model using the largest value.\n",
       "The final value used for the model was mtry = 2."
      ]
     },
     "metadata": {},
     "output_type": "display_data"
    }
   ],
   "source": [
    "# excluding counties as they are not useful to compare variables\n",
    "random_forest_classifier <- dataset_train_for_model %>%\n",
    "  train(high ~ .,\n",
    "        data = .,\n",
    "        method = \"rf\",\n",
    "        trControl = trainControl(method = \"cv\", number = 10)\n",
    "  )\n",
    "random_forest_classifier"
   ]
  },
  {
   "cell_type": "markdown",
   "id": "fb44c55e-8849-4107-abee-30f2e622b0f6",
   "metadata": {},
   "source": [
    "The cross-validation results show that for all tested values of mtry (2, 6, and 11). \n",
    "The optimal value selected for the final model was mtry = 2, meaning that at each split, the algorithm will randomly select 2 features to consider for the best split.\n"
   ]
  },
  {
   "cell_type": "code",
   "execution_count": 104,
   "id": "e8e915ff-881b-4770-898e-9a6d85d5bfb1",
   "metadata": {},
   "outputs": [
    {
     "data": {
      "text/plain": [
       "rf variable importance\n",
       "\n",
       "                                              Overall\n",
       "commute                                       100.000\n",
       "worked_at_home                                 82.539\n",
       "income_50K_100K                                66.843\n",
       "hispanic_pop                                   61.540\n",
       "total_pop                                      34.546\n",
       "workplaces_percent_change_from_baseline        30.192\n",
       "black_pop                                      22.730\n",
       "transit_stations_percent_change_from_baseline  18.681\n",
       "rent_over_50_percent                           13.345\n",
       "female_50_above                                 3.726\n",
       "male_50_above                                   0.000"
      ]
     },
     "metadata": {},
     "output_type": "display_data"
    }
   ],
   "source": [
    "# Ranking of the features for predictions in the model\n",
    "varImp(random_forest_classifier)"
   ]
  },
  {
   "cell_type": "markdown",
   "id": "a0ecf8f7-7dc0-4f13-840b-8803bab61783",
   "metadata": {},
   "source": [
    "Using this classifier, the \"commute\" feature has the highest importance. This means it contributes the most to the model's predictive power. In this case, the model relies heavily on the this variable to make predictions. The feature \"male_50_above\" does not have any importance for the prediction"
   ]
  },
  {
   "cell_type": "markdown",
   "id": "e33bf3cf-b9c2-4258-83c0-d8e8068f2966",
   "metadata": {},
   "source": [
    "## Accuracy & Evaluation"
   ]
  },
  {
   "cell_type": "code",
   "execution_count": 105,
   "id": "15d04ee9-b8e7-4a8e-ba8f-999055330676",
   "metadata": {},
   "outputs": [],
   "source": [
    "# Use the model to predict on the test dataset. Add predicted values to column \"high_predicted_RFC\". Testing dataset needs \"county_name\" for heat map.\n",
    "dataset_test$high_predicted_RFC <- predict(random_forest_classifier, dataset_test)"
   ]
  },
  {
   "cell_type": "code",
   "execution_count": 106,
   "id": "e2a1c006-21b1-4fa3-9356-e2ef78bd657f",
   "metadata": {},
   "outputs": [
    {
     "data": {
      "text/html": [
       "<style>\n",
       ".list-inline {list-style: none; margin:0; padding: 0}\n",
       ".list-inline>li {display: inline-block}\n",
       ".list-inline>li:not(:last-child)::after {content: \"\\00b7\"; padding: 0 .5ex}\n",
       "</style>\n",
       "<ol class=list-inline><li>'county_name'</li><li>'total_pop'</li><li>'hispanic_pop'</li><li>'black_pop'</li><li>'male_50_above'</li><li>'female_50_above'</li><li>'income_50K_100K'</li><li>'rent_over_50_percent'</li><li>'commute'</li><li>'worked_at_home'</li><li>'transit_stations_percent_change_from_baseline'</li><li>'workplaces_percent_change_from_baseline'</li><li>'cases_per_10000'</li><li>'deaths_per_10000'</li><li>'death_per_case'</li><li>'high'</li><li>'high_predicted_RFC'</li><li>'high_predicted_knn'</li><li>'high_predicted_xgboost'</li><li>'high_predicted_xgboost_svm'</li><li>'high_predicted_nnet'</li></ol>\n"
      ],
      "text/latex": [
       "\\begin{enumerate*}\n",
       "\\item 'county\\_name'\n",
       "\\item 'total\\_pop'\n",
       "\\item 'hispanic\\_pop'\n",
       "\\item 'black\\_pop'\n",
       "\\item 'male\\_50\\_above'\n",
       "\\item 'female\\_50\\_above'\n",
       "\\item 'income\\_50K\\_100K'\n",
       "\\item 'rent\\_over\\_50\\_percent'\n",
       "\\item 'commute'\n",
       "\\item 'worked\\_at\\_home'\n",
       "\\item 'transit\\_stations\\_percent\\_change\\_from\\_baseline'\n",
       "\\item 'workplaces\\_percent\\_change\\_from\\_baseline'\n",
       "\\item 'cases\\_per\\_10000'\n",
       "\\item 'deaths\\_per\\_10000'\n",
       "\\item 'death\\_per\\_case'\n",
       "\\item 'high'\n",
       "\\item 'high\\_predicted\\_RFC'\n",
       "\\item 'high\\_predicted\\_knn'\n",
       "\\item 'high\\_predicted\\_xgboost'\n",
       "\\item 'high\\_predicted\\_xgboost\\_svm'\n",
       "\\item 'high\\_predicted\\_nnet'\n",
       "\\end{enumerate*}\n"
      ],
      "text/markdown": [
       "1. 'county_name'\n",
       "2. 'total_pop'\n",
       "3. 'hispanic_pop'\n",
       "4. 'black_pop'\n",
       "5. 'male_50_above'\n",
       "6. 'female_50_above'\n",
       "7. 'income_50K_100K'\n",
       "8. 'rent_over_50_percent'\n",
       "9. 'commute'\n",
       "10. 'worked_at_home'\n",
       "11. 'transit_stations_percent_change_from_baseline'\n",
       "12. 'workplaces_percent_change_from_baseline'\n",
       "13. 'cases_per_10000'\n",
       "14. 'deaths_per_10000'\n",
       "15. 'death_per_case'\n",
       "16. 'high'\n",
       "17. 'high_predicted_RFC'\n",
       "18. 'high_predicted_knn'\n",
       "19. 'high_predicted_xgboost'\n",
       "20. 'high_predicted_xgboost_svm'\n",
       "21. 'high_predicted_nnet'\n",
       "\n",
       "\n"
      ],
      "text/plain": [
       " [1] \"county_name\"                                  \n",
       " [2] \"total_pop\"                                    \n",
       " [3] \"hispanic_pop\"                                 \n",
       " [4] \"black_pop\"                                    \n",
       " [5] \"male_50_above\"                                \n",
       " [6] \"female_50_above\"                              \n",
       " [7] \"income_50K_100K\"                              \n",
       " [8] \"rent_over_50_percent\"                         \n",
       " [9] \"commute\"                                      \n",
       "[10] \"worked_at_home\"                               \n",
       "[11] \"transit_stations_percent_change_from_baseline\"\n",
       "[12] \"workplaces_percent_change_from_baseline\"      \n",
       "[13] \"cases_per_10000\"                              \n",
       "[14] \"deaths_per_10000\"                             \n",
       "[15] \"death_per_case\"                               \n",
       "[16] \"high\"                                         \n",
       "[17] \"high_predicted_RFC\"                           \n",
       "[18] \"high_predicted_knn\"                           \n",
       "[19] \"high_predicted_xgboost\"                       \n",
       "[20] \"high_predicted_xgboost_svm\"                   \n",
       "[21] \"high_predicted_nnet\"                          "
      ]
     },
     "metadata": {},
     "output_type": "display_data"
    }
   ],
   "source": [
    "# Check for new \"high_predicted_RFC\" column\n",
    "names(dataset_test)"
   ]
  },
  {
   "cell_type": "code",
   "execution_count": 107,
   "id": "779c0452-bc13-4bf0-8c0f-3cb2aca2d46f",
   "metadata": {},
   "outputs": [
    {
     "name": "stderr",
     "output_type": "stream",
     "text": [
      "\u001b[1m\u001b[22mJoining with `by = join_by(county)`\n"
     ]
    }
   ],
   "source": [
    "# Visualize the prediction results\n",
    "counties_test <- texas_counties %>% left_join(dataset_test %>% \n",
    "    mutate(county = county_name %>% str_to_lower() %>% \n",
    "        str_replace('\\\\s+county\\\\s*$', '')))"
   ]
  },
  {
   "cell_type": "code",
   "execution_count": 139,
   "id": "c2c571e6-69c1-4bf0-9a93-d6c4550fbf9d",
   "metadata": {},
   "outputs": [
    {
     "data": {
      "image/png": "[encoded data removed]",
      "text/plain": [
       "plot without title"
      ]
     },
     "metadata": {
      "image/png": {
       "height": 420,
       "width": 420
      }
     },
     "output_type": "display_data"
    },
    {
     "data": {
      "image/png": "[encoded data removed]",
      "text/plain": [
       "plot without title"
      ]
     },
     "metadata": {
      "image/png": {
       "height": 420,
       "width": 420
      }
     },
     "output_type": "display_data"
    }
   ],
   "source": [
    "# Ground truth\n",
    "ground_truth <- ggplot(counties_test, aes(long, lat)) + \n",
    "  geom_polygon(aes(group = group, fill = high), color = \"black\", size = 0.1) + \n",
    "  coord_quickmap() + \n",
    "  scale_fill_manual(values = c('TRUE' = 'red', 'FALSE' = 'grey')) +\n",
    "  ggtitle(\"Ground Truth\")\n",
    "\n",
    "# Predictions\n",
    "predict_RFC <- ggplot(counties_test, aes(long, lat)) + \n",
    "  geom_polygon(aes(group = group, fill = high_predicted_RFC), color = \"black\", linewidth = 0.1) + \n",
    "  coord_quickmap() + \n",
    "  scale_fill_manual(values = c('TRUE' = 'red', 'FALSE' = 'grey')) + \n",
    "  ggtitle(\"Predicted by Random Forest Classifier\")\n",
    "\n",
    "ground_truth\n",
    "predict_RFC"
   ]
  },
  {
   "cell_type": "code",
   "execution_count": 140,
   "id": "c24ce4bb-8367-4e2a-b273-b46d14abe970",
   "metadata": {},
   "outputs": [],
   "source": [
    "# Save the plots\n",
    "ggsave(\"ground_truth.png\", plot = ground_truth, width = 10, height = 10)\n",
    "ggsave(\"predict_RFC.png\", plot = predict_RFC, width = 10, height = 10)"
   ]
  },
  {
   "cell_type": "markdown",
   "id": "d17f0d85-6a65-4b10-9ce0-ab9589658d9c",
   "metadata": {},
   "source": [
    "Just by visually looking at these two heat maps, we can see that the model predictions on the deaths per 10000 for the counties are very similar to the ground truth. This indicates a high model performance."
   ]
  },
  {
   "cell_type": "code",
   "execution_count": 109,
   "id": "13898886-c238-4025-a3e7-2a2be4f8cec6",
   "metadata": {},
   "outputs": [
    {
     "data": {
      "text/plain": [
       "Confusion Matrix and Statistics\n",
       "\n",
       "          Reference\n",
       "Prediction FALSE TRUE\n",
       "     FALSE    28    9\n",
       "     TRUE     60   84\n",
       "                                          \n",
       "               Accuracy : 0.6188          \n",
       "                 95% CI : (0.5438, 0.6898)\n",
       "    No Information Rate : 0.5138          \n",
       "    P-Value [Acc > NIR] : 0.002852        \n",
       "                                          \n",
       "                  Kappa : 0.2249          \n",
       "                                          \n",
       " Mcnemar's Test P-Value : 1.752e-09       \n",
       "                                          \n",
       "            Sensitivity : 0.3182          \n",
       "            Specificity : 0.9032          \n",
       "         Pos Pred Value : 0.7568          \n",
       "         Neg Pred Value : 0.5833          \n",
       "             Prevalence : 0.4862          \n",
       "         Detection Rate : 0.1547          \n",
       "   Detection Prevalence : 0.2044          \n",
       "      Balanced Accuracy : 0.6107          \n",
       "                                          \n",
       "       'Positive' Class : FALSE           \n",
       "                                          "
      ]
     },
     "metadata": {},
     "output_type": "display_data"
    }
   ],
   "source": [
    "# Confusion Matrix\n",
    "confusionMatrix(data = dataset_test$high_predicted_RFC, ref = dataset_test$high)"
   ]
  },
  {
   "cell_type": "markdown",
   "id": "18ef8501-aaf8-4acc-8109-de8129d5a4a1",
   "metadata": {},
   "source": [
    "# K-Nearest Neighbor Classifier"
   ]
  },
  {
   "cell_type": "code",
   "execution_count": 110,
   "id": "59531e25-ca44-4571-8cc4-b6029726b426",
   "metadata": {},
   "outputs": [
    {
     "data": {
      "text/plain": [
       "k-Nearest Neighbors \n",
       "\n",
       "23 samples\n",
       "11 predictors\n",
       " 2 classes: 'FALSE', 'TRUE' \n",
       "\n",
       "Pre-processing: scaled (11) \n",
       "Resampling: Cross-Validated (10 fold) \n",
       "Summary of sample sizes: 21, 21, 21, 21, 21, 21, ... \n",
       "Resampling results across tuning parameters:\n",
       "\n",
       "  k  Accuracy   Kappa\n",
       "  1  0.8833333  0.74 \n",
       "  3  0.8666667  0.70 \n",
       "  5  0.8333333  0.64 \n",
       "  7  0.7000000  0.34 \n",
       "  9  0.6666667  0.29 \n",
       "\n",
       "Accuracy was used to select the optimal model using the largest value.\n",
       "The final value used for the model was k = 1."
      ]
     },
     "metadata": {},
     "output_type": "display_data"
    }
   ],
   "source": [
    "# K-nearest neighbor classifier (k values: 1, 3, 5, 7, 9), training method as 10 folds cross validation\n",
    "knn_classifier <- dataset_train_for_model %>% \n",
    "    train(high ~ .,\n",
    "          method = \"knn\",\n",
    "          data = .,\n",
    "          preProcess = \"scale\",\n",
    "          tuneGrid = data.frame(k = c(1, 3, 5, 7, 9)),\n",
    "          trControl = trainControl(method = \"cv\", number=10))\n",
    "\n",
    "knn_classifier"
   ]
  },
  {
   "cell_type": "code",
   "execution_count": 111,
   "id": "e233655e-cb6e-40e3-a5e5-e22512921d0c",
   "metadata": {},
   "outputs": [
    {
     "data": {
      "text/plain": [
       "ROC curve variable importance\n",
       "\n",
       "                                              Importance\n",
       "commute                                           100.00\n",
       "worked_at_home                                     97.96\n",
       "income_50K_100K                                    89.80\n",
       "hispanic_pop                                       85.71\n",
       "black_pop                                          55.10\n",
       "total_pop                                          53.06\n",
       "workplaces_percent_change_from_baseline            32.65\n",
       "transit_stations_percent_change_from_baseline      16.33\n",
       "female_50_above                                    10.20\n",
       "male_50_above                                      10.20\n",
       "rent_over_50_percent                                0.00"
      ]
     },
     "metadata": {},
     "output_type": "display_data"
    }
   ],
   "source": [
    "# Ranking of the features for predictions in the model\n",
    "varImp(knn_classifier)"
   ]
  },
  {
   "cell_type": "markdown",
   "id": "04232d6b-0bde-49cb-ae49-f407abd5328c",
   "metadata": {},
   "source": [
    "## Accuracy & Evaluation"
   ]
  },
  {
   "cell_type": "code",
   "execution_count": 112,
   "id": "b87ddae1-3235-45a3-9eba-886c378d86f9",
   "metadata": {},
   "outputs": [],
   "source": [
    " # Use the model to predict on the test dataset. Add predicted values to column \"high_predicted_knn\"\n",
    "dataset_test$high_predicted_knn <- predict(knn_classifier, dataset_test_for_model)"
   ]
  },
  {
   "cell_type": "code",
   "execution_count": 113,
   "id": "fc68fd3e-674c-473d-8a6f-c28b6f81fa72",
   "metadata": {},
   "outputs": [
    {
     "data": {
      "text/html": [
       "<style>\n",
       ".list-inline {list-style: none; margin:0; padding: 0}\n",
       ".list-inline>li {display: inline-block}\n",
       ".list-inline>li:not(:last-child)::after {content: \"\\00b7\"; padding: 0 .5ex}\n",
       "</style>\n",
       "<ol class=list-inline><li>'county_name'</li><li>'total_pop'</li><li>'hispanic_pop'</li><li>'black_pop'</li><li>'male_50_above'</li><li>'female_50_above'</li><li>'income_50K_100K'</li><li>'rent_over_50_percent'</li><li>'commute'</li><li>'worked_at_home'</li><li>'transit_stations_percent_change_from_baseline'</li><li>'workplaces_percent_change_from_baseline'</li><li>'cases_per_10000'</li><li>'deaths_per_10000'</li><li>'death_per_case'</li><li>'high'</li><li>'high_predicted_RFC'</li><li>'high_predicted_knn'</li><li>'high_predicted_xgboost'</li><li>'high_predicted_xgboost_svm'</li><li>'high_predicted_nnet'</li></ol>\n"
      ],
      "text/latex": [
       "\\begin{enumerate*}\n",
       "\\item 'county\\_name'\n",
       "\\item 'total\\_pop'\n",
       "\\item 'hispanic\\_pop'\n",
       "\\item 'black\\_pop'\n",
       "\\item 'male\\_50\\_above'\n",
       "\\item 'female\\_50\\_above'\n",
       "\\item 'income\\_50K\\_100K'\n",
       "\\item 'rent\\_over\\_50\\_percent'\n",
       "\\item 'commute'\n",
       "\\item 'worked\\_at\\_home'\n",
       "\\item 'transit\\_stations\\_percent\\_change\\_from\\_baseline'\n",
       "\\item 'workplaces\\_percent\\_change\\_from\\_baseline'\n",
       "\\item 'cases\\_per\\_10000'\n",
       "\\item 'deaths\\_per\\_10000'\n",
       "\\item 'death\\_per\\_case'\n",
       "\\item 'high'\n",
       "\\item 'high\\_predicted\\_RFC'\n",
       "\\item 'high\\_predicted\\_knn'\n",
       "\\item 'high\\_predicted\\_xgboost'\n",
       "\\item 'high\\_predicted\\_xgboost\\_svm'\n",
       "\\item 'high\\_predicted\\_nnet'\n",
       "\\end{enumerate*}\n"
      ],
      "text/markdown": [
       "1. 'county_name'\n",
       "2. 'total_pop'\n",
       "3. 'hispanic_pop'\n",
       "4. 'black_pop'\n",
       "5. 'male_50_above'\n",
       "6. 'female_50_above'\n",
       "7. 'income_50K_100K'\n",
       "8. 'rent_over_50_percent'\n",
       "9. 'commute'\n",
       "10. 'worked_at_home'\n",
       "11. 'transit_stations_percent_change_from_baseline'\n",
       "12. 'workplaces_percent_change_from_baseline'\n",
       "13. 'cases_per_10000'\n",
       "14. 'deaths_per_10000'\n",
       "15. 'death_per_case'\n",
       "16. 'high'\n",
       "17. 'high_predicted_RFC'\n",
       "18. 'high_predicted_knn'\n",
       "19. 'high_predicted_xgboost'\n",
       "20. 'high_predicted_xgboost_svm'\n",
       "21. 'high_predicted_nnet'\n",
       "\n",
       "\n"
      ],
      "text/plain": [
       " [1] \"county_name\"                                  \n",
       " [2] \"total_pop\"                                    \n",
       " [3] \"hispanic_pop\"                                 \n",
       " [4] \"black_pop\"                                    \n",
       " [5] \"male_50_above\"                                \n",
       " [6] \"female_50_above\"                              \n",
       " [7] \"income_50K_100K\"                              \n",
       " [8] \"rent_over_50_percent\"                         \n",
       " [9] \"commute\"                                      \n",
       "[10] \"worked_at_home\"                               \n",
       "[11] \"transit_stations_percent_change_from_baseline\"\n",
       "[12] \"workplaces_percent_change_from_baseline\"      \n",
       "[13] \"cases_per_10000\"                              \n",
       "[14] \"deaths_per_10000\"                             \n",
       "[15] \"death_per_case\"                               \n",
       "[16] \"high\"                                         \n",
       "[17] \"high_predicted_RFC\"                           \n",
       "[18] \"high_predicted_knn\"                           \n",
       "[19] \"high_predicted_xgboost\"                       \n",
       "[20] \"high_predicted_xgboost_svm\"                   \n",
       "[21] \"high_predicted_nnet\"                          "
      ]
     },
     "metadata": {},
     "output_type": "display_data"
    }
   ],
   "source": [
    "#Check if the column was added\n",
    "names(dataset_test)"
   ]
  },
  {
   "cell_type": "code",
   "execution_count": 145,
   "id": "971de4cc-0382-4688-9fe8-de57ec9adae6",
   "metadata": {},
   "outputs": [
    {
     "name": "stderr",
     "output_type": "stream",
     "text": [
      "\u001b[1m\u001b[22mJoining with `by = join_by(county)`\n"
     ]
    },
    {
     "data": {
      "image/png": "[encoded data removed]",
      "text/plain": [
       "plot without title"
      ]
     },
     "metadata": {
      "image/png": {
       "height": 420,
       "width": 420
      }
     },
     "output_type": "display_data"
    },
    {
     "data": {
      "image/png": "[encoded data removed]",
      "text/plain": [
       "plot without title"
      ]
     },
     "metadata": {
      "image/png": {
       "height": 420,
       "width": 420
      }
     },
     "output_type": "display_data"
    }
   ],
   "source": [
    "# Visualize the prediction results\n",
    "counties_test <- texas_counties %>% left_join(dataset_test %>% \n",
    "    mutate(county = county_name %>% str_to_lower() %>% \n",
    "        str_replace('\\\\s+county\\\\s*$', '')))\n",
    "\n",
    "# Ground truth\n",
    "ggplot(counties_test, aes(long, lat)) + \n",
    "  geom_polygon(aes(group = group, fill = high), color = \"black\", size = 0.1) + \n",
    "  coord_quickmap() + \n",
    "  scale_fill_manual(values = c('TRUE' = 'red', 'FALSE' = 'grey'))\n",
    "\n",
    "# Predictions\n",
    "predict_knn <- ggplot(counties_test, aes(long, lat)) + \n",
    "  geom_polygon(aes(group = group, fill = high_predicted_knn), color = \"black\", size = 0.1) + \n",
    "    coord_quickmap() + \n",
    "  scale_fill_manual(values = c('TRUE' = 'red', 'FALSE' = 'grey'))+\n",
    "  ggtitle(\"Predicted by K-Nearest Neighbor Classifier\")\n",
    "\n",
    "predict_knn"
   ]
  },
  {
   "cell_type": "markdown",
   "id": "57c6dabb-484c-494b-b3d0-ac2704910471",
   "metadata": {},
   "source": [
    "Less accurate than previous model."
   ]
  },
  {
   "cell_type": "code",
   "execution_count": 146,
   "id": "25abf737-4fbb-479e-b5a7-b03c0ed50cf8",
   "metadata": {},
   "outputs": [],
   "source": [
    "# Save the plot\n",
    "ggsave(\"predict_knn.png\", plot = predict_knn, width = 10, height = 10)"
   ]
  },
  {
   "cell_type": "code",
   "execution_count": 115,
   "id": "315550ee-c910-491d-b66d-55a9d753f8c9",
   "metadata": {},
   "outputs": [
    {
     "data": {
      "text/plain": [
       "Confusion Matrix and Statistics\n",
       "\n",
       "          Reference\n",
       "Prediction FALSE TRUE\n",
       "     FALSE    48   25\n",
       "     TRUE     40   68\n",
       "                                          \n",
       "               Accuracy : 0.6409          \n",
       "                 95% CI : (0.5664, 0.7107)\n",
       "    No Information Rate : 0.5138          \n",
       "    P-Value [Acc > NIR] : 0.0003766       \n",
       "                                          \n",
       "                  Kappa : 0.2779          \n",
       "                                          \n",
       " Mcnemar's Test P-Value : 0.0824779       \n",
       "                                          \n",
       "            Sensitivity : 0.5455          \n",
       "            Specificity : 0.7312          \n",
       "         Pos Pred Value : 0.6575          \n",
       "         Neg Pred Value : 0.6296          \n",
       "             Prevalence : 0.4862          \n",
       "         Detection Rate : 0.2652          \n",
       "   Detection Prevalence : 0.4033          \n",
       "      Balanced Accuracy : 0.6383          \n",
       "                                          \n",
       "       'Positive' Class : FALSE           \n",
       "                                          "
      ]
     },
     "metadata": {},
     "output_type": "display_data"
    }
   ],
   "source": [
    "# Confusion Matrix\n",
    "confusionMatrix(data = dataset_test$high_predicted_knn, ref = dataset_test$high)"
   ]
  },
  {
   "cell_type": "markdown",
   "id": "3de9e11a-df92-4848-9896-4cafeeda1249",
   "metadata": {},
   "source": [
    "# Gradient Boosted Decision Trees (xgboost)"
   ]
  },
  {
   "cell_type": "code",
   "execution_count": 116,
   "id": "2ba7f352-9fce-4419-9e5c-d67dda3c737f",
   "metadata": {},
   "outputs": [
    {
     "name": "stderr",
     "output_type": "stream",
     "text": [
      "Warning message:\n",
      "\"package 'xgboost' is in use and will not be installed\"\n"
     ]
    }
   ],
   "source": [
    "install.packages(\"xgboost\")"
   ]
  },
  {
   "cell_type": "code",
   "execution_count": 77,
   "id": "95db2bf9-ff35-4737-9337-10171a0ddfbb",
   "metadata": {},
   "outputs": [
    {
     "name": "stderr",
     "output_type": "stream",
     "text": [
      "Warning message:\n",
      "\"package 'xgboost' was built under R version 4.4.2\"\n",
      "\n",
      "Attaching package: 'xgboost'\n",
      "\n",
      "\n",
      "The following object is masked from 'package:dplyr':\n",
      "\n",
      "    slice\n",
      "\n",
      "\n"
     ]
    }
   ],
   "source": [
    "library(xgboost)"
   ]
  },
  {
   "cell_type": "code",
   "execution_count": 117,
   "id": "f7e8d02d-af1e-4a99-b6e5-c78bedbf40fe",
   "metadata": {},
   "outputs": [
    {
     "data": {
      "text/plain": [
       "eXtreme Gradient Boosting \n",
       "\n",
       "23 samples\n",
       "11 predictors\n",
       " 2 classes: 'FALSE', 'TRUE' \n",
       "\n",
       "No pre-processing\n",
       "Resampling: Cross-Validated (10 fold) \n",
       "Summary of sample sizes: 21, 21, 21, 20, 21, 21, ... \n",
       "Resampling results:\n",
       "\n",
       "  Accuracy  Kappa\n",
       "  0.775     0.55 \n",
       "\n",
       "Tuning parameter 'nrounds' was held constant at a value of 20\n",
       "Tuning\n",
       " held constant at a value of 1\n",
       "Tuning parameter 'subsample' was held\n",
       " constant at a value of 0.5"
      ]
     },
     "metadata": {},
     "output_type": "display_data"
    }
   ],
   "source": [
    "# Using 5 tuning parameter combinations, 10 folds CV, and some tuning grid for hyperparameters tuning\n",
    "xgboost_classifier <- dataset_train_for_model %>%\n",
    "  train(high ~ .,\n",
    "        method = \"xgbTree\",\n",
    "        data = .,\n",
    "        tuneLength = 5,\n",
    "        trControl = trainControl(method = \"cv\"),\n",
    "        tuneGrid = expand.grid(\n",
    "          nrounds = 20,\n",
    "          max_depth = 3,\n",
    "          colsample_bytree = .6,\n",
    "          eta = 0.1,\n",
    "          gamma = 0,\n",
    "          min_child_weight = 1,\n",
    "          subsample = .5\n",
    "        )\n",
    "  )\n",
    "xgboost_classifier"
   ]
  },
  {
   "cell_type": "code",
   "execution_count": 147,
   "id": "ac844163-229e-4e19-b281-7190efd5be2b",
   "metadata": {},
   "outputs": [
    {
     "data": {
      "text/plain": [
       "xgbTree variable importance\n",
       "\n",
       "                                              Overall\n",
       "worked_at_home                                100.000\n",
       "commute                                        84.673\n",
       "hispanic_pop                                   41.586\n",
       "income_50K_100K                                23.049\n",
       "transit_stations_percent_change_from_baseline   4.598\n",
       "black_pop                                       0.000\n",
       "rent_over_50_percent                            0.000\n",
       "male_50_above                                   0.000\n",
       "workplaces_percent_change_from_baseline         0.000\n",
       "total_pop                                       0.000\n",
       "female_50_above                                 0.000"
      ]
     },
     "metadata": {},
     "output_type": "display_data"
    }
   ],
   "source": [
    "# Ranking of the features for predictions in the model\n",
    "varImp(xgboost_classifier)"
   ]
  },
  {
   "cell_type": "markdown",
   "id": "4293d882-3933-442e-9c63-c5a6cf2eae79",
   "metadata": {},
   "source": [
    "## Accuracy & Evaluation"
   ]
  },
  {
   "cell_type": "code",
   "execution_count": 118,
   "id": "f37833cb-c790-4763-81c4-9a892edb944d",
   "metadata": {},
   "outputs": [],
   "source": [
    " # Use the model to predict on the test dataset. Add predicted values to column \"high_predicted_xgboost\"\n",
    "dataset_test$high_predicted_xgboost <- predict(xgboost_classifier, dataset_test_for_model)"
   ]
  },
  {
   "cell_type": "code",
   "execution_count": 150,
   "id": "9f6b9604-4d44-4299-aebf-dd3aa66e2e24",
   "metadata": {},
   "outputs": [
    {
     "name": "stderr",
     "output_type": "stream",
     "text": [
      "\u001b[1m\u001b[22mJoining with `by = join_by(county)`\n"
     ]
    },
    {
     "data": {
      "image/png": "[encoded data removed]",
      "text/plain": [
       "plot without title"
      ]
     },
     "metadata": {
      "image/png": {
       "height": 420,
       "width": 420
      }
     },
     "output_type": "display_data"
    },
    {
     "data": {
      "image/png": "[encoded data removed]",
      "text/plain": [
       "plot without title"
      ]
     },
     "metadata": {
      "image/png": {
       "height": 420,
       "width": 420
      }
     },
     "output_type": "display_data"
    }
   ],
   "source": [
    "# Visualize the prediction results\n",
    "counties_test <- texas_counties %>% left_join(dataset_test %>% \n",
    "    mutate(county = county_name %>% str_to_lower() %>% \n",
    "        str_replace('\\\\s+county\\\\s*$', '')))\n",
    "\n",
    "# Ground truth\n",
    "ggplot(counties_test, aes(long, lat)) + \n",
    "  geom_polygon(aes(group = group, fill = high), color = \"black\", size = 0.1) + \n",
    "  coord_quickmap() + \n",
    "  scale_fill_manual(values = c('TRUE' = 'red', 'FALSE' = 'grey'))\n",
    "\n",
    "# Predictions\n",
    "predict_xgboost <- ggplot(counties_test, aes(long, lat)) + \n",
    "  geom_polygon(aes(group = group, fill = high_predicted_xgboost), color = \"black\", size = 0.1) + \n",
    "    coord_quickmap() + \n",
    "  scale_fill_manual(values = c('TRUE' = 'red', 'FALSE' = 'grey'))+ \n",
    "  ggtitle(\"Predicted by XGBoost classifier\")\n",
    "\n",
    "predict_xgboost"
   ]
  },
  {
   "cell_type": "code",
   "execution_count": 151,
   "id": "5fab3f41-4055-4e2d-8ccd-6a4fb44c361d",
   "metadata": {},
   "outputs": [],
   "source": [
    "# Save the plot\n",
    "ggsave(\"predict_xgboost.png\", plot = predict_xgboost, width = 10, height = 10)"
   ]
  },
  {
   "cell_type": "code",
   "execution_count": 152,
   "id": "f28270c2-b03b-475f-aa63-4e54b52a00c4",
   "metadata": {},
   "outputs": [
    {
     "data": {
      "text/plain": [
       "Confusion Matrix and Statistics\n",
       "\n",
       "          Reference\n",
       "Prediction FALSE TRUE\n",
       "     FALSE    38   22\n",
       "     TRUE     50   71\n",
       "                                          \n",
       "               Accuracy : 0.6022          \n",
       "                 95% CI : (0.5269, 0.6741)\n",
       "    No Information Rate : 0.5138          \n",
       "    P-Value [Acc > NIR] : 0.010369        \n",
       "                                          \n",
       "                  Kappa : 0.1969          \n",
       "                                          \n",
       " Mcnemar's Test P-Value : 0.001463        \n",
       "                                          \n",
       "            Sensitivity : 0.4318          \n",
       "            Specificity : 0.7634          \n",
       "         Pos Pred Value : 0.6333          \n",
       "         Neg Pred Value : 0.5868          \n",
       "             Prevalence : 0.4862          \n",
       "         Detection Rate : 0.2099          \n",
       "   Detection Prevalence : 0.3315          \n",
       "      Balanced Accuracy : 0.5976          \n",
       "                                          \n",
       "       'Positive' Class : FALSE           \n",
       "                                          "
      ]
     },
     "metadata": {},
     "output_type": "display_data"
    }
   ],
   "source": [
    "# Confusion Matrix\n",
    "confusionMatrix(data = dataset_test$high_predicted_xgboost, ref = dataset_test$high)"
   ]
  },
  {
   "cell_type": "markdown",
   "id": "a41f10d8-e2d5-4b76-91a8-ada639873028",
   "metadata": {},
   "source": [
    "# Support Vector Machines"
   ]
  },
  {
   "cell_type": "code",
   "execution_count": 82,
   "id": "ac5fa807-e973-4204-840c-9ef0e0007cea",
   "metadata": {},
   "outputs": [
    {
     "name": "stdout",
     "output_type": "stream",
     "text": [
      "package 'kernlab' successfully unpacked and MD5 sums checked\n",
      "\n",
      "The downloaded binary packages are in\n",
      "\tC:\\Users\\yamph\\AppData\\Local\\Temp\\Rtmpo3USm3\\downloaded_packages\n"
     ]
    }
   ],
   "source": [
    "install.packages(\"kernlab\")"
   ]
  },
  {
   "cell_type": "code",
   "execution_count": 83,
   "id": "58088072-53b9-4912-a44b-249268f6c62a",
   "metadata": {},
   "outputs": [
    {
     "name": "stderr",
     "output_type": "stream",
     "text": [
      "\n",
      "Attaching package: 'kernlab'\n",
      "\n",
      "\n",
      "The following object is masked from 'package:purrr':\n",
      "\n",
      "    cross\n",
      "\n",
      "\n",
      "The following object is masked from 'package:ggplot2':\n",
      "\n",
      "    alpha\n",
      "\n",
      "\n"
     ]
    }
   ],
   "source": [
    "library(kernlab)"
   ]
  },
  {
   "cell_type": "code",
   "execution_count": 153,
   "id": "a0c977ea-82ae-40d9-bd67-2cae22391a97",
   "metadata": {},
   "outputs": [
    {
     "data": {
      "text/plain": [
       "Support Vector Machines with Linear Kernel \n",
       "\n",
       "23 samples\n",
       "11 predictors\n",
       " 2 classes: 'FALSE', 'TRUE' \n",
       "\n",
       "No pre-processing\n",
       "Resampling: Cross-Validated (10 fold) \n",
       "Summary of sample sizes: 20, 21, 20, 21, 21, 21, ... \n",
       "Resampling results:\n",
       "\n",
       "  Accuracy  Kappa\n",
       "  0.75      0.45 \n",
       "\n",
       "Tuning parameter 'C' was held constant at a value of 1"
      ]
     },
     "metadata": {},
     "output_type": "display_data"
    }
   ],
   "source": [
    "# Using 5 tuning parameter combinations, 10 folds CV.\n",
    "svm <- dataset_train_for_model %>%\n",
    "  train(high ~ .,\n",
    "        method = \"svmLinear\",\n",
    "        data = .,\n",
    "        tuneLength = 5,\n",
    "        trControl = trainControl(method = \"cv\"))\n",
    "svm"
   ]
  },
  {
   "cell_type": "code",
   "execution_count": 154,
   "id": "1e3ca189-ee0f-436f-8347-28102c657b4a",
   "metadata": {},
   "outputs": [
    {
     "data": {
      "text/plain": [
       "ROC curve variable importance\n",
       "\n",
       "                                              Importance\n",
       "commute                                           100.00\n",
       "worked_at_home                                     97.96\n",
       "income_50K_100K                                    89.80\n",
       "hispanic_pop                                       85.71\n",
       "black_pop                                          55.10\n",
       "total_pop                                          53.06\n",
       "workplaces_percent_change_from_baseline            32.65\n",
       "transit_stations_percent_change_from_baseline      16.33\n",
       "male_50_above                                      10.20\n",
       "female_50_above                                    10.20\n",
       "rent_over_50_percent                                0.00"
      ]
     },
     "metadata": {},
     "output_type": "display_data"
    }
   ],
   "source": [
    "# Ranking of the features for predictions in the model\n",
    "varImp(svm)"
   ]
  },
  {
   "cell_type": "markdown",
   "id": "3d89e98b-c8db-469e-8973-c848741cc8c2",
   "metadata": {},
   "source": [
    "## Accuracy & Evaluation"
   ]
  },
  {
   "cell_type": "code",
   "execution_count": 155,
   "id": "bd48605a-0dda-4e4b-8a39-58eae6cda2e9",
   "metadata": {},
   "outputs": [],
   "source": [
    " # Use the model to predict on the test dataset. Add predicted values to column \"high_predicted_xgboost_svm\"\n",
    "dataset_test$high_predicted_xgboost_svm <- predict(svm, dataset_test_for_model)"
   ]
  },
  {
   "cell_type": "code",
   "execution_count": 157,
   "id": "37695cba-e769-40a2-a9d5-23409e26859f",
   "metadata": {},
   "outputs": [
    {
     "name": "stderr",
     "output_type": "stream",
     "text": [
      "\u001b[1m\u001b[22mJoining with `by = join_by(county)`\n"
     ]
    },
    {
     "data": {
      "image/png": "[encoded data removed]",
      "text/plain": [
       "plot without title"
      ]
     },
     "metadata": {
      "image/png": {
       "height": 420,
       "width": 420
      }
     },
     "output_type": "display_data"
    },
    {
     "data": {
      "image/png": "[encoded data removed]",
      "text/plain": [
       "plot without title"
      ]
     },
     "metadata": {
      "image/png": {
       "height": 420,
       "width": 420
      }
     },
     "output_type": "display_data"
    }
   ],
   "source": [
    "# Visualize the prediction results\n",
    "counties_test <- texas_counties %>% left_join(dataset_test %>% \n",
    "    mutate(county = county_name %>% str_to_lower() %>% \n",
    "        str_replace('\\\\s+county\\\\s*$', '')))\n",
    "\n",
    "# Ground truth\n",
    "ggplot(counties_test, aes(long, lat)) + \n",
    "  geom_polygon(aes(group = group, fill = high), color = \"black\", size = 0.1) + \n",
    "  coord_quickmap() + \n",
    "  scale_fill_manual(values = c('TRUE' = 'red', 'FALSE' = 'grey'))\n",
    "\n",
    "# Predictions\n",
    "predict_svm <- ggplot(counties_test, aes(long, lat)) + \n",
    "  geom_polygon(aes(group = group, fill = high_predicted_xgboost_svm), color = \"black\", size = 0.1) + \n",
    "    coord_quickmap() + \n",
    "  scale_fill_manual(values = c('TRUE' = 'red', 'FALSE' = 'grey')) + \n",
    "  ggtitle(\"Predicted by SVM\")\n",
    "\n",
    "predict_svm"
   ]
  },
  {
   "cell_type": "code",
   "execution_count": 158,
   "id": "cc38a5e6-567e-491e-93db-5f8bd011a8c7",
   "metadata": {},
   "outputs": [],
   "source": [
    "# Save the plot\n",
    "ggsave(\"predict_svm.png\", plot = predict_svm, width = 10, height = 10)"
   ]
  },
  {
   "cell_type": "code",
   "execution_count": 159,
   "id": "b008678b-217d-4ae4-9cda-3b94e27ba974",
   "metadata": {},
   "outputs": [
    {
     "data": {
      "text/plain": [
       "Confusion Matrix and Statistics\n",
       "\n",
       "          Reference\n",
       "Prediction FALSE TRUE\n",
       "     FALSE    57   42\n",
       "     TRUE     31   51\n",
       "                                          \n",
       "               Accuracy : 0.5967          \n",
       "                 95% CI : (0.5214, 0.6688)\n",
       "    No Information Rate : 0.5138          \n",
       "    P-Value [Acc > NIR] : 0.01529         \n",
       "                                          \n",
       "                  Kappa : 0.1955          \n",
       "                                          \n",
       " Mcnemar's Test P-Value : 0.24184         \n",
       "                                          \n",
       "            Sensitivity : 0.6477          \n",
       "            Specificity : 0.5484          \n",
       "         Pos Pred Value : 0.5758          \n",
       "         Neg Pred Value : 0.6220          \n",
       "             Prevalence : 0.4862          \n",
       "         Detection Rate : 0.3149          \n",
       "   Detection Prevalence : 0.5470          \n",
       "      Balanced Accuracy : 0.5981          \n",
       "                                          \n",
       "       'Positive' Class : FALSE           \n",
       "                                          "
      ]
     },
     "metadata": {},
     "output_type": "display_data"
    }
   ],
   "source": [
    "# Confusion Matrix\n",
    "confusionMatrix(data = dataset_test$high_predicted_xgboost_svm, ref = dataset_test$high)"
   ]
  },
  {
   "cell_type": "markdown",
   "id": "05eca722-3279-44e5-950c-038adf5116f8",
   "metadata": {},
   "source": [
    "# Artificial Neural Network (ANN)\n"
   ]
  },
  {
   "cell_type": "code",
   "execution_count": 160,
   "id": "98f31bd1-32e6-48bb-b89c-1e698ce3eea7",
   "metadata": {},
   "outputs": [
    {
     "data": {
      "text/plain": [
       "Neural Network \n",
       "\n",
       "23 samples\n",
       "11 predictors\n",
       " 2 classes: 'FALSE', 'TRUE' \n",
       "\n",
       "No pre-processing\n",
       "Resampling: Cross-Validated (10 fold) \n",
       "Summary of sample sizes: 21, 21, 21, 19, 21, 21, ... \n",
       "Resampling results across tuning parameters:\n",
       "\n",
       "  size  decay  Accuracy   Kappa\n",
       "  1     0e+00  0.4833333  0.00 \n",
       "  1     1e-04  0.5166667  0.00 \n",
       "  1     1e-03  0.5500000  0.10 \n",
       "  1     1e-02  0.7166667  0.44 \n",
       "  1     1e-01  0.7166667  0.40 \n",
       "  3     0e+00  0.5166667  0.00 \n",
       "  3     1e-04  0.5416667  0.05 \n",
       "  3     1e-03  0.6916667  0.35 \n",
       "  3     1e-02  0.6750000  0.35 \n",
       "  3     1e-01  0.7500000  0.50 \n",
       "  5     0e+00  0.5166667  0.00 \n",
       "  5     1e-04  0.5083333  0.05 \n",
       "  5     1e-03  0.7000000  0.40 \n",
       "  5     1e-02  0.7250000  0.45 \n",
       "  5     1e-01  0.8250000  0.65 \n",
       "  7     0e+00  0.4833333  0.00 \n",
       "  7     1e-04  0.6750000  0.35 \n",
       "  7     1e-03  0.7250000  0.45 \n",
       "  7     1e-02  0.5916667  0.19 \n",
       "  7     1e-01  0.7500000  0.50 \n",
       "  9     0e+00  0.5166667  0.00 \n",
       "  9     1e-04  0.7250000  0.45 \n",
       "  9     1e-03  0.7750000  0.55 \n",
       "  9     1e-02  0.6750000  0.35 \n",
       "  9     1e-01  0.7250000  0.45 \n",
       "\n",
       "Accuracy was used to select the optimal model using the largest value.\n",
       "The final values used for the model were size = 5 and decay = 0.1."
      ]
     },
     "metadata": {},
     "output_type": "display_data"
    }
   ],
   "source": [
    "# Using 5 tuning parameter combinations, 10 folds CV.\n",
    "nnet <- dataset_train_for_model %>%\n",
    "  train(high ~ .,\n",
    "        method = \"nnet\",\n",
    "        data = .,\n",
    "        tuneLength = 5,\n",
    "        trControl = trainControl(method = \"cv\"),\n",
    "       trace = FALSE)\n",
    "nnet"
   ]
  },
  {
   "cell_type": "code",
   "execution_count": 161,
   "id": "da8d9f8a-6b2b-41a0-ae36-983f04fa7822",
   "metadata": {},
   "outputs": [
    {
     "data": {
      "text/plain": [
       "nnet variable importance\n",
       "\n",
       "                                                Overall\n",
       "total_pop                                     100.00000\n",
       "transit_stations_percent_change_from_baseline  96.84173\n",
       "workplaces_percent_change_from_baseline        43.91121\n",
       "commute                                         4.45069\n",
       "hispanic_pop                                    3.07584\n",
       "female_50_above                                 0.98511\n",
       "male_50_above                                   0.92064\n",
       "income_50K_100K                                 0.57620\n",
       "black_pop                                       0.38387\n",
       "rent_over_50_percent                            0.05944\n",
       "worked_at_home                                  0.00000"
      ]
     },
     "metadata": {},
     "output_type": "display_data"
    }
   ],
   "source": [
    "# Ranking of the features for predictions in the model\n",
    "varImp(nnet)"
   ]
  },
  {
   "cell_type": "markdown",
   "id": "f47dcce3-c39a-4f37-b015-35a168d971e5",
   "metadata": {},
   "source": [
    "## Accuracy & Evaluation"
   ]
  },
  {
   "cell_type": "code",
   "execution_count": 128,
   "id": "bdc3b27f-4bab-45b9-9998-c2a172076f86",
   "metadata": {},
   "outputs": [],
   "source": [
    " # Use the model to predict on the test dataset. Add predicted values to column \"high_predicted_nnet\"\n",
    "dataset_test$high_predicted_nnet <- predict(nnet, dataset_test_for_model)"
   ]
  },
  {
   "cell_type": "code",
   "execution_count": 162,
   "id": "115cea64-3dfd-4a7c-8745-b3e287c53ef4",
   "metadata": {},
   "outputs": [
    {
     "name": "stderr",
     "output_type": "stream",
     "text": [
      "\u001b[1m\u001b[22mJoining with `by = join_by(county)`\n"
     ]
    },
    {
     "data": {
      "image/png": "[encoded data removed]",
      "text/plain": [
       "plot without title"
      ]
     },
     "metadata": {
      "image/png": {
       "height": 420,
       "width": 420
      }
     },
     "output_type": "display_data"
    },
    {
     "data": {
      "image/png": "[encoded data removed]",
      "text/plain": [
       "plot without title"
      ]
     },
     "metadata": {
      "image/png": {
       "height": 420,
       "width": 420
      }
     },
     "output_type": "display_data"
    }
   ],
   "source": [
    "# Visualize the prediction results\n",
    "counties_test <- texas_counties %>% left_join(dataset_test %>% \n",
    "    mutate(county = county_name %>% str_to_lower() %>% \n",
    "        str_replace('\\\\s+county\\\\s*$', '')))\n",
    "\n",
    "# Ground truth\n",
    "ggplot(counties_test, aes(long, lat)) + \n",
    "  geom_polygon(aes(group = group, fill = high), color = \"black\", size = 0.1) + \n",
    "  coord_quickmap() + \n",
    "  scale_fill_manual(values = c('TRUE' = 'red', 'FALSE' = 'grey'))\n",
    "\n",
    "# Predictions\n",
    "predict_ANN <- ggplot(counties_test, aes(long, lat)) + \n",
    "  geom_polygon(aes(group = group, fill = high_predicted_nnet), color = \"black\", size = 0.1) + \n",
    "    coord_quickmap() + \n",
    "  scale_fill_manual(values = c('TRUE' = 'red', 'FALSE' = 'grey')) +\n",
    "  ggtitle(\"Predicted by ANN\")\n",
    "\n",
    "predict_ANN"
   ]
  },
  {
   "cell_type": "code",
   "execution_count": 163,
   "id": "cb8bab76-d8a0-4614-92d8-11ffff573f57",
   "metadata": {},
   "outputs": [],
   "source": [
    "# Save the plot\n",
    "ggsave(\"predict_ANN.png\", plot = predict_ANN, width = 10, height = 10)"
   ]
  },
  {
   "cell_type": "code",
   "execution_count": 164,
   "id": "05bcdabf-6cbf-482b-bfd2-2cd1ca92c1ee",
   "metadata": {},
   "outputs": [
    {
     "data": {
      "text/plain": [
       "Confusion Matrix and Statistics\n",
       "\n",
       "          Reference\n",
       "Prediction FALSE TRUE\n",
       "     FALSE    32   15\n",
       "     TRUE     56   78\n",
       "                                          \n",
       "               Accuracy : 0.6077          \n",
       "                 95% CI : (0.5326, 0.6793)\n",
       "    No Information Rate : 0.5138          \n",
       "    P-Value [Acc > NIR] : 0.006888        \n",
       "                                          \n",
       "                  Kappa : 0.2049          \n",
       "                                          \n",
       " Mcnemar's Test P-Value : 2.063e-06       \n",
       "                                          \n",
       "            Sensitivity : 0.3636          \n",
       "            Specificity : 0.8387          \n",
       "         Pos Pred Value : 0.6809          \n",
       "         Neg Pred Value : 0.5821          \n",
       "             Prevalence : 0.4862          \n",
       "         Detection Rate : 0.1768          \n",
       "   Detection Prevalence : 0.2597          \n",
       "      Balanced Accuracy : 0.6012          \n",
       "                                          \n",
       "       'Positive' Class : FALSE           \n",
       "                                          "
      ]
     },
     "metadata": {},
     "output_type": "display_data"
    }
   ],
   "source": [
    "# Confusion Matrix\n",
    "confusionMatrix(data = dataset_test$high_predicted_nnet, ref = dataset_test$high)"
   ]
  },
  {
   "cell_type": "markdown",
   "id": "3e680318-0173-45c8-8b6f-5153eaa69214",
   "metadata": {},
   "source": [
    "# Model Comparison"
   ]
  },
  {
   "cell_type": "code",
   "execution_count": 165,
   "id": "27cfd5be-5f53-4bb0-81d1-ce5977e5b129",
   "metadata": {},
   "outputs": [
    {
     "data": {
      "text/plain": [
       "\n",
       "Call:\n",
       "summary.resamples(object = model_comparison)\n",
       "\n",
       "Models: kNearestNeighbors, SVM, RandomForest, XGBoost, ANN \n",
       "Number of resamples: 10 \n",
       "\n",
       "Accuracy \n",
       "                       Min. 1st Qu.    Median      Mean 3rd Qu. Max. NA's\n",
       "kNearestNeighbors 0.5000000  0.7500 1.0000000 0.8833333       1    1    0\n",
       "SVM               0.3333333  0.5000 0.8333333 0.7500000       1    1    0\n",
       "RandomForest      0.5000000  0.6250 1.0000000 0.8500000       1    1    0\n",
       "XGBoost           0.0000000  0.5625 1.0000000 0.7750000       1    1    0\n",
       "ANN               0.5000000  0.5625 1.0000000 0.8250000       1    1    0\n",
       "\n",
       "Kappa \n",
       "                  Min. 1st Qu. Median Mean 3rd Qu. Max. NA's\n",
       "kNearestNeighbors  0.0   0.550    1.0 0.74       1    1    0\n",
       "SVM               -0.5   0.000    0.5 0.45       1    1    0\n",
       "RandomForest       0.0   0.250    1.0 0.70       1    1    0\n",
       "XGBoost           -1.0   0.125    1.0 0.55       1    1    0\n",
       "ANN                0.0   0.125    1.0 0.65       1    1    0\n"
      ]
     },
     "metadata": {},
     "output_type": "display_data"
    }
   ],
   "source": [
    "model_comparison <- resamples(list(\n",
    "    kNearestNeighbors = knn_classifier,\n",
    "    SVM = svm,\n",
    "    RandomForest = random_forest_classifier,\n",
    "    XGBoost = xgboost_classifier,\n",
    "    ANN = nnet\n",
    "    ))\n",
    "\n",
    "summary(model_comparison)"
   ]
  },
  {
   "cell_type": "code",
   "execution_count": 133,
   "id": "f0974150-a51d-4c58-ac06-de748143bc4b",
   "metadata": {},
   "outputs": [
    {
     "data": {
      "image/png": "[encoded data removed]",
      "text/plain": [
       "plot without title"
      ]
     },
     "metadata": {
      "image/png": {
       "height": 420,
       "width": 420
      }
     },
     "output_type": "display_data"
    }
   ],
   "source": [
    "# Visualization of comparison based on accuracy and Kappa scores\n",
    "bwplot(model_comparison, layout = c(3, 1))"
   ]
  },
  {
   "cell_type": "code",
   "execution_count": 134,
   "id": "c1d7155e-d50c-4985-be35-44c98cbf5601",
   "metadata": {},
   "outputs": [
    {
     "data": {
      "text/plain": [
       "\n",
       "Call:\n",
       "summary.diff.resamples(object = diff_model_comparison)\n",
       "\n",
       "p-value adjustment: bonferroni \n",
       "Upper diagonal: estimates of the difference\n",
       "Lower diagonal: p-value for H0: difference = 0\n",
       "\n",
       "Accuracy \n",
       "                  kNearestNeighbors SVM       RandomForest XGBoost   ANN      \n",
       "kNearestNeighbors                    0.100000  0.033333     0.108333  0.133333\n",
       "SVM               1                           -0.066667     0.008333  0.033333\n",
       "RandomForest      1                 1                       0.075000  0.100000\n",
       "XGBoost           1                 1         1                       0.025000\n",
       "ANN               1                 1         1            1                  \n",
       "\n",
       "Kappa \n",
       "                  kNearestNeighbors SVM   RandomForest XGBoost ANN  \n",
       "kNearestNeighbors                    0.16  0.04         0.19    0.24\n",
       "SVM               1                       -0.12         0.03    0.08\n",
       "RandomForest      1                 1                   0.15    0.20\n",
       "XGBoost           1                 1     1                     0.05\n",
       "ANN               1                 1     1            1            \n"
      ]
     },
     "metadata": {},
     "output_type": "display_data"
    }
   ],
   "source": [
    "# Difference in performance between consecutive classifiers\n",
    "diff_model_comparison <- diff(model_comparison)\n",
    "\n",
    "summary(diff_model_comparison)"
   ]
  },
  {
   "cell_type": "code",
   "execution_count": null,
   "id": "27e1b841-62c6-47d4-8589-8f9023125c20",
   "metadata": {},
   "outputs": [],
   "source": []
  }
 ],
 "metadata": {
  "kernelspec": {
   "display_name": "R",
   "language": "R",
   "name": "ir"
  },
  "language_info": {
   "codemirror_mode": "r",
   "file_extension": ".r",
   "mimetype": "text/x-r-source",
   "name": "R",
   "pygments_lexer": "r",
   "version": "4.4.1"
  }
 },
 "nbformat": 4,
 "nbformat_minor": 5
}
