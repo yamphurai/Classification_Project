{
 "cells": [
  {
   "cell_type": "code",
   "execution_count": 1,
   "id": "9701de8d-24c3-4a3a-b783-5b6fd41b6692",
   "metadata": {},
   "outputs": [
    {
     "name": "stderr",
     "output_type": "stream",
     "text": [
      "── \u001b[1mAttaching core tidyverse packages\u001b[22m ──────────────────────── tidyverse 2.0.0 ──\n",
      "\u001b[32m✔\u001b[39m \u001b[34mdplyr    \u001b[39m 1.1.4     \u001b[32m✔\u001b[39m \u001b[34mreadr    \u001b[39m 2.1.5\n",
      "\u001b[32m✔\u001b[39m \u001b[34mforcats  \u001b[39m 1.0.0     \u001b[32m✔\u001b[39m \u001b[34mstringr  \u001b[39m 1.5.1\n",
      "\u001b[32m✔\u001b[39m \u001b[34mggplot2  \u001b[39m 3.5.1     \u001b[32m✔\u001b[39m \u001b[34mtibble   \u001b[39m 3.2.1\n",
      "\u001b[32m✔\u001b[39m \u001b[34mlubridate\u001b[39m 1.9.3     \u001b[32m✔\u001b[39m \u001b[34mtidyr    \u001b[39m 1.3.1\n",
      "\u001b[32m✔\u001b[39m \u001b[34mpurrr    \u001b[39m 1.0.2     \n",
      "── \u001b[1mConflicts\u001b[22m ────────────────────────────────────────── tidyverse_conflicts() ──\n",
      "\u001b[31m✖\u001b[39m \u001b[34mdplyr\u001b[39m::\u001b[32mfilter()\u001b[39m masks \u001b[34mstats\u001b[39m::filter()\n",
      "\u001b[31m✖\u001b[39m \u001b[34mdplyr\u001b[39m::\u001b[32mlag()\u001b[39m    masks \u001b[34mstats\u001b[39m::lag()\n",
      "\u001b[36mℹ\u001b[39m Use the conflicted package (\u001b[3m\u001b[34m<http://conflicted.r-lib.org/>\u001b[39m\u001b[23m) to force all conflicts to become errors\n"
     ]
    }
   ],
   "source": [
    "# Importing necessary libraries\n",
    "library(\"tidyverse\")\n",
    "library(\"ggplot2\")\n",
    "library(\"ggrepel\")\n",
    "library(\"ggcorrplot\")\n",
    "library(\"DT\")\n",
    "library(dplyr)\n",
    "library(tidyr)"
   ]
  },
  {
   "cell_type": "markdown",
   "id": "516db875-24d2-44c8-9a2a-95a3d55079ff",
   "metadata": {},
   "source": [
    "# Data Preparation"
   ]
  },
  {
   "cell_type": "markdown",
   "id": "5db159c9-406b-4bb9-a81f-23624d7e333c",
   "metadata": {
    "jp-MarkdownHeadingCollapsed": true
   },
   "source": [
    "## Global Mobility Dataset"
   ]
  },
  {
   "cell_type": "code",
   "execution_count": 104,
   "id": "053c31bd-dafd-4cb1-affb-285f47349634",
   "metadata": {},
   "outputs": [],
   "source": [
    "# Retrieve \"COVID-19_global_mobility.csv\" file\n",
    "dataset_global_mobility <- read.csv(\"https://www.dropbox.com/scl/fi/x4i3ah1gmt4kryrrq0c8m/Global_Mobility_Report.csv?rlkey=tt4i5q1zss7e8ly2zmn8xvhc2&st=xnxrxz2d&dl=1\")"
   ]
  },
  {
   "cell_type": "code",
   "execution_count": 106,
   "id": "33552e32-6244-4ec4-9969-e3f93243e4ae",
   "metadata": {},
   "outputs": [],
   "source": [
    "# Convert the date column from character to Date format\n",
    "dataset_global_mobility <- dataset_global_mobility %>%\n",
    "  mutate(date = as.Date(date, format = \"%Y-%m-%d\"))\n",
    "\n",
    "# Filter the dataset to include only rows with the date \"2021-01-19\"\n",
    "dataset_global_mobility_updated <- dataset_global_mobility %>%\n",
    "  filter(date == as.Date(\"2021-01-19\"))"
   ]
  },
  {
   "cell_type": "code",
   "execution_count": 107,
   "id": "1ad8860b-afed-4e99-b515-a6cbc2637648",
   "metadata": {},
   "outputs": [
    {
     "data": {
      "text/html": [
       "<style>\n",
       ".dl-inline {width: auto; margin:0; padding: 0}\n",
       ".dl-inline>dt, .dl-inline>dd {float: none; width: auto; display: inline-block}\n",
       ".dl-inline>dt::after {content: \":\\0020\"; padding-right: .5ex}\n",
       ".dl-inline>dt:not(:first-of-type) {padding-left: .5ex}\n",
       "</style><dl class=dl-inline><dt>Min.</dt><dd><time datetime=\"2021-01-19\">2021-01-19</time></dd><dt>1st Qu.</dt><dd><time datetime=\"2021-01-19\">2021-01-19</time></dd><dt>Median</dt><dd><time datetime=\"2021-01-19\">2021-01-19</time></dd><dt>Mean</dt><dd><time datetime=\"2021-01-19\">2021-01-19</time></dd><dt>3rd Qu.</dt><dd><time datetime=\"2021-01-19\">2021-01-19</time></dd><dt>Max.</dt><dd><time datetime=\"2021-01-19\">2021-01-19</time></dd></dl>\n"
      ],
      "text/latex": [
       "\\begin{description*}\n",
       "\\item[Min.] 2021-01-19\n",
       "\\item[1st Qu.] 2021-01-19\n",
       "\\item[Median] 2021-01-19\n",
       "\\item[Mean] 2021-01-19\n",
       "\\item[3rd Qu.] 2021-01-19\n",
       "\\item[Max.] 2021-01-19\n",
       "\\end{description*}\n"
      ],
      "text/markdown": [
       "Min.\n",
       ":   2021-01-191st Qu.\n",
       ":   2021-01-19Median\n",
       ":   2021-01-19Mean\n",
       ":   2021-01-193rd Qu.\n",
       ":   2021-01-19Max.\n",
       ":   2021-01-19\n",
       "\n"
      ],
      "text/plain": [
       "        Min.      1st Qu.       Median         Mean      3rd Qu.         Max. \n",
       "\"2021-01-19\" \"2021-01-19\" \"2021-01-19\" \"2021-01-19\" \"2021-01-19\" \"2021-01-19\" "
      ]
     },
     "metadata": {},
     "output_type": "display_data"
    }
   ],
   "source": [
    "summary(dataset_global_mobility_updated$date)"
   ]
  },
  {
   "cell_type": "markdown",
   "id": "0957e85d-0a87-4c3b-b0ce-18d8905e957d",
   "metadata": {},
   "source": [
    "Only the observations from 1/19/2021 are in the global datset now."
   ]
  },
  {
   "cell_type": "code",
   "execution_count": 109,
   "id": "2b4d8bdc-f29f-4ee4-8d6a-505c6bcd23d2",
   "metadata": {},
   "outputs": [
    {
     "data": {
      "text/html": [
       "13122"
      ],
      "text/latex": [
       "13122"
      ],
      "text/markdown": [
       "13122"
      ],
      "text/plain": [
       "[1] 13122"
      ]
     },
     "metadata": {},
     "output_type": "display_data"
    }
   ],
   "source": [
    "# count of observations in the updated global mobility dataset\n",
    "nrow(dataset_global_mobility_updated)"
   ]
  },
  {
   "cell_type": "code",
   "execution_count": 110,
   "id": "5b688fea-590c-4d7f-98ba-6dad450c19db",
   "metadata": {},
   "outputs": [],
   "source": [
    "# Filter the dataset to include only rows where sub_region_2 is \"Texas\"\n",
    "dataset_global_mobility_updated <- dataset_global_mobility_updated %>%\n",
    "  filter(sub_region_1 == \"Texas\")"
   ]
  },
  {
   "cell_type": "code",
   "execution_count": 113,
   "id": "bccbfb60-4b49-493a-855f-fe651d2b0d87",
   "metadata": {},
   "outputs": [
    {
     "data": {
      "text/html": [
       "205"
      ],
      "text/latex": [
       "205"
      ],
      "text/markdown": [
       "205"
      ],
      "text/plain": [
       "[1] 205"
      ]
     },
     "metadata": {},
     "output_type": "display_data"
    }
   ],
   "source": [
    "length(unique(dataset_global_mobility_updated$sub_region_2))"
   ]
  },
  {
   "cell_type": "code",
   "execution_count": 114,
   "id": "49900de8-ce72-4b56-87d1-727166ae890b",
   "metadata": {},
   "outputs": [],
   "source": [
    "# remove the rows with missing value in the county_name column\n",
    "dataset_global_mobility_updated <- dataset_global_mobility_updated %>%\n",
    "  filter(!is.na(sub_region_2))"
   ]
  },
  {
   "cell_type": "code",
   "execution_count": 115,
   "id": "e0e915c1-93d8-45f8-a693-cfd2d75f34fe",
   "metadata": {},
   "outputs": [],
   "source": [
    "# Remove the first row using slice\n",
    "dataset_global_mobility_updated <- dataset_global_mobility_updated %>%\n",
    "  slice(-1)"
   ]
  },
  {
   "cell_type": "code",
   "execution_count": 116,
   "id": "f7a68211-a99a-437d-b3ab-9fd220eecc23",
   "metadata": {},
   "outputs": [
    {
     "data": {
      "text/html": [
       "204"
      ],
      "text/latex": [
       "204"
      ],
      "text/markdown": [
       "204"
      ],
      "text/plain": [
       "[1] 204"
      ]
     },
     "metadata": {},
     "output_type": "display_data"
    }
   ],
   "source": [
    "length(unique(dataset_global_mobility_updated$sub_region_2))"
   ]
  },
  {
   "cell_type": "code",
   "execution_count": 117,
   "id": "9d17af1c-103d-482e-8079-7cec4c08bfcf",
   "metadata": {},
   "outputs": [],
   "source": [
    "write.csv(dataset_global_mobility_updated, \"dataset_global_mobility_updated.csv\", row.names = FALSE )"
   ]
  },
  {
   "cell_type": "markdown",
   "id": "51c64e57-106b-40e2-9dbf-75c819c42509",
   "metadata": {
    "jp-MarkdownHeadingCollapsed": true
   },
   "source": [
    "## COVID-19 Plus Census Dataset"
   ]
  },
  {
   "cell_type": "code",
   "execution_count": 119,
   "id": "d4eb2c79-e8f7-4cc1-9d75-adf346ccc193",
   "metadata": {},
   "outputs": [],
   "source": [
    "# Retrieve \"COVID-19_cases_plus_census.csv\" file\n",
    "dataset_plus_census <- read.csv(\"https://raw.githubusercontent.com/yamphurai/Project2_ClusterAnalysis/refs/heads/main/updated_COVID-19_cases_plus_census.csv\")"
   ]
  },
  {
   "cell_type": "code",
   "execution_count": 120,
   "id": "cee666f0-7d80-49ef-9f14-3a39dbb317dc",
   "metadata": {},
   "outputs": [],
   "source": [
    "#filter the dataset by Texas\n",
    "dataset_plus_census <- dataset_plus_census %>% filter(state == \"TX\")"
   ]
  },
  {
   "cell_type": "code",
   "execution_count": 121,
   "id": "039ddd09-65b5-4457-8e9a-21924eb3c8cd",
   "metadata": {},
   "outputs": [
    {
     "data": {
      "text/html": [
       "254"
      ],
      "text/latex": [
       "254"
      ],
      "text/markdown": [
       "254"
      ],
      "text/plain": [
       "[1] 254"
      ]
     },
     "metadata": {},
     "output_type": "display_data"
    }
   ],
   "source": [
    "length(unique(dataset_plus_census$county_name))"
   ]
  },
  {
   "cell_type": "code",
   "execution_count": 122,
   "id": "7debf846-7cb7-4fdd-9aad-20369513e90d",
   "metadata": {},
   "outputs": [
    {
     "data": {
      "text/html": [
       "<style>\n",
       ".list-inline {list-style: none; margin:0; padding: 0}\n",
       ".list-inline>li {display: inline-block}\n",
       ".list-inline>li:not(:last-child)::after {content: \"\\00b7\"; padding: 0 .5ex}\n",
       "</style>\n",
       "<ol class=list-inline><li>'Hansford County'</li><li>'Stonewall County'</li><li>'Cochran County'</li><li>'Crockett County'</li><li>'McCulloch County'</li><li>'Sherman County'</li></ol>\n"
      ],
      "text/latex": [
       "\\begin{enumerate*}\n",
       "\\item 'Hansford County'\n",
       "\\item 'Stonewall County'\n",
       "\\item 'Cochran County'\n",
       "\\item 'Crockett County'\n",
       "\\item 'McCulloch County'\n",
       "\\item 'Sherman County'\n",
       "\\end{enumerate*}\n"
      ],
      "text/markdown": [
       "1. 'Hansford County'\n",
       "2. 'Stonewall County'\n",
       "3. 'Cochran County'\n",
       "4. 'Crockett County'\n",
       "5. 'McCulloch County'\n",
       "6. 'Sherman County'\n",
       "\n",
       "\n"
      ],
      "text/plain": [
       "[1] \"Hansford County\"  \"Stonewall County\" \"Cochran County\"   \"Crockett County\" \n",
       "[5] \"McCulloch County\" \"Sherman County\"  "
      ]
     },
     "metadata": {},
     "output_type": "display_data"
    }
   ],
   "source": [
    "head(dataset_plus_census$county_name)"
   ]
  },
  {
   "cell_type": "code",
   "execution_count": 123,
   "id": "3a62363a-ba5b-4925-803a-359b8c159a60",
   "metadata": {},
   "outputs": [
    {
     "name": "stdout",
     "output_type": "stream",
     "text": [
      " [1] \"Hansford County\"      \"Stonewall County\"     \"Cochran County\"      \n",
      " [4] \"Crockett County\"      \"King County\"          \"Briscoe County\"      \n",
      " [7] \"Cottle County\"        \"Sutton County\"        \"Menard County\"       \n",
      "[10] \"Jim Hogg County\"      \"Loving County\"        \"Edwards County\"      \n",
      "[13] \"Kinney County\"        \"Armstrong County\"     \"Foard County\"        \n",
      "[16] \"Irion County\"         \"Glasscock County\"     \"Baylor County\"       \n",
      "[19] \"Sterling County\"      \"Dickens County\"       \"Mills County\"        \n",
      "[22] \"Collingsworth County\" \"Schleicher County\"    \"Throckmorton County\" \n",
      "[25] \"Shackelford County\"   \"Knox County\"          \"Wheeler County\"      \n",
      "[28] \"Upton County\"         \"Hemphill County\"      \"Floyd County\"        \n",
      "[31] \"Donley County\"        \"Fisher County\"        \"Lipscomb County\"     \n",
      "[34] \"Delta County\"         \"Concho County\"        \"Garza County\"        \n",
      "[37] \"Hudspeth County\"      \"Real County\"          \"San Saba County\"     \n",
      "[40] \"Kenedy County\"        \"Hartley County\"       \"Jeff Davis County\"   \n",
      "[43] \"Haskell County\"       \"Mason County\"         \"Motley County\"       \n",
      "[46] \"Borden County\"        \"Kent County\"          \"Roberts County\"      \n",
      "[49] \"Terrell County\"       \"Coke County\"         \n"
     ]
    },
    {
     "data": {
      "text/html": [
       "50"
      ],
      "text/latex": [
       "50"
      ],
      "text/markdown": [
       "50"
      ],
      "text/plain": [
       "[1] 50"
      ]
     },
     "metadata": {},
     "output_type": "display_data"
    }
   ],
   "source": [
    "# Extract unique names from both columns\n",
    "sub_region_2_names <- unique(dataset_global_mobility_updated$sub_region_2)\n",
    "county_names <- unique(dataset_plus_census$county_name)\n",
    "\n",
    "# Find names that are in county_names but not in sub_region_2_names\n",
    "missing_in_sub_region_2 <- setdiff(county_names, sub_region_2_names)\n",
    "\n",
    "# Display the missing names\n",
    "print(missing_in_sub_region_2)\n",
    "length(unique(missing_in_sub_region_2))"
   ]
  },
  {
   "cell_type": "code",
   "execution_count": 124,
   "id": "fa02e096-2a9f-4993-a719-0e82ea837c5e",
   "metadata": {},
   "outputs": [],
   "source": [
    "# Remove the rows from dataset_plus_census where county_name is in names_to_remove\n",
    "dataset_plus_census <- dataset_plus_census %>%\n",
    "  filter(!county_name %in% missing_in_sub_region_2)"
   ]
  },
  {
   "cell_type": "code",
   "execution_count": 125,
   "id": "fde936f5-ba41-41aa-b5af-9f5bb8feb84d",
   "metadata": {},
   "outputs": [],
   "source": [
    "# remove the rows with missing value in the county_name column\n",
    "dataset_plus_census <- dataset_plus_census %>%\n",
    "  filter(!is.na(county_name))"
   ]
  },
  {
   "cell_type": "code",
   "execution_count": 126,
   "id": "d2dff509-7531-49de-8f04-9eb1cd5f8d25",
   "metadata": {},
   "outputs": [
    {
     "data": {
      "text/html": [
       "204"
      ],
      "text/latex": [
       "204"
      ],
      "text/markdown": [
       "204"
      ],
      "text/plain": [
       "[1] 204"
      ]
     },
     "metadata": {},
     "output_type": "display_data"
    }
   ],
   "source": [
    "length(unique(dataset_plus_census$county_name))"
   ]
  },
  {
   "cell_type": "code",
   "execution_count": 127,
   "id": "c2e2188f-944e-4261-bd1c-423f7540aa38",
   "metadata": {},
   "outputs": [],
   "source": [
    "write.csv(dataset_plus_census, \"dataset_plus_census.csv\", row.names = FALSE )"
   ]
  },
  {
   "cell_type": "markdown",
   "id": "087ccf09-eb90-4a93-8da6-2be2a40e0128",
   "metadata": {},
   "source": [
    "Finally the two datasets are ready to be merged."
   ]
  },
  {
   "cell_type": "markdown",
   "id": "57cd4082-7a61-4c70-a409-5d6ea1bf94a3",
   "metadata": {},
   "source": [
    "## Final Dataset"
   ]
  },
  {
   "cell_type": "code",
   "execution_count": 129,
   "id": "60347f07-7953-42b3-b37e-51a6d0ab3cab",
   "metadata": {},
   "outputs": [],
   "source": [
    "# Sort dataset_plus_census by county_name in ascending order\n",
    "dataset_plus_census_sorted <- dataset_plus_census %>%\n",
    "  arrange(county_name)\n",
    "\n",
    "# Sort dataset_global_mobility_updated by sub_region_2 in ascending order\n",
    "dataset_global_mobility_updated_sorted <- dataset_global_mobility_updated %>%\n",
    "  arrange(sub_region_2)\n",
    "\n",
    "# Merge the datasets column-wise\n",
    "dataset <- cbind(dataset_plus_census_sorted, dataset_global_mobility_updated_sorted)\n"
   ]
  },
  {
   "cell_type": "code",
   "execution_count": 131,
   "id": "189d3707-c583-40be-a5a6-4000ca620e23",
   "metadata": {},
   "outputs": [
    {
     "data": {
      "text/html": [
       "<table class=\"dataframe\">\n",
       "<caption>A data.frame: 10 × 47</caption>\n",
       "<thead>\n",
       "\t<tr><th></th><th scope=col>state</th><th scope=col>state_fips_code</th><th scope=col>county_name</th><th scope=col>confirmed_cases</th><th scope=col>deaths</th><th scope=col>total_pop</th><th scope=col>male_pop</th><th scope=col>female_pop</th><th scope=col>white_pop</th><th scope=col>black_pop</th><th scope=col>⋯</th><th scope=col>metro_area</th><th scope=col>iso_3166_2_code</th><th scope=col>census_fips_code</th><th scope=col>date</th><th scope=col>retail_and_recreation_percent_change_from_baseline</th><th scope=col>grocery_and_pharmacy_percent_change_from_baseline</th><th scope=col>parks_percent_change_from_baseline</th><th scope=col>transit_stations_percent_change_from_baseline</th><th scope=col>workplaces_percent_change_from_baseline</th><th scope=col>residential_percent_change_from_baseline</th></tr>\n",
       "\t<tr><th></th><th scope=col>&lt;chr&gt;</th><th scope=col>&lt;int&gt;</th><th scope=col>&lt;chr&gt;</th><th scope=col>&lt;int&gt;</th><th scope=col>&lt;int&gt;</th><th scope=col>&lt;int&gt;</th><th scope=col>&lt;int&gt;</th><th scope=col>&lt;int&gt;</th><th scope=col>&lt;int&gt;</th><th scope=col>&lt;int&gt;</th><th scope=col>⋯</th><th scope=col>&lt;chr&gt;</th><th scope=col>&lt;chr&gt;</th><th scope=col>&lt;int&gt;</th><th scope=col>&lt;date&gt;</th><th scope=col>&lt;int&gt;</th><th scope=col>&lt;int&gt;</th><th scope=col>&lt;int&gt;</th><th scope=col>&lt;int&gt;</th><th scope=col>&lt;int&gt;</th><th scope=col>&lt;int&gt;</th></tr>\n",
       "</thead>\n",
       "<tbody>\n",
       "\t<tr><th scope=row>1</th><td>TX</td><td>48</td><td>Anderson County</td><td>5575</td><td> 75</td><td>57747</td><td>35292</td><td>22455</td><td>34468</td><td>12075</td><td>⋯</td><td></td><td></td><td>48001</td><td>2021-01-19</td><td>-15</td><td>-17</td><td> NA</td><td>NA</td><td>-18</td><td> 6</td></tr>\n",
       "\t<tr><th scope=row>2</th><td>TX</td><td>48</td><td>Andrews County </td><td>1606</td><td> 37</td><td>17577</td><td> 8980</td><td> 8597</td><td> 7229</td><td>  265</td><td>⋯</td><td></td><td></td><td>48003</td><td>2021-01-19</td><td>-28</td><td> NA</td><td> NA</td><td>14</td><td>-25</td><td>NA</td></tr>\n",
       "\t<tr><th scope=row>3</th><td>TX</td><td>48</td><td>Angelina County</td><td>6765</td><td>193</td><td>87700</td><td>42707</td><td>44993</td><td>53704</td><td>12878</td><td>⋯</td><td></td><td></td><td>48005</td><td>2021-01-19</td><td>-13</td><td> -9</td><td> NA</td><td>-6</td><td>-20</td><td> 8</td></tr>\n",
       "\t<tr><th scope=row>4</th><td>TX</td><td>48</td><td>Aransas County </td><td> 895</td><td> 26</td><td>24832</td><td>12448</td><td>12384</td><td>16803</td><td>  390</td><td>⋯</td><td></td><td></td><td>48007</td><td>2021-01-19</td><td>-16</td><td>  1</td><td>-23</td><td>NA</td><td>-21</td><td> 6</td></tr>\n",
       "\t<tr><th scope=row>5</th><td>TX</td><td>48</td><td>Archer County  </td><td> 694</td><td> 10</td><td> 8793</td><td> 4335</td><td> 4458</td><td> 7787</td><td>   74</td><td>⋯</td><td></td><td></td><td>48009</td><td>2021-01-19</td><td> NA</td><td> NA</td><td> NA</td><td>NA</td><td>-17</td><td>NA</td></tr>\n",
       "\t<tr><th scope=row>6</th><td>TX</td><td>48</td><td>Atascosa County</td><td>3781</td><td> 90</td><td>48139</td><td>24051</td><td>24088</td><td>16480</td><td>  353</td><td>⋯</td><td></td><td></td><td>48013</td><td>2021-01-19</td><td>-13</td><td>-13</td><td> NA</td><td>NA</td><td>-26</td><td>11</td></tr>\n",
       "\t<tr><th scope=row>7</th><td>TX</td><td>48</td><td>Austin County  </td><td>1404</td><td> 18</td><td>29292</td><td>14474</td><td>14818</td><td>18533</td><td> 2601</td><td>⋯</td><td></td><td></td><td>48015</td><td>2021-01-19</td><td>-10</td><td> -1</td><td> NA</td><td>NA</td><td>-18</td><td> 7</td></tr>\n",
       "\t<tr><th scope=row>8</th><td>TX</td><td>48</td><td>Bailey County  </td><td> 742</td><td> 15</td><td> 7098</td><td> 3678</td><td> 3420</td><td> 2459</td><td>  108</td><td>⋯</td><td></td><td></td><td>48017</td><td>2021-01-19</td><td> NA</td><td> NA</td><td> NA</td><td>NA</td><td>-22</td><td>NA</td></tr>\n",
       "\t<tr><th scope=row>9</th><td>TX</td><td>48</td><td>Bandera County </td><td> 820</td><td> 20</td><td>21316</td><td>10570</td><td>10746</td><td>16788</td><td>  213</td><td>⋯</td><td></td><td></td><td>48019</td><td>2021-01-19</td><td> NA</td><td> NA</td><td> NA</td><td>NA</td><td>-24</td><td>11</td></tr>\n",
       "\t<tr><th scope=row>10</th><td>TX</td><td>48</td><td>Bastrop County </td><td>4373</td><td> 57</td><td>80306</td><td>40845</td><td>39461</td><td>43147</td><td> 6219</td><td>⋯</td><td></td><td></td><td>48021</td><td>2021-01-19</td><td>-15</td><td> -9</td><td> NA</td><td>NA</td><td>-30</td><td>12</td></tr>\n",
       "</tbody>\n",
       "</table>\n"
      ],
      "text/latex": [
       "A data.frame: 10 × 47\n",
       "\\begin{tabular}{r|lllllllllllllllllllll}\n",
       "  & state & state\\_fips\\_code & county\\_name & confirmed\\_cases & deaths & total\\_pop & male\\_pop & female\\_pop & white\\_pop & black\\_pop & ⋯ & metro\\_area & iso\\_3166\\_2\\_code & census\\_fips\\_code & date & retail\\_and\\_recreation\\_percent\\_change\\_from\\_baseline & grocery\\_and\\_pharmacy\\_percent\\_change\\_from\\_baseline & parks\\_percent\\_change\\_from\\_baseline & transit\\_stations\\_percent\\_change\\_from\\_baseline & workplaces\\_percent\\_change\\_from\\_baseline & residential\\_percent\\_change\\_from\\_baseline\\\\\n",
       "  & <chr> & <int> & <chr> & <int> & <int> & <int> & <int> & <int> & <int> & <int> & ⋯ & <chr> & <chr> & <int> & <date> & <int> & <int> & <int> & <int> & <int> & <int>\\\\\n",
       "\\hline\n",
       "\t1 & TX & 48 & Anderson County & 5575 &  75 & 57747 & 35292 & 22455 & 34468 & 12075 & ⋯ &  &  & 48001 & 2021-01-19 & -15 & -17 &  NA & NA & -18 &  6\\\\\n",
       "\t2 & TX & 48 & Andrews County  & 1606 &  37 & 17577 &  8980 &  8597 &  7229 &   265 & ⋯ &  &  & 48003 & 2021-01-19 & -28 &  NA &  NA & 14 & -25 & NA\\\\\n",
       "\t3 & TX & 48 & Angelina County & 6765 & 193 & 87700 & 42707 & 44993 & 53704 & 12878 & ⋯ &  &  & 48005 & 2021-01-19 & -13 &  -9 &  NA & -6 & -20 &  8\\\\\n",
       "\t4 & TX & 48 & Aransas County  &  895 &  26 & 24832 & 12448 & 12384 & 16803 &   390 & ⋯ &  &  & 48007 & 2021-01-19 & -16 &   1 & -23 & NA & -21 &  6\\\\\n",
       "\t5 & TX & 48 & Archer County   &  694 &  10 &  8793 &  4335 &  4458 &  7787 &    74 & ⋯ &  &  & 48009 & 2021-01-19 &  NA &  NA &  NA & NA & -17 & NA\\\\\n",
       "\t6 & TX & 48 & Atascosa County & 3781 &  90 & 48139 & 24051 & 24088 & 16480 &   353 & ⋯ &  &  & 48013 & 2021-01-19 & -13 & -13 &  NA & NA & -26 & 11\\\\\n",
       "\t7 & TX & 48 & Austin County   & 1404 &  18 & 29292 & 14474 & 14818 & 18533 &  2601 & ⋯ &  &  & 48015 & 2021-01-19 & -10 &  -1 &  NA & NA & -18 &  7\\\\\n",
       "\t8 & TX & 48 & Bailey County   &  742 &  15 &  7098 &  3678 &  3420 &  2459 &   108 & ⋯ &  &  & 48017 & 2021-01-19 &  NA &  NA &  NA & NA & -22 & NA\\\\\n",
       "\t9 & TX & 48 & Bandera County  &  820 &  20 & 21316 & 10570 & 10746 & 16788 &   213 & ⋯ &  &  & 48019 & 2021-01-19 &  NA &  NA &  NA & NA & -24 & 11\\\\\n",
       "\t10 & TX & 48 & Bastrop County  & 4373 &  57 & 80306 & 40845 & 39461 & 43147 &  6219 & ⋯ &  &  & 48021 & 2021-01-19 & -15 &  -9 &  NA & NA & -30 & 12\\\\\n",
       "\\end{tabular}\n"
      ],
      "text/markdown": [
       "\n",
       "A data.frame: 10 × 47\n",
       "\n",
       "| <!--/--> | state &lt;chr&gt; | state_fips_code &lt;int&gt; | county_name &lt;chr&gt; | confirmed_cases &lt;int&gt; | deaths &lt;int&gt; | total_pop &lt;int&gt; | male_pop &lt;int&gt; | female_pop &lt;int&gt; | white_pop &lt;int&gt; | black_pop &lt;int&gt; | ⋯ ⋯ | metro_area &lt;chr&gt; | iso_3166_2_code &lt;chr&gt; | census_fips_code &lt;int&gt; | date &lt;date&gt; | retail_and_recreation_percent_change_from_baseline &lt;int&gt; | grocery_and_pharmacy_percent_change_from_baseline &lt;int&gt; | parks_percent_change_from_baseline &lt;int&gt; | transit_stations_percent_change_from_baseline &lt;int&gt; | workplaces_percent_change_from_baseline &lt;int&gt; | residential_percent_change_from_baseline &lt;int&gt; |\n",
       "|---|---|---|---|---|---|---|---|---|---|---|---|---|---|---|---|---|---|---|---|---|---|\n",
       "| 1 | TX | 48 | Anderson County | 5575 |  75 | 57747 | 35292 | 22455 | 34468 | 12075 | ⋯ | <!----> | <!----> | 48001 | 2021-01-19 | -15 | -17 |  NA | NA | -18 |  6 |\n",
       "| 2 | TX | 48 | Andrews County  | 1606 |  37 | 17577 |  8980 |  8597 |  7229 |   265 | ⋯ | <!----> | <!----> | 48003 | 2021-01-19 | -28 |  NA |  NA | 14 | -25 | NA |\n",
       "| 3 | TX | 48 | Angelina County | 6765 | 193 | 87700 | 42707 | 44993 | 53704 | 12878 | ⋯ | <!----> | <!----> | 48005 | 2021-01-19 | -13 |  -9 |  NA | -6 | -20 |  8 |\n",
       "| 4 | TX | 48 | Aransas County  |  895 |  26 | 24832 | 12448 | 12384 | 16803 |   390 | ⋯ | <!----> | <!----> | 48007 | 2021-01-19 | -16 |   1 | -23 | NA | -21 |  6 |\n",
       "| 5 | TX | 48 | Archer County   |  694 |  10 |  8793 |  4335 |  4458 |  7787 |    74 | ⋯ | <!----> | <!----> | 48009 | 2021-01-19 |  NA |  NA |  NA | NA | -17 | NA |\n",
       "| 6 | TX | 48 | Atascosa County | 3781 |  90 | 48139 | 24051 | 24088 | 16480 |   353 | ⋯ | <!----> | <!----> | 48013 | 2021-01-19 | -13 | -13 |  NA | NA | -26 | 11 |\n",
       "| 7 | TX | 48 | Austin County   | 1404 |  18 | 29292 | 14474 | 14818 | 18533 |  2601 | ⋯ | <!----> | <!----> | 48015 | 2021-01-19 | -10 |  -1 |  NA | NA | -18 |  7 |\n",
       "| 8 | TX | 48 | Bailey County   |  742 |  15 |  7098 |  3678 |  3420 |  2459 |   108 | ⋯ | <!----> | <!----> | 48017 | 2021-01-19 |  NA |  NA |  NA | NA | -22 | NA |\n",
       "| 9 | TX | 48 | Bandera County  |  820 |  20 | 21316 | 10570 | 10746 | 16788 |   213 | ⋯ | <!----> | <!----> | 48019 | 2021-01-19 |  NA |  NA |  NA | NA | -24 | 11 |\n",
       "| 10 | TX | 48 | Bastrop County  | 4373 |  57 | 80306 | 40845 | 39461 | 43147 |  6219 | ⋯ | <!----> | <!----> | 48021 | 2021-01-19 | -15 |  -9 |  NA | NA | -30 | 12 |\n",
       "\n"
      ],
      "text/plain": [
       "   state state_fips_code county_name     confirmed_cases deaths total_pop\n",
       "1  TX    48              Anderson County 5575             75    57747    \n",
       "2  TX    48              Andrews County  1606             37    17577    \n",
       "3  TX    48              Angelina County 6765            193    87700    \n",
       "4  TX    48              Aransas County   895             26    24832    \n",
       "5  TX    48              Archer County    694             10     8793    \n",
       "6  TX    48              Atascosa County 3781             90    48139    \n",
       "7  TX    48              Austin County   1404             18    29292    \n",
       "8  TX    48              Bailey County    742             15     7098    \n",
       "9  TX    48              Bandera County   820             20    21316    \n",
       "10 TX    48              Bastrop County  4373             57    80306    \n",
       "   male_pop female_pop white_pop black_pop ⋯ metro_area iso_3166_2_code\n",
       "1  35292    22455      34468     12075     ⋯                           \n",
       "2   8980     8597       7229       265     ⋯                           \n",
       "3  42707    44993      53704     12878     ⋯                           \n",
       "4  12448    12384      16803       390     ⋯                           \n",
       "5   4335     4458       7787        74     ⋯                           \n",
       "6  24051    24088      16480       353     ⋯                           \n",
       "7  14474    14818      18533      2601     ⋯                           \n",
       "8   3678     3420       2459       108     ⋯                           \n",
       "9  10570    10746      16788       213     ⋯                           \n",
       "10 40845    39461      43147      6219     ⋯                           \n",
       "   census_fips_code date      \n",
       "1  48001            2021-01-19\n",
       "2  48003            2021-01-19\n",
       "3  48005            2021-01-19\n",
       "4  48007            2021-01-19\n",
       "5  48009            2021-01-19\n",
       "6  48013            2021-01-19\n",
       "7  48015            2021-01-19\n",
       "8  48017            2021-01-19\n",
       "9  48019            2021-01-19\n",
       "10 48021            2021-01-19\n",
       "   retail_and_recreation_percent_change_from_baseline\n",
       "1  -15                                               \n",
       "2  -28                                               \n",
       "3  -13                                               \n",
       "4  -16                                               \n",
       "5   NA                                               \n",
       "6  -13                                               \n",
       "7  -10                                               \n",
       "8   NA                                               \n",
       "9   NA                                               \n",
       "10 -15                                               \n",
       "   grocery_and_pharmacy_percent_change_from_baseline\n",
       "1  -17                                              \n",
       "2   NA                                              \n",
       "3   -9                                              \n",
       "4    1                                              \n",
       "5   NA                                              \n",
       "6  -13                                              \n",
       "7   -1                                              \n",
       "8   NA                                              \n",
       "9   NA                                              \n",
       "10  -9                                              \n",
       "   parks_percent_change_from_baseline\n",
       "1   NA                               \n",
       "2   NA                               \n",
       "3   NA                               \n",
       "4  -23                               \n",
       "5   NA                               \n",
       "6   NA                               \n",
       "7   NA                               \n",
       "8   NA                               \n",
       "9   NA                               \n",
       "10  NA                               \n",
       "   transit_stations_percent_change_from_baseline\n",
       "1  NA                                           \n",
       "2  14                                           \n",
       "3  -6                                           \n",
       "4  NA                                           \n",
       "5  NA                                           \n",
       "6  NA                                           \n",
       "7  NA                                           \n",
       "8  NA                                           \n",
       "9  NA                                           \n",
       "10 NA                                           \n",
       "   workplaces_percent_change_from_baseline\n",
       "1  -18                                    \n",
       "2  -25                                    \n",
       "3  -20                                    \n",
       "4  -21                                    \n",
       "5  -17                                    \n",
       "6  -26                                    \n",
       "7  -18                                    \n",
       "8  -22                                    \n",
       "9  -24                                    \n",
       "10 -30                                    \n",
       "   residential_percent_change_from_baseline\n",
       "1   6                                      \n",
       "2  NA                                      \n",
       "3   8                                      \n",
       "4   6                                      \n",
       "5  NA                                      \n",
       "6  11                                      \n",
       "7   7                                      \n",
       "8  NA                                      \n",
       "9  11                                      \n",
       "10 12                                      "
      ]
     },
     "metadata": {},
     "output_type": "display_data"
    }
   ],
   "source": [
    "head(dataset, 10)"
   ]
  },
  {
   "cell_type": "code",
   "execution_count": 136,
   "id": "017c1b16-da3f-48a4-8f6b-ac4a293253c3",
   "metadata": {},
   "outputs": [
    {
     "name": "stdout",
     "output_type": "stream",
     "text": [
      "[1] \"Columns with missing values:\"\n",
      "[1] \"retail_and_recreation_percent_change_from_baseline\"\n",
      "[2] \"grocery_and_pharmacy_percent_change_from_baseline\" \n",
      "[3] \"parks_percent_change_from_baseline\"                \n",
      "[4] \"transit_stations_percent_change_from_baseline\"     \n",
      "[5] \"workplaces_percent_change_from_baseline\"           \n",
      "[6] \"residential_percent_change_from_baseline\"          \n"
     ]
    }
   ],
   "source": [
    "# Check for missing values in each column\n",
    "missing_values <- colSums(is.na(dataset))\n",
    "\n",
    "# Print the names of columns that have missing values\n",
    "columns_with_missing_values <- names(missing_values[missing_values > 0])\n",
    "\n",
    "# Print the names of columns with missing values\n",
    "print(\"Columns with missing values:\")\n",
    "print(columns_with_missing_values)"
   ]
  },
  {
   "cell_type": "code",
   "execution_count": 143,
   "id": "2d19425c-6b7b-4087-ad1a-50ea44eeca86",
   "metadata": {},
   "outputs": [
    {
     "name": "stdout",
     "output_type": "stream",
     "text": [
      "[1] \"Total number of observations: \"\n",
      "[1] 204\n"
     ]
    },
    {
     "data": {
      "text/html": [
       "91"
      ],
      "text/latex": [
       "91"
      ],
      "text/markdown": [
       "91"
      ],
      "text/plain": [
       "[1] 91"
      ]
     },
     "metadata": {},
     "output_type": "display_data"
    },
    {
     "data": {
      "text/html": [
       "104"
      ],
      "text/latex": [
       "104"
      ],
      "text/markdown": [
       "104"
      ],
      "text/plain": [
       "[1] 104"
      ]
     },
     "metadata": {},
     "output_type": "display_data"
    },
    {
     "data": {
      "text/html": [
       "155"
      ],
      "text/latex": [
       "155"
      ],
      "text/markdown": [
       "155"
      ],
      "text/plain": [
       "[1] 155"
      ]
     },
     "metadata": {},
     "output_type": "display_data"
    },
    {
     "data": {
      "text/html": [
       "114"
      ],
      "text/latex": [
       "114"
      ],
      "text/markdown": [
       "114"
      ],
      "text/plain": [
       "[1] 114"
      ]
     },
     "metadata": {},
     "output_type": "display_data"
    },
    {
     "data": {
      "text/html": [
       "9"
      ],
      "text/latex": [
       "9"
      ],
      "text/markdown": [
       "9"
      ],
      "text/plain": [
       "[1] 9"
      ]
     },
     "metadata": {},
     "output_type": "display_data"
    },
    {
     "data": {
      "text/html": [
       "93"
      ],
      "text/latex": [
       "93"
      ],
      "text/markdown": [
       "93"
      ],
      "text/plain": [
       "[1] 93"
      ]
     },
     "metadata": {},
     "output_type": "display_data"
    }
   ],
   "source": [
    "print(\"Total number of observations: \")\n",
    "print(nrow(dataset))\n",
    "\n",
    "#Count of missing values in these columns\n",
    "sum(is.na(dataset[\"retail_and_recreation_percent_change_from_baseline\"]))\n",
    "sum(is.na(dataset[\"grocery_and_pharmacy_percent_change_from_baseline\"]))\n",
    "sum(is.na(dataset[\"parks_percent_change_from_baseline\"]))\n",
    "sum(is.na(dataset[\"transit_stations_percent_change_from_baseline\"]))\n",
    "sum(is.na(dataset[\"workplaces_percent_change_from_baseline\"]))\n",
    "sum(is.na(dataset[\"residential_percent_change_from_baseline\"]))"
   ]
  },
  {
   "cell_type": "markdown",
   "id": "6841d090-c004-44ba-a141-f7f16d080d65",
   "metadata": {},
   "source": [
    "Since most of these feature columns have too many missing values, we will be replacing them with the average value from their corresponding column."
   ]
  },
  {
   "cell_type": "code",
   "execution_count": 145,
   "id": "f2d96d55-96df-4619-90c1-b1149f648b51",
   "metadata": {},
   "outputs": [],
   "source": [
    "# Replace the missing values with mean values\n",
    "mean_value_retail <- mean(dataset$retail_and_recreation_percent_change_from_baseline, na.rm = TRUE)\n",
    "dataset$retail_and_recreation_percent_change_from_baseline[is.na(dataset$retail_and_recreation_percent_change_from_baseline)] <- mean_value_retail\n",
    "\n",
    "mean_value_grocery_pharmacy <- mean(dataset$grocery_and_pharmacy_percent_change_from_baseline, na.rm = TRUE)\n",
    "dataset$grocery_and_pharmacy_percent_change_from_baseline[is.na(dataset$grocery_and_pharmacy_percent_change_from_baseline)] <- mean_value_grocery_pharmacy\n",
    "\n",
    "mean_value_parks <- mean(dataset$parks_percent_change_from_baseline, na.rm = TRUE)\n",
    "dataset$parks_percent_change_from_baseline[is.na(dataset$parks_percent_change_from_baseline)] <- mean_value_parks\n",
    "\n",
    "mean_value_transit_stations <- mean(dataset$transit_stations_percent_change_from_baseline, na.rm = TRUE)\n",
    "dataset$transit_stations_percent_change_from_baseline[is.na(dataset$transit_stations_percent_change_from_baseline)] <- mean_value_transit_stations\n",
    "\n",
    "mean_value_workplaces <- mean(dataset$workplaces_percent_change_from_baseline, na.rm = TRUE)\n",
    "dataset$workplaces_percent_change_from_baseline[is.na(dataset$workplaces_percent_change_from_baseline)] <- mean_value_workplaces\n",
    "\n",
    "mean_value_residential <- mean(dataset$residential_percent_change_from_baseline, na.rm = TRUE)\n",
    "dataset$residential_percent_change_from_baseline[is.na(dataset$residential_percent_change_from_baseline)] <- mean_value_residential"
   ]
  },
  {
   "cell_type": "code",
   "execution_count": 146,
   "id": "fc44f081-0a0b-48b3-b693-280e209686d5",
   "metadata": {},
   "outputs": [
    {
     "data": {
      "text/html": [
       "0"
      ],
      "text/latex": [
       "0"
      ],
      "text/markdown": [
       "0"
      ],
      "text/plain": [
       "[1] 0"
      ]
     },
     "metadata": {},
     "output_type": "display_data"
    },
    {
     "data": {
      "text/html": [
       "0"
      ],
      "text/latex": [
       "0"
      ],
      "text/markdown": [
       "0"
      ],
      "text/plain": [
       "[1] 0"
      ]
     },
     "metadata": {},
     "output_type": "display_data"
    },
    {
     "data": {
      "text/html": [
       "0"
      ],
      "text/latex": [
       "0"
      ],
      "text/markdown": [
       "0"
      ],
      "text/plain": [
       "[1] 0"
      ]
     },
     "metadata": {},
     "output_type": "display_data"
    },
    {
     "data": {
      "text/html": [
       "0"
      ],
      "text/latex": [
       "0"
      ],
      "text/markdown": [
       "0"
      ],
      "text/plain": [
       "[1] 0"
      ]
     },
     "metadata": {},
     "output_type": "display_data"
    },
    {
     "data": {
      "text/html": [
       "0"
      ],
      "text/latex": [
       "0"
      ],
      "text/markdown": [
       "0"
      ],
      "text/plain": [
       "[1] 0"
      ]
     },
     "metadata": {},
     "output_type": "display_data"
    },
    {
     "data": {
      "text/html": [
       "0"
      ],
      "text/latex": [
       "0"
      ],
      "text/markdown": [
       "0"
      ],
      "text/plain": [
       "[1] 0"
      ]
     },
     "metadata": {},
     "output_type": "display_data"
    }
   ],
   "source": [
    "#Check for the missing values in the updated coloumns\n",
    "sum(is.na(dataset[\"retail_and_recreation_percent_change_from_baseline\"]))\n",
    "sum(is.na(dataset[\"grocery_and_pharmacy_percent_change_from_baseline\"]))\n",
    "sum(is.na(dataset[\"parks_percent_change_from_baseline\"]))\n",
    "sum(is.na(dataset[\"transit_stations_percent_change_from_baseline\"]))\n",
    "sum(is.na(dataset[\"workplaces_percent_change_from_baseline\"]))\n",
    "sum(is.na(dataset[\"residential_percent_change_from_baseline\"]))"
   ]
  },
  {
   "cell_type": "code",
   "execution_count": 148,
   "id": "68eafda4-ca9d-49f5-8e5b-e43a07c26aa6",
   "metadata": {},
   "outputs": [
    {
     "data": {
      "text/html": [
       "<style>\n",
       ".list-inline {list-style: none; margin:0; padding: 0}\n",
       ".list-inline>li {display: inline-block}\n",
       ".list-inline>li:not(:last-child)::after {content: \"\\00b7\"; padding: 0 .5ex}\n",
       "</style>\n",
       "<ol class=list-inline><li>'state'</li><li>'state_fips_code'</li><li>'county_name'</li><li>'confirmed_cases'</li><li>'deaths'</li><li>'total_pop'</li><li>'male_pop'</li><li>'female_pop'</li><li>'white_pop'</li><li>'black_pop'</li><li>'asian_pop'</li><li>'hispanic_pop'</li><li>'amerindian_pop'</li><li>'other_race_pop'</li><li>'median_income'</li><li>'income_less_50K'</li><li>'income_50K_100K'</li><li>'income_100K_150K'</li><li>'income_150K_more'</li><li>'rent_under_50_percent'</li><li>'rent_over_50_percent'</li><li>'median_age'</li><li>'male_0_20'</li><li>'male_21_49'</li><li>'male_50_above'</li><li>'female_0_20'</li><li>'female_21_49'</li><li>'female_50_above'</li><li>'unemployed_pop'</li><li>'employed_pop'</li><li>'commute'</li><li>'worked_at_home'</li><li>'walked_to_work'</li><li>'country_region_code'</li><li>'country_region'</li><li>'sub_region_1'</li><li>'sub_region_2'</li><li>'metro_area'</li><li>'iso_3166_2_code'</li><li>'census_fips_code'</li><li>'date'</li><li>'retail_and_recreation_percent_change_from_baseline'</li><li>'grocery_and_pharmacy_percent_change_from_baseline'</li><li>'parks_percent_change_from_baseline'</li><li>'transit_stations_percent_change_from_baseline'</li><li>'workplaces_percent_change_from_baseline'</li><li>'residential_percent_change_from_baseline'</li></ol>\n"
      ],
      "text/latex": [
       "\\begin{enumerate*}\n",
       "\\item 'state'\n",
       "\\item 'state\\_fips\\_code'\n",
       "\\item 'county\\_name'\n",
       "\\item 'confirmed\\_cases'\n",
       "\\item 'deaths'\n",
       "\\item 'total\\_pop'\n",
       "\\item 'male\\_pop'\n",
       "\\item 'female\\_pop'\n",
       "\\item 'white\\_pop'\n",
       "\\item 'black\\_pop'\n",
       "\\item 'asian\\_pop'\n",
       "\\item 'hispanic\\_pop'\n",
       "\\item 'amerindian\\_pop'\n",
       "\\item 'other\\_race\\_pop'\n",
       "\\item 'median\\_income'\n",
       "\\item 'income\\_less\\_50K'\n",
       "\\item 'income\\_50K\\_100K'\n",
       "\\item 'income\\_100K\\_150K'\n",
       "\\item 'income\\_150K\\_more'\n",
       "\\item 'rent\\_under\\_50\\_percent'\n",
       "\\item 'rent\\_over\\_50\\_percent'\n",
       "\\item 'median\\_age'\n",
       "\\item 'male\\_0\\_20'\n",
       "\\item 'male\\_21\\_49'\n",
       "\\item 'male\\_50\\_above'\n",
       "\\item 'female\\_0\\_20'\n",
       "\\item 'female\\_21\\_49'\n",
       "\\item 'female\\_50\\_above'\n",
       "\\item 'unemployed\\_pop'\n",
       "\\item 'employed\\_pop'\n",
       "\\item 'commute'\n",
       "\\item 'worked\\_at\\_home'\n",
       "\\item 'walked\\_to\\_work'\n",
       "\\item 'country\\_region\\_code'\n",
       "\\item 'country\\_region'\n",
       "\\item 'sub\\_region\\_1'\n",
       "\\item 'sub\\_region\\_2'\n",
       "\\item 'metro\\_area'\n",
       "\\item 'iso\\_3166\\_2\\_code'\n",
       "\\item 'census\\_fips\\_code'\n",
       "\\item 'date'\n",
       "\\item 'retail\\_and\\_recreation\\_percent\\_change\\_from\\_baseline'\n",
       "\\item 'grocery\\_and\\_pharmacy\\_percent\\_change\\_from\\_baseline'\n",
       "\\item 'parks\\_percent\\_change\\_from\\_baseline'\n",
       "\\item 'transit\\_stations\\_percent\\_change\\_from\\_baseline'\n",
       "\\item 'workplaces\\_percent\\_change\\_from\\_baseline'\n",
       "\\item 'residential\\_percent\\_change\\_from\\_baseline'\n",
       "\\end{enumerate*}\n"
      ],
      "text/markdown": [
       "1. 'state'\n",
       "2. 'state_fips_code'\n",
       "3. 'county_name'\n",
       "4. 'confirmed_cases'\n",
       "5. 'deaths'\n",
       "6. 'total_pop'\n",
       "7. 'male_pop'\n",
       "8. 'female_pop'\n",
       "9. 'white_pop'\n",
       "10. 'black_pop'\n",
       "11. 'asian_pop'\n",
       "12. 'hispanic_pop'\n",
       "13. 'amerindian_pop'\n",
       "14. 'other_race_pop'\n",
       "15. 'median_income'\n",
       "16. 'income_less_50K'\n",
       "17. 'income_50K_100K'\n",
       "18. 'income_100K_150K'\n",
       "19. 'income_150K_more'\n",
       "20. 'rent_under_50_percent'\n",
       "21. 'rent_over_50_percent'\n",
       "22. 'median_age'\n",
       "23. 'male_0_20'\n",
       "24. 'male_21_49'\n",
       "25. 'male_50_above'\n",
       "26. 'female_0_20'\n",
       "27. 'female_21_49'\n",
       "28. 'female_50_above'\n",
       "29. 'unemployed_pop'\n",
       "30. 'employed_pop'\n",
       "31. 'commute'\n",
       "32. 'worked_at_home'\n",
       "33. 'walked_to_work'\n",
       "34. 'country_region_code'\n",
       "35. 'country_region'\n",
       "36. 'sub_region_1'\n",
       "37. 'sub_region_2'\n",
       "38. 'metro_area'\n",
       "39. 'iso_3166_2_code'\n",
       "40. 'census_fips_code'\n",
       "41. 'date'\n",
       "42. 'retail_and_recreation_percent_change_from_baseline'\n",
       "43. 'grocery_and_pharmacy_percent_change_from_baseline'\n",
       "44. 'parks_percent_change_from_baseline'\n",
       "45. 'transit_stations_percent_change_from_baseline'\n",
       "46. 'workplaces_percent_change_from_baseline'\n",
       "47. 'residential_percent_change_from_baseline'\n",
       "\n",
       "\n"
      ],
      "text/plain": [
       " [1] \"state\"                                             \n",
       " [2] \"state_fips_code\"                                   \n",
       " [3] \"county_name\"                                       \n",
       " [4] \"confirmed_cases\"                                   \n",
       " [5] \"deaths\"                                            \n",
       " [6] \"total_pop\"                                         \n",
       " [7] \"male_pop\"                                          \n",
       " [8] \"female_pop\"                                        \n",
       " [9] \"white_pop\"                                         \n",
       "[10] \"black_pop\"                                         \n",
       "[11] \"asian_pop\"                                         \n",
       "[12] \"hispanic_pop\"                                      \n",
       "[13] \"amerindian_pop\"                                    \n",
       "[14] \"other_race_pop\"                                    \n",
       "[15] \"median_income\"                                     \n",
       "[16] \"income_less_50K\"                                   \n",
       "[17] \"income_50K_100K\"                                   \n",
       "[18] \"income_100K_150K\"                                  \n",
       "[19] \"income_150K_more\"                                  \n",
       "[20] \"rent_under_50_percent\"                             \n",
       "[21] \"rent_over_50_percent\"                              \n",
       "[22] \"median_age\"                                        \n",
       "[23] \"male_0_20\"                                         \n",
       "[24] \"male_21_49\"                                        \n",
       "[25] \"male_50_above\"                                     \n",
       "[26] \"female_0_20\"                                       \n",
       "[27] \"female_21_49\"                                      \n",
       "[28] \"female_50_above\"                                   \n",
       "[29] \"unemployed_pop\"                                    \n",
       "[30] \"employed_pop\"                                      \n",
       "[31] \"commute\"                                           \n",
       "[32] \"worked_at_home\"                                    \n",
       "[33] \"walked_to_work\"                                    \n",
       "[34] \"country_region_code\"                               \n",
       "[35] \"country_region\"                                    \n",
       "[36] \"sub_region_1\"                                      \n",
       "[37] \"sub_region_2\"                                      \n",
       "[38] \"metro_area\"                                        \n",
       "[39] \"iso_3166_2_code\"                                   \n",
       "[40] \"census_fips_code\"                                  \n",
       "[41] \"date\"                                              \n",
       "[42] \"retail_and_recreation_percent_change_from_baseline\"\n",
       "[43] \"grocery_and_pharmacy_percent_change_from_baseline\" \n",
       "[44] \"parks_percent_change_from_baseline\"                \n",
       "[45] \"transit_stations_percent_change_from_baseline\"     \n",
       "[46] \"workplaces_percent_change_from_baseline\"           \n",
       "[47] \"residential_percent_change_from_baseline\"          "
      ]
     },
     "metadata": {},
     "output_type": "display_data"
    }
   ],
   "source": [
    "names(dataset)"
   ]
  },
  {
   "cell_type": "code",
   "execution_count": 150,
   "id": "cb3736a9-9dd0-45f6-a9df-c149a6d8a5e3",
   "metadata": {},
   "outputs": [],
   "source": [
    "# Drop the specified columns\n",
    "dataset <- dataset %>% select(-state, -state_fips_code, -country_region_code, -country_region, -sub_region_1, -sub_region_2, -metro_area, \n",
    "                              -iso_3166_2_code, -census_fips_code, -date)"
   ]
  },
  {
   "cell_type": "code",
   "execution_count": 170,
   "id": "c16fd482-87d0-44bc-b755-3857ce944faf",
   "metadata": {},
   "outputs": [
    {
     "data": {
      "text/plain": [
       "          county_name  confirmed_cases        deaths         total_pop      \n",
       " Anderson County:  1   Min.   :    70.0   Min.   :   2.0   Min.   :    600  \n",
       " Andrews County :  1   1st Qu.:   941.5   1st Qu.:  21.0   1st Qu.:  12635  \n",
       " Angelina County:  1   Median :  1889.5   Median :  45.5   Median :  24898  \n",
       " Aransas County :  1   Mean   : 10424.4   Mean   : 157.0   Mean   : 133668  \n",
       " Archer County  :  1   3rd Qu.:  5066.5   3rd Qu.: 103.8   3rd Qu.:  66671  \n",
       " Atascosa County:  1   Max.   :286356.0   Max.   :3825.0   Max.   :4525519  \n",
       " (Other)        :198                                                        \n",
       "    male_pop         female_pop        white_pop         black_pop       \n",
       " Min.   :    321   Min.   :    279   Min.   :    292   Min.   :     0.0  \n",
       " 1st Qu.:   6365   1st Qu.:   5955   1st Qu.:   6792   1st Qu.:   269.5  \n",
       " Median :  12552   Median :  12336   Median :  14862   Median :  1375.5  \n",
       " Mean   :  66364   Mean   :  67304   Mean   :  57194   Mean   : 15664.0  \n",
       " 3rd Qu.:  34017   3rd Qu.:  33478   3rd Qu.:  41819   3rd Qu.:  5501.2  \n",
       " Max.   :2251060   Max.   :2274459   Max.   :1386576   Max.   :838285.0  \n",
       "                                                                         \n",
       "   asian_pop          hispanic_pop     amerindian_pop   other_race_pop   \n",
       " Min.   :     0.00   Min.   :    303   Min.   :   0.0   Min.   :   0.00  \n",
       " 1st Qu.:    33.75   1st Qu.:   3279   1st Qu.:  23.0   1st Qu.:   0.00  \n",
       " Median :   134.00   Median :   6912   Median :  66.5   Median :  11.50  \n",
       " Mean   :  5992.21   Mean   :  52044   Mean   : 321.0   Mean   : 191.36  \n",
       " 3rd Qu.:   673.25   3rd Qu.:  19083   3rd Qu.: 250.0   3rd Qu.:  58.25  \n",
       " Max.   :307109.00   Max.   :1910535   Max.   :8078.0   Max.   :9681.00  \n",
       "                                                                         \n",
       " median_income   income_less_50K  income_50K_100K  income_100K_150K  \n",
       " Min.   :24794   Min.   :    78   Min.   :    61   Min.   :    14.0  \n",
       " 1st Qu.:42436   1st Qu.:  2434   1st Qu.:  1212   1st Qu.:   450.2  \n",
       " Median :48660   Median :  4721   Median :  2625   Median :  1049.5  \n",
       " Mean   :50249   Mean   : 20232   Mean   : 13735   Mean   :  6450.1  \n",
       " 3rd Qu.:55754   3rd Qu.: 10978   3rd Qu.:  7135   3rd Qu.:  3050.8  \n",
       " Max.   :93645   Max.   :680347   Max.   :452938   Max.   :214604.0  \n",
       "                                                                     \n",
       " income_150K_more   rent_under_50_percent rent_over_50_percent   median_age   \n",
       " Min.   :     7.0   Min.   :    44        Min.   :     0.0     Min.   :25.80  \n",
       " 1st Qu.:   240.8   1st Qu.:   761        1st Qu.:   156.8     1st Qu.:34.00  \n",
       " Median :   597.5   Median :  1498        Median :   364.0     Median :37.50  \n",
       " Mean   :  5541.5   Mean   : 12502        Mean   :  3696.2     Mean   :38.17  \n",
       " 3rd Qu.:  1924.0   3rd Qu.:  4419        3rd Qu.:  1234.8     3rd Qu.:42.00  \n",
       " Max.   :214924.0   Max.   :510028        Max.   :158668.0     Max.   :57.10  \n",
       "                                                                              \n",
       "   male_0_20        male_21_49     male_50_above     female_0_20    \n",
       " Min.   :    91   Min.   :   108   Min.   :   144   Min.   :    79  \n",
       " 1st Qu.:  1834   1st Qu.:  2273   1st Qu.:  2464   1st Qu.:  1756  \n",
       " Median :  3811   Median :  4714   Median :  5149   Median :  3434  \n",
       " Mean   : 20948   Mean   : 27123   Mean   : 19738   Mean   : 20008  \n",
       " 3rd Qu.: 10722   3rd Qu.: 12290   3rd Qu.: 12226   3rd Qu.: 10102  \n",
       " Max.   :716309   Max.   :972577   Max.   :604775   Max.   :685520  \n",
       "                                                                    \n",
       "  female_21_49    female_50_above  unemployed_pop      employed_pop    \n",
       " Min.   :    77   Min.   :   151   Min.   :    24.0   Min.   :    202  \n",
       " 1st Qu.:  1979   1st Qu.:  2559   1st Qu.:   326.8   1st Qu.:   4915  \n",
       " Median :  4004   Median :  5311   Median :   698.5   Median :  10279  \n",
       " Mean   : 26685   Mean   : 22106   Mean   :  3830.1   Mean   :  61896  \n",
       " 3rd Qu.: 11970   3rd Qu.: 12754   3rd Qu.:  2119.0   3rd Qu.:  27636  \n",
       " Max.   :958079   Max.   :670145   Max.   :149192.0   Max.   :2180392  \n",
       "                                                                       \n",
       "    commute        worked_at_home    walked_to_work    \n",
       " Min.   :    288   Min.   :    0.0   Min.   :    0.00  \n",
       " 1st Qu.:   8685   1st Qu.:  158.5   1st Qu.:   86.75  \n",
       " Median :  18611   Median :  327.5   Median :  182.50  \n",
       " Mean   : 112951   Mean   : 2742.7   Mean   :  947.80  \n",
       " 3rd Qu.:  50831   3rd Qu.: 1091.5   3rd Qu.:  496.25  \n",
       " Max.   :3975632   Max.   :79181.0   Max.   :32750.00  \n",
       "                                                       \n",
       " retail_and_recreation_percent_change_from_baseline\n",
       " Min.   :-49.00                                    \n",
       " 1st Qu.:-17.25                                    \n",
       " Median :-17.25                                    \n",
       " Mean   :-17.25                                    \n",
       " 3rd Qu.:-15.00                                    \n",
       " Max.   :  3.00                                    \n",
       "                                                   \n",
       " grocery_and_pharmacy_percent_change_from_baseline\n",
       " Min.   :-50.00                                   \n",
       " 1st Qu.:-10.86                                   \n",
       " Median :-10.86                                   \n",
       " Mean   :-10.86                                   \n",
       " 3rd Qu.:-10.00                                   \n",
       " Max.   : 13.00                                   \n",
       "                                                  \n",
       " parks_percent_change_from_baseline\n",
       " Min.   :-61.00                    \n",
       " 1st Qu.:-23.06                    \n",
       " Median :-23.06                    \n",
       " Mean   :-23.06                    \n",
       " 3rd Qu.:-23.06                    \n",
       " Max.   : 18.00                    \n",
       "                                   \n",
       " transit_stations_percent_change_from_baseline\n",
       " Min.   :-61.00                               \n",
       " 1st Qu.:-11.06                               \n",
       " Median :-11.06                               \n",
       " Mean   :-11.06                               \n",
       " 3rd Qu.:-11.06                               \n",
       " Max.   : 76.00                               \n",
       "                                              \n",
       " workplaces_percent_change_from_baseline\n",
       " Min.   :-49.00                         \n",
       " 1st Qu.:-27.00                         \n",
       " Median :-21.00                         \n",
       " Mean   :-22.69                         \n",
       " 3rd Qu.:-17.00                         \n",
       " Max.   : -8.00                         \n",
       "                                        \n",
       " residential_percent_change_from_baseline cases_per_10000  deaths_per_10000\n",
       " Min.   : 2.000                           Min.   : 231.1   Min.   : 3.309  \n",
       " 1st Qu.: 8.000                           1st Qu.: 590.0   1st Qu.:12.016  \n",
       " Median : 8.937                           Median : 754.7   Median :16.478  \n",
       " Mean   : 8.937                           Mean   : 785.7   Mean   :17.705  \n",
       " 3rd Qu.: 9.000                           3rd Qu.: 942.4   3rd Qu.:22.083  \n",
       " Max.   :20.000                           Max.   :1829.0   Max.   :54.608  \n",
       "                                                                           \n",
       " death_per_case    \n",
       " Min.   :0.003789  \n",
       " 1st Qu.:0.015099  \n",
       " Median :0.022190  \n",
       " Mean   :0.023541  \n",
       " 3rd Qu.:0.029217  \n",
       " Max.   :0.093220  \n",
       "                   "
      ]
     },
     "metadata": {},
     "output_type": "display_data"
    }
   ],
   "source": [
    "summary(dataset)"
   ]
  },
  {
   "cell_type": "code",
   "execution_count": 171,
   "id": "85eeeb72-2e82-4847-9801-755ce9a92a78",
   "metadata": {},
   "outputs": [],
   "source": [
    "# Save the dataset\n",
    "write.csv(dataset, \"dataset.csv\", row.names = FALSE )"
   ]
  },
  {
   "cell_type": "markdown",
   "id": "5f03d749-cc76-48e4-ba74-1a2536384589",
   "metadata": {},
   "source": [
    "## Pick features & evaluate correlations"
   ]
  },
  {
   "cell_type": "code",
   "execution_count": 172,
   "id": "a1ac7765-edfc-47fd-96f6-1c907dc99d1b",
   "metadata": {},
   "outputs": [],
   "source": [
    "# Make character factors for analysis\n",
    "dataset <- dataset %>% mutate_if(is.character, factor)"
   ]
  },
  {
   "cell_type": "code",
   "execution_count": 173,
   "id": "45c29173-23eb-4c1e-92f4-fded77a11bfc",
   "metadata": {},
   "outputs": [],
   "source": [
    "# Calculate rates (per 10,000 people)\n",
    "\n",
    "dataset <- dataset %>% filter(confirmed_cases > 0) \n",
    "  \n",
    "dataset <- dataset %>% mutate(\n",
    "  cases_per_10000 = confirmed_cases/total_pop*10000, \n",
    "  deaths_per_10000 = deaths/total_pop*10000, \n",
    "  death_per_case = deaths/confirmed_cases)"
   ]
  },
  {
   "cell_type": "code",
   "execution_count": 174,
   "id": "e946fdf8-8dc3-4dc2-a161-c31ef8fa520e",
   "metadata": {},
   "outputs": [
    {
     "data": {
      "text/html": [
       "<style>\n",
       ".list-inline {list-style: none; margin:0; padding: 0}\n",
       ".list-inline>li {display: inline-block}\n",
       ".list-inline>li:not(:last-child)::after {content: \"\\00b7\"; padding: 0 .5ex}\n",
       "</style>\n",
       "<ol class=list-inline><li>'county_name'</li><li>'confirmed_cases'</li><li>'deaths'</li><li>'total_pop'</li><li>'male_pop'</li><li>'female_pop'</li><li>'white_pop'</li><li>'black_pop'</li><li>'asian_pop'</li><li>'hispanic_pop'</li><li>'amerindian_pop'</li><li>'other_race_pop'</li><li>'median_income'</li><li>'income_less_50K'</li><li>'income_50K_100K'</li><li>'income_100K_150K'</li><li>'income_150K_more'</li><li>'rent_under_50_percent'</li><li>'rent_over_50_percent'</li><li>'median_age'</li><li>'male_0_20'</li><li>'male_21_49'</li><li>'male_50_above'</li><li>'female_0_20'</li><li>'female_21_49'</li><li>'female_50_above'</li><li>'unemployed_pop'</li><li>'employed_pop'</li><li>'commute'</li><li>'worked_at_home'</li><li>'walked_to_work'</li><li>'retail_and_recreation_percent_change_from_baseline'</li><li>'grocery_and_pharmacy_percent_change_from_baseline'</li><li>'parks_percent_change_from_baseline'</li><li>'transit_stations_percent_change_from_baseline'</li><li>'workplaces_percent_change_from_baseline'</li><li>'residential_percent_change_from_baseline'</li><li>'cases_per_10000'</li><li>'deaths_per_10000'</li><li>'death_per_case'</li></ol>\n"
      ],
      "text/latex": [
       "\\begin{enumerate*}\n",
       "\\item 'county\\_name'\n",
       "\\item 'confirmed\\_cases'\n",
       "\\item 'deaths'\n",
       "\\item 'total\\_pop'\n",
       "\\item 'male\\_pop'\n",
       "\\item 'female\\_pop'\n",
       "\\item 'white\\_pop'\n",
       "\\item 'black\\_pop'\n",
       "\\item 'asian\\_pop'\n",
       "\\item 'hispanic\\_pop'\n",
       "\\item 'amerindian\\_pop'\n",
       "\\item 'other\\_race\\_pop'\n",
       "\\item 'median\\_income'\n",
       "\\item 'income\\_less\\_50K'\n",
       "\\item 'income\\_50K\\_100K'\n",
       "\\item 'income\\_100K\\_150K'\n",
       "\\item 'income\\_150K\\_more'\n",
       "\\item 'rent\\_under\\_50\\_percent'\n",
       "\\item 'rent\\_over\\_50\\_percent'\n",
       "\\item 'median\\_age'\n",
       "\\item 'male\\_0\\_20'\n",
       "\\item 'male\\_21\\_49'\n",
       "\\item 'male\\_50\\_above'\n",
       "\\item 'female\\_0\\_20'\n",
       "\\item 'female\\_21\\_49'\n",
       "\\item 'female\\_50\\_above'\n",
       "\\item 'unemployed\\_pop'\n",
       "\\item 'employed\\_pop'\n",
       "\\item 'commute'\n",
       "\\item 'worked\\_at\\_home'\n",
       "\\item 'walked\\_to\\_work'\n",
       "\\item 'retail\\_and\\_recreation\\_percent\\_change\\_from\\_baseline'\n",
       "\\item 'grocery\\_and\\_pharmacy\\_percent\\_change\\_from\\_baseline'\n",
       "\\item 'parks\\_percent\\_change\\_from\\_baseline'\n",
       "\\item 'transit\\_stations\\_percent\\_change\\_from\\_baseline'\n",
       "\\item 'workplaces\\_percent\\_change\\_from\\_baseline'\n",
       "\\item 'residential\\_percent\\_change\\_from\\_baseline'\n",
       "\\item 'cases\\_per\\_10000'\n",
       "\\item 'deaths\\_per\\_10000'\n",
       "\\item 'death\\_per\\_case'\n",
       "\\end{enumerate*}\n"
      ],
      "text/markdown": [
       "1. 'county_name'\n",
       "2. 'confirmed_cases'\n",
       "3. 'deaths'\n",
       "4. 'total_pop'\n",
       "5. 'male_pop'\n",
       "6. 'female_pop'\n",
       "7. 'white_pop'\n",
       "8. 'black_pop'\n",
       "9. 'asian_pop'\n",
       "10. 'hispanic_pop'\n",
       "11. 'amerindian_pop'\n",
       "12. 'other_race_pop'\n",
       "13. 'median_income'\n",
       "14. 'income_less_50K'\n",
       "15. 'income_50K_100K'\n",
       "16. 'income_100K_150K'\n",
       "17. 'income_150K_more'\n",
       "18. 'rent_under_50_percent'\n",
       "19. 'rent_over_50_percent'\n",
       "20. 'median_age'\n",
       "21. 'male_0_20'\n",
       "22. 'male_21_49'\n",
       "23. 'male_50_above'\n",
       "24. 'female_0_20'\n",
       "25. 'female_21_49'\n",
       "26. 'female_50_above'\n",
       "27. 'unemployed_pop'\n",
       "28. 'employed_pop'\n",
       "29. 'commute'\n",
       "30. 'worked_at_home'\n",
       "31. 'walked_to_work'\n",
       "32. 'retail_and_recreation_percent_change_from_baseline'\n",
       "33. 'grocery_and_pharmacy_percent_change_from_baseline'\n",
       "34. 'parks_percent_change_from_baseline'\n",
       "35. 'transit_stations_percent_change_from_baseline'\n",
       "36. 'workplaces_percent_change_from_baseline'\n",
       "37. 'residential_percent_change_from_baseline'\n",
       "38. 'cases_per_10000'\n",
       "39. 'deaths_per_10000'\n",
       "40. 'death_per_case'\n",
       "\n",
       "\n"
      ],
      "text/plain": [
       " [1] \"county_name\"                                       \n",
       " [2] \"confirmed_cases\"                                   \n",
       " [3] \"deaths\"                                            \n",
       " [4] \"total_pop\"                                         \n",
       " [5] \"male_pop\"                                          \n",
       " [6] \"female_pop\"                                        \n",
       " [7] \"white_pop\"                                         \n",
       " [8] \"black_pop\"                                         \n",
       " [9] \"asian_pop\"                                         \n",
       "[10] \"hispanic_pop\"                                      \n",
       "[11] \"amerindian_pop\"                                    \n",
       "[12] \"other_race_pop\"                                    \n",
       "[13] \"median_income\"                                     \n",
       "[14] \"income_less_50K\"                                   \n",
       "[15] \"income_50K_100K\"                                   \n",
       "[16] \"income_100K_150K\"                                  \n",
       "[17] \"income_150K_more\"                                  \n",
       "[18] \"rent_under_50_percent\"                             \n",
       "[19] \"rent_over_50_percent\"                              \n",
       "[20] \"median_age\"                                        \n",
       "[21] \"male_0_20\"                                         \n",
       "[22] \"male_21_49\"                                        \n",
       "[23] \"male_50_above\"                                     \n",
       "[24] \"female_0_20\"                                       \n",
       "[25] \"female_21_49\"                                      \n",
       "[26] \"female_50_above\"                                   \n",
       "[27] \"unemployed_pop\"                                    \n",
       "[28] \"employed_pop\"                                      \n",
       "[29] \"commute\"                                           \n",
       "[30] \"worked_at_home\"                                    \n",
       "[31] \"walked_to_work\"                                    \n",
       "[32] \"retail_and_recreation_percent_change_from_baseline\"\n",
       "[33] \"grocery_and_pharmacy_percent_change_from_baseline\" \n",
       "[34] \"parks_percent_change_from_baseline\"                \n",
       "[35] \"transit_stations_percent_change_from_baseline\"     \n",
       "[36] \"workplaces_percent_change_from_baseline\"           \n",
       "[37] \"residential_percent_change_from_baseline\"          \n",
       "[38] \"cases_per_10000\"                                   \n",
       "[39] \"deaths_per_10000\"                                  \n",
       "[40] \"death_per_case\"                                    "
      ]
     },
     "metadata": {},
     "output_type": "display_data"
    }
   ],
   "source": [
    "# Check for the added columns\n",
    "names(dataset)"
   ]
  },
  {
   "cell_type": "code",
   "execution_count": 175,
   "id": "27e58c6f-0dfd-49da-a299-6a33914bb4c3",
   "metadata": {},
   "outputs": [],
   "source": [
    "# Select the features for the dataset\n",
    "dataset_select <-  dataset %>% select(county_name, total_pop, hispanic_pop, black_pop, male_50_above, female_50_above,\n",
    "                                      income_50K_100K, rent_over_50_percent, commute, worked_at_home, transit_stations_percent_change_from_baseline, \n",
    "                                      workplaces_percent_change_from_baseline, \n",
    "                                      cases_per_10000, deaths_per_10000, death_per_case)"
   ]
  },
  {
   "cell_type": "code",
   "execution_count": 176,
   "id": "d618410f-a98e-4a81-9b8e-4d27ce0bd7a2",
   "metadata": {},
   "outputs": [],
   "source": [
    "# Normalize by population\n",
    "dataset_select <- dataset_select %>% mutate(\n",
    "  hispanic_pop = hispanic_pop / total_pop, \n",
    "  black_pop = black_pop / total_pop,\n",
    "  male_50_above = male_50_above / total_pop, \n",
    "  female_50_above = female_50_above / total_pop, \n",
    "  income_50K_100K = income_50K_100K / total_pop, \n",
    "  rent_over_50_percent = rent_over_50_percent / total_pop, \n",
    "  commute = commute / total_pop,\n",
    "  worked_at_home = worked_at_home/ total_pop, \n",
    "  )"
   ]
  },
  {
   "cell_type": "code",
   "execution_count": 177,
   "id": "7d3c7f02-c7a8-4538-b2a4-fa77a23cbe16",
   "metadata": {},
   "outputs": [
    {
     "data": {
      "text/plain": [
       "          county_name    total_pop        hispanic_pop       black_pop      \n",
       " Anderson County:  1   Min.   :    600   Min.   :0.03454   Min.   :0.00000  \n",
       " Andrews County :  1   1st Qu.:  12635   1st Qu.:0.17705   1st Qu.:0.01504  \n",
       " Angelina County:  1   Median :  24898   Median :0.25266   Median :0.05254  \n",
       " Aransas County :  1   Mean   : 133668   Mean   :0.34352   Mean   :0.07161  \n",
       " Archer County  :  1   3rd Qu.:  66671   3rd Qu.:0.48529   3rd Qu.:0.10209  \n",
       " Atascosa County:  1   Max.   :4525519   Max.   :0.99185   Max.   :0.33743  \n",
       " (Other)        :198                                                        \n",
       " male_50_above    female_50_above  income_50K_100K   rent_over_50_percent\n",
       " Min.   :0.1067   Min.   :0.1192   Min.   :0.04964   Min.   :0.00000     \n",
       " 1st Qu.:0.1564   1st Qu.:0.1698   1st Qu.:0.09331   1st Qu.:0.01207     \n",
       " Median :0.1857   Median :0.1949   Median :0.10466   Median :0.01587     \n",
       " Mean   :0.1854   Mean   :0.2004   Mean   :0.10275   Mean   :0.01745     \n",
       " 3rd Qu.:0.2116   3rd Qu.:0.2305   3rd Qu.:0.11199   3rd Qu.:0.02180     \n",
       " Max.   :0.3057   Max.   :0.3554   Max.   :0.14785   Max.   :0.06957     \n",
       "                                                                         \n",
       "    commute       worked_at_home    \n",
       " Min.   :0.4660   Min.   :0.000000  \n",
       " 1st Qu.:0.7021   1st Qu.:0.009951  \n",
       " Median :0.7697   Median :0.014673  \n",
       " Mean   :0.7608   Mean   :0.015404  \n",
       " 3rd Qu.:0.8285   3rd Qu.:0.018924  \n",
       " Max.   :0.9794   Max.   :0.045182  \n",
       "                                    \n",
       " transit_stations_percent_change_from_baseline\n",
       " Min.   :-61.00                               \n",
       " 1st Qu.:-11.06                               \n",
       " Median :-11.06                               \n",
       " Mean   :-11.06                               \n",
       " 3rd Qu.:-11.06                               \n",
       " Max.   : 76.00                               \n",
       "                                              \n",
       " workplaces_percent_change_from_baseline cases_per_10000  deaths_per_10000\n",
       " Min.   :-49.00                          Min.   : 231.1   Min.   : 3.309  \n",
       " 1st Qu.:-27.00                          1st Qu.: 590.0   1st Qu.:12.016  \n",
       " Median :-21.00                          Median : 754.7   Median :16.478  \n",
       " Mean   :-22.69                          Mean   : 785.7   Mean   :17.705  \n",
       " 3rd Qu.:-17.00                          3rd Qu.: 942.4   3rd Qu.:22.083  \n",
       " Max.   : -8.00                          Max.   :1829.0   Max.   :54.608  \n",
       "                                                                          \n",
       " death_per_case    \n",
       " Min.   :0.003789  \n",
       " 1st Qu.:0.015099  \n",
       " Median :0.022190  \n",
       " Mean   :0.023541  \n",
       " 3rd Qu.:0.029217  \n",
       " Max.   :0.093220  \n",
       "                   "
      ]
     },
     "metadata": {},
     "output_type": "display_data"
    }
   ],
   "source": [
    "summary(dataset_select)"
   ]
  },
  {
   "cell_type": "code",
   "execution_count": 179,
   "id": "f86ae02c-d819-48d9-95af-d97ebe1c47f4",
   "metadata": {},
   "outputs": [],
   "source": [
    "# Check for correlation\n",
    "library(seriation)\n",
    "\n",
    "cm <- cor(dataset_select %>% select_if(is.numeric) %>% na.omit)"
   ]
  },
  {
   "cell_type": "code",
   "execution_count": 184,
   "id": "42e63ff5-4fab-4f09-8fd8-bd49654cdd56",
   "metadata": {},
   "outputs": [
    {
     "data": {
      "image/png": "[encoded data removed]",
      "text/plain": [
       "plot without title"
      ]
     },
     "metadata": {
      "image/png": {
       "height": 420,
       "width": 420
      }
     },
     "output_type": "display_data"
    }
   ],
   "source": [
    "hmap(cm, margins = c(5,5))"
   ]
  },
  {
   "cell_type": "markdown",
   "id": "ad887272-5f6c-4f0a-b9b1-36b9fc45163b",
   "metadata": {},
   "source": [
    "## Create Class Variable"
   ]
  },
  {
   "cell_type": "code",
   "execution_count": 202,
   "id": "8e2c7d17-b035-49f0-99bd-55afc596d5f2",
   "metadata": {},
   "outputs": [],
   "source": [
    "# Label \"high\" for the counties with deaths per 10000 that is greater than 10\n",
    "dataset_select <- dataset_select %>% mutate(high = as.factor(deaths_per_10000 > 16))"
   ]
  },
  {
   "cell_type": "code",
   "execution_count": 203,
   "id": "2adb25d8-f70e-4cea-9866-d6e6010683c6",
   "metadata": {},
   "outputs": [
    {
     "data": {
      "text/plain": [
       ".\n",
       "FALSE  TRUE \n",
       "  100   104 "
      ]
     },
     "metadata": {},
     "output_type": "display_data"
    }
   ],
   "source": [
    "# Check for class imbalance\n",
    "dataset_select %>% pull(bad) %>% table()"
   ]
  },
  {
   "cell_type": "markdown",
   "id": "ea99dc3b-a706-4292-af36-fbcb16899ffc",
   "metadata": {},
   "source": [
    "With threshold of 16, the dataset is close to perfectly balanced."
   ]
  },
  {
   "cell_type": "code",
   "execution_count": 205,
   "id": "162c105f-fbcb-451e-937e-3c0e0770c63b",
   "metadata": {},
   "outputs": [
    {
     "data": {
      "text/html": [
       "<table class=\"dataframe\">\n",
       "<caption>A tibble: 204 × 2</caption>\n",
       "<thead>\n",
       "\t<tr><th scope=col>county_name</th><th scope=col>high_pct</th></tr>\n",
       "\t<tr><th scope=col>&lt;fct&gt;</th><th scope=col>&lt;dbl&gt;</th></tr>\n",
       "</thead>\n",
       "<tbody>\n",
       "\t<tr><td>Andrews County   </td><td>1</td></tr>\n",
       "\t<tr><td>Angelina County  </td><td>1</td></tr>\n",
       "\t<tr><td>Atascosa County  </td><td>1</td></tr>\n",
       "\t<tr><td>Bailey County    </td><td>1</td></tr>\n",
       "\t<tr><td>Bee County       </td><td>1</td></tr>\n",
       "\t<tr><td>Brooks County    </td><td>1</td></tr>\n",
       "\t<tr><td>Brown County     </td><td>1</td></tr>\n",
       "\t<tr><td>Callahan County  </td><td>1</td></tr>\n",
       "\t<tr><td>Cameron County   </td><td>1</td></tr>\n",
       "\t<tr><td>Camp County      </td><td>1</td></tr>\n",
       "\t<tr><td>Carson County    </td><td>1</td></tr>\n",
       "\t<tr><td>Cass County      </td><td>1</td></tr>\n",
       "\t<tr><td>Castro County    </td><td>1</td></tr>\n",
       "\t<tr><td>Cherokee County  </td><td>1</td></tr>\n",
       "\t<tr><td>Childress County </td><td>1</td></tr>\n",
       "\t<tr><td>Coleman County   </td><td>1</td></tr>\n",
       "\t<tr><td>Comanche County  </td><td>1</td></tr>\n",
       "\t<tr><td>Crane County     </td><td>1</td></tr>\n",
       "\t<tr><td>Crosby County    </td><td>1</td></tr>\n",
       "\t<tr><td>Culberson County </td><td>1</td></tr>\n",
       "\t<tr><td>Dallam County    </td><td>1</td></tr>\n",
       "\t<tr><td>Dawson County    </td><td>1</td></tr>\n",
       "\t<tr><td>Deaf Smith County</td><td>1</td></tr>\n",
       "\t<tr><td>DeWitt County    </td><td>1</td></tr>\n",
       "\t<tr><td>Duval County     </td><td>1</td></tr>\n",
       "\t<tr><td>Ector County     </td><td>1</td></tr>\n",
       "\t<tr><td>El Paso County   </td><td>1</td></tr>\n",
       "\t<tr><td>Fannin County    </td><td>1</td></tr>\n",
       "\t<tr><td>Fayette County   </td><td>1</td></tr>\n",
       "\t<tr><td>Gaines County    </td><td>1</td></tr>\n",
       "\t<tr><td>⋮</td><td>⋮</td></tr>\n",
       "\t<tr><td>Montgomery County </td><td>0</td></tr>\n",
       "\t<tr><td>Morris County     </td><td>0</td></tr>\n",
       "\t<tr><td>Navarro County    </td><td>0</td></tr>\n",
       "\t<tr><td>Newton County     </td><td>0</td></tr>\n",
       "\t<tr><td>Nueces County     </td><td>0</td></tr>\n",
       "\t<tr><td>Oldham County     </td><td>0</td></tr>\n",
       "\t<tr><td>Orange County     </td><td>0</td></tr>\n",
       "\t<tr><td>Parker County     </td><td>0</td></tr>\n",
       "\t<tr><td>Polk County       </td><td>0</td></tr>\n",
       "\t<tr><td>Randall County    </td><td>0</td></tr>\n",
       "\t<tr><td>Robertson County  </td><td>0</td></tr>\n",
       "\t<tr><td>Rockwall County   </td><td>0</td></tr>\n",
       "\t<tr><td>Rusk County       </td><td>0</td></tr>\n",
       "\t<tr><td>San Jacinto County</td><td>0</td></tr>\n",
       "\t<tr><td>Smith County      </td><td>0</td></tr>\n",
       "\t<tr><td>Somervell County  </td><td>0</td></tr>\n",
       "\t<tr><td>Tarrant County    </td><td>0</td></tr>\n",
       "\t<tr><td>Travis County     </td><td>0</td></tr>\n",
       "\t<tr><td>Trinity County    </td><td>0</td></tr>\n",
       "\t<tr><td>Tyler County      </td><td>0</td></tr>\n",
       "\t<tr><td>Upshur County     </td><td>0</td></tr>\n",
       "\t<tr><td>Van Zandt County  </td><td>0</td></tr>\n",
       "\t<tr><td>Victoria County   </td><td>0</td></tr>\n",
       "\t<tr><td>Walker County     </td><td>0</td></tr>\n",
       "\t<tr><td>Waller County     </td><td>0</td></tr>\n",
       "\t<tr><td>Ward County       </td><td>0</td></tr>\n",
       "\t<tr><td>Williamson County </td><td>0</td></tr>\n",
       "\t<tr><td>Wilson County     </td><td>0</td></tr>\n",
       "\t<tr><td>Wise County       </td><td>0</td></tr>\n",
       "\t<tr><td>Zapata County     </td><td>0</td></tr>\n",
       "</tbody>\n",
       "</table>\n"
      ],
      "text/latex": [
       "A tibble: 204 × 2\n",
       "\\begin{tabular}{ll}\n",
       " county\\_name & high\\_pct\\\\\n",
       " <fct> & <dbl>\\\\\n",
       "\\hline\n",
       "\t Andrews County    & 1\\\\\n",
       "\t Angelina County   & 1\\\\\n",
       "\t Atascosa County   & 1\\\\\n",
       "\t Bailey County     & 1\\\\\n",
       "\t Bee County        & 1\\\\\n",
       "\t Brooks County     & 1\\\\\n",
       "\t Brown County      & 1\\\\\n",
       "\t Callahan County   & 1\\\\\n",
       "\t Cameron County    & 1\\\\\n",
       "\t Camp County       & 1\\\\\n",
       "\t Carson County     & 1\\\\\n",
       "\t Cass County       & 1\\\\\n",
       "\t Castro County     & 1\\\\\n",
       "\t Cherokee County   & 1\\\\\n",
       "\t Childress County  & 1\\\\\n",
       "\t Coleman County    & 1\\\\\n",
       "\t Comanche County   & 1\\\\\n",
       "\t Crane County      & 1\\\\\n",
       "\t Crosby County     & 1\\\\\n",
       "\t Culberson County  & 1\\\\\n",
       "\t Dallam County     & 1\\\\\n",
       "\t Dawson County     & 1\\\\\n",
       "\t Deaf Smith County & 1\\\\\n",
       "\t DeWitt County     & 1\\\\\n",
       "\t Duval County      & 1\\\\\n",
       "\t Ector County      & 1\\\\\n",
       "\t El Paso County    & 1\\\\\n",
       "\t Fannin County     & 1\\\\\n",
       "\t Fayette County    & 1\\\\\n",
       "\t Gaines County     & 1\\\\\n",
       "\t ⋮ & ⋮\\\\\n",
       "\t Montgomery County  & 0\\\\\n",
       "\t Morris County      & 0\\\\\n",
       "\t Navarro County     & 0\\\\\n",
       "\t Newton County      & 0\\\\\n",
       "\t Nueces County      & 0\\\\\n",
       "\t Oldham County      & 0\\\\\n",
       "\t Orange County      & 0\\\\\n",
       "\t Parker County      & 0\\\\\n",
       "\t Polk County        & 0\\\\\n",
       "\t Randall County     & 0\\\\\n",
       "\t Robertson County   & 0\\\\\n",
       "\t Rockwall County    & 0\\\\\n",
       "\t Rusk County        & 0\\\\\n",
       "\t San Jacinto County & 0\\\\\n",
       "\t Smith County       & 0\\\\\n",
       "\t Somervell County   & 0\\\\\n",
       "\t Tarrant County     & 0\\\\\n",
       "\t Travis County      & 0\\\\\n",
       "\t Trinity County     & 0\\\\\n",
       "\t Tyler County       & 0\\\\\n",
       "\t Upshur County      & 0\\\\\n",
       "\t Van Zandt County   & 0\\\\\n",
       "\t Victoria County    & 0\\\\\n",
       "\t Walker County      & 0\\\\\n",
       "\t Waller County      & 0\\\\\n",
       "\t Ward County        & 0\\\\\n",
       "\t Williamson County  & 0\\\\\n",
       "\t Wilson County      & 0\\\\\n",
       "\t Wise County        & 0\\\\\n",
       "\t Zapata County      & 0\\\\\n",
       "\\end{tabular}\n"
      ],
      "text/markdown": [
       "\n",
       "A tibble: 204 × 2\n",
       "\n",
       "| county_name &lt;fct&gt; | high_pct &lt;dbl&gt; |\n",
       "|---|---|\n",
       "| Andrews County    | 1 |\n",
       "| Angelina County   | 1 |\n",
       "| Atascosa County   | 1 |\n",
       "| Bailey County     | 1 |\n",
       "| Bee County        | 1 |\n",
       "| Brooks County     | 1 |\n",
       "| Brown County      | 1 |\n",
       "| Callahan County   | 1 |\n",
       "| Cameron County    | 1 |\n",
       "| Camp County       | 1 |\n",
       "| Carson County     | 1 |\n",
       "| Cass County       | 1 |\n",
       "| Castro County     | 1 |\n",
       "| Cherokee County   | 1 |\n",
       "| Childress County  | 1 |\n",
       "| Coleman County    | 1 |\n",
       "| Comanche County   | 1 |\n",
       "| Crane County      | 1 |\n",
       "| Crosby County     | 1 |\n",
       "| Culberson County  | 1 |\n",
       "| Dallam County     | 1 |\n",
       "| Dawson County     | 1 |\n",
       "| Deaf Smith County | 1 |\n",
       "| DeWitt County     | 1 |\n",
       "| Duval County      | 1 |\n",
       "| Ector County      | 1 |\n",
       "| El Paso County    | 1 |\n",
       "| Fannin County     | 1 |\n",
       "| Fayette County    | 1 |\n",
       "| Gaines County     | 1 |\n",
       "| ⋮ | ⋮ |\n",
       "| Montgomery County  | 0 |\n",
       "| Morris County      | 0 |\n",
       "| Navarro County     | 0 |\n",
       "| Newton County      | 0 |\n",
       "| Nueces County      | 0 |\n",
       "| Oldham County      | 0 |\n",
       "| Orange County      | 0 |\n",
       "| Parker County      | 0 |\n",
       "| Polk County        | 0 |\n",
       "| Randall County     | 0 |\n",
       "| Robertson County   | 0 |\n",
       "| Rockwall County    | 0 |\n",
       "| Rusk County        | 0 |\n",
       "| San Jacinto County | 0 |\n",
       "| Smith County       | 0 |\n",
       "| Somervell County   | 0 |\n",
       "| Tarrant County     | 0 |\n",
       "| Travis County      | 0 |\n",
       "| Trinity County     | 0 |\n",
       "| Tyler County       | 0 |\n",
       "| Upshur County      | 0 |\n",
       "| Van Zandt County   | 0 |\n",
       "| Victoria County    | 0 |\n",
       "| Walker County      | 0 |\n",
       "| Waller County      | 0 |\n",
       "| Ward County        | 0 |\n",
       "| Williamson County  | 0 |\n",
       "| Wilson County      | 0 |\n",
       "| Wise County        | 0 |\n",
       "| Zapata County      | 0 |\n",
       "\n"
      ],
      "text/plain": [
       "    county_name        high_pct\n",
       "1   Andrews County     1       \n",
       "2   Angelina County    1       \n",
       "3   Atascosa County    1       \n",
       "4   Bailey County      1       \n",
       "5   Bee County         1       \n",
       "6   Brooks County      1       \n",
       "7   Brown County       1       \n",
       "8   Callahan County    1       \n",
       "9   Cameron County     1       \n",
       "10  Camp County        1       \n",
       "11  Carson County      1       \n",
       "12  Cass County        1       \n",
       "13  Castro County      1       \n",
       "14  Cherokee County    1       \n",
       "15  Childress County   1       \n",
       "16  Coleman County     1       \n",
       "17  Comanche County    1       \n",
       "18  Crane County       1       \n",
       "19  Crosby County      1       \n",
       "20  Culberson County   1       \n",
       "21  Dallam County      1       \n",
       "22  Dawson County      1       \n",
       "23  Deaf Smith County  1       \n",
       "24  DeWitt County      1       \n",
       "25  Duval County       1       \n",
       "26  Ector County       1       \n",
       "27  El Paso County     1       \n",
       "28  Fannin County      1       \n",
       "29  Fayette County     1       \n",
       "30  Gaines County      1       \n",
       "⋮   ⋮                  ⋮       \n",
       "175 Montgomery County  0       \n",
       "176 Morris County      0       \n",
       "177 Navarro County     0       \n",
       "178 Newton County      0       \n",
       "179 Nueces County      0       \n",
       "180 Oldham County      0       \n",
       "181 Orange County      0       \n",
       "182 Parker County      0       \n",
       "183 Polk County        0       \n",
       "184 Randall County     0       \n",
       "185 Robertson County   0       \n",
       "186 Rockwall County    0       \n",
       "187 Rusk County        0       \n",
       "188 San Jacinto County 0       \n",
       "189 Smith County       0       \n",
       "190 Somervell County   0       \n",
       "191 Tarrant County     0       \n",
       "192 Travis County      0       \n",
       "193 Trinity County     0       \n",
       "194 Tyler County       0       \n",
       "195 Upshur County      0       \n",
       "196 Van Zandt County   0       \n",
       "197 Victoria County    0       \n",
       "198 Walker County      0       \n",
       "199 Waller County      0       \n",
       "200 Ward County        0       \n",
       "201 Williamson County  0       \n",
       "202 Wilson County      0       \n",
       "203 Wise County        0       \n",
       "204 Zapata County      0       "
      ]
     },
     "metadata": {},
     "output_type": "display_data"
    }
   ],
   "source": [
    "# Group the counties by category in descending order\n",
    "dataset_select %>% group_by(county_name) %>% \n",
    "  summarize(high_pct = sum(high == TRUE)/n()) %>%\n",
    "  arrange(desc(high_pct))"
   ]
  },
  {
   "cell_type": "markdown",
   "id": "e9485d74-786a-4a4f-91ec-0ca2e7d64172",
   "metadata": {},
   "source": [
    "## Test & Train split"
   ]
  },
  {
   "cell_type": "markdown",
   "id": "e0b892c8-66fe-453a-a66a-de7a998bd494",
   "metadata": {},
   "source": [
    "## Build Model 1"
   ]
  },
  {
   "cell_type": "markdown",
   "id": "e33bf3cf-b9c2-4258-83c0-d8e8068f2966",
   "metadata": {},
   "source": [
    "## Accuracy & Evaluation"
   ]
  },
  {
   "cell_type": "code",
   "execution_count": null,
   "id": "d30cb80e-c12b-465c-861f-574f74d6d8a1",
   "metadata": {},
   "outputs": [],
   "source": []
  }
 ],
 "metadata": {
  "kernelspec": {
   "display_name": "R",
   "language": "R",
   "name": "ir"
  },
  "language_info": {
   "codemirror_mode": "r",
   "file_extension": ".r",
   "mimetype": "text/x-r-source",
   "name": "R",
   "pygments_lexer": "r",
   "version": "4.4.1"
  }
 },
 "nbformat": 4,
 "nbformat_minor": 5
}
